{
 "cells": [
  {
   "cell_type": "code",
   "execution_count": 1,
   "id": "d912f271-2de6-47b0-901f-703700997549",
   "metadata": {},
   "outputs": [],
   "source": [
    "mutable struct House \n",
    "    # x_location :: Int32  # y_location :: Int32\n",
    "    available :: Int16 # [1 -> \"vacant_no_owner\", 2-> \"for_sale\", 3-> \"for_rent\", \"for_sale_rent\", 4->\"occupied_unavailable\"]\n",
    "    owned_by :: Int32 # id of household who owns it \n",
    "    price_previous :: Int32\n",
    "    price_current :: Int32\n",
    "end\n",
    "#"
   ]
  },
  {
   "cell_type": "code",
   "execution_count": 2,
   "id": "7616451c-e8d2-41c9-8a07-e59d4dd2c789",
   "metadata": {},
   "outputs": [],
   "source": [
    "mutable struct Agent #household is the agent of the simulation\n",
    "    income_other :: Int32\n",
    "    income_rental :: Int32\n",
    "    primary_residence :: Int32 #index to where the  as a primary residence 1(state landlord) is homeless\n",
    "    properties :: Vector{Int32} #which house id does this agent own 1 is initial state\n",
    "    # last_bid_House :: Int32 # = 0 is initial state\n",
    "    # last_bid_price :: Int32 # = 0 is initial state\n",
    "    total_debt :: Int32\n",
    "end  "
   ]
  },
  {
   "cell_type": "code",
   "execution_count": 3,
   "id": "162f341c-5cc9-4b5f-b53d-ffcfa9f981ba",
   "metadata": {},
   "outputs": [
    {
     "data": {
      "text/plain": [
       "1-element Vector{House}:\n",
       " House(2, 1, 500000, 500000)"
      ]
     },
     "execution_count": 3,
     "metadata": {},
     "output_type": "execute_result"
    }
   ],
   "source": [
    "property_market = House[] \n",
    "push!(property_market, House(2, 1, 500000, 500000)) \n",
    "#initialise one property 'for_sale', owned by state landlord 1"
   ]
  },
  {
   "cell_type": "code",
   "execution_count": 4,
   "id": "12dcd7ed-3b50-4e16-9d7b-0572a2a8fcec",
   "metadata": {},
   "outputs": [
    {
     "data": {
      "text/plain": [
       "2-element Vector{Agent}:\n",
       " Agent(200000, 0, 1, Int32[], 100000)\n",
       " Agent(100000, 0, 1, Int32[], 50000)"
      ]
     },
     "execution_count": 4,
     "metadata": {},
     "output_type": "execute_result"
    }
   ],
   "source": [
    "agent_list = Agent[]\n",
    "no_properties = Vector{Int64}()\n",
    "push!(agent_list, Agent(200000, 0, 1, no_properties, 100000))\n",
    "push!(agent_list, Agent(100000, 0, 1, no_properties, 50000))"
   ]
  },
  {
   "cell_type": "code",
   "execution_count": 5,
   "id": "6a4a9e8a-6ba8-4f9e-a303-e78cb968efcf",
   "metadata": {},
   "outputs": [],
   "source": [
    "debt_to_income = 10;\n",
    "interest_rate = 0.01;\n",
    "downpayment_ratio = 0.2;\n",
    "central_bank_fund = 10_000_000;\n",
    "bid_ask_spread = -0.05:0.001:0.05;"
   ]
  },
  {
   "cell_type": "code",
   "execution_count": 6,
   "id": "d826c48f-d262-4dd9-9ea6-fe319327bd87",
   "metadata": {},
   "outputs": [
    {
     "data": {
      "text/plain": [
       "allocate_house (generic function with 1 method)"
      ]
     },
     "execution_count": 6,
     "metadata": {},
     "output_type": "execute_result"
    }
   ],
   "source": [
    "# allocate one particular property to first buyer\n",
    "function allocate_house(House, Agent) #return 0 no win, return 1 if bid is accepted\n",
    "    #add property in question to the debt and check debt_to_income\n",
    "    if (House.price_current + Agent.total_debt) > debt_to_income * (Agent.income_other + Agent.income_rental)\n",
    "            return 0 #just exit if Agent not able to rack up more debt\n",
    "        end\n",
    "    #passed debt servicing test, now bid for property\n",
    "    # nego_loop = 3; #max number of negotiation rounds\n",
    "    bid_price = House.price_current + (House.price_current * rand(bid_ask_spread))\n",
    "    if (bid_price) >= House.price_current\n",
    "        Agent.total_debt += bid_price\n",
    "        return 1\n",
    "    end\n",
    "\n",
    "    return nothing\n",
    "end \n",
    "        \n",
    "        \n",
    "        \n",
    "    \n",
    "    "
   ]
  },
  {
   "cell_type": "code",
   "execution_count": 7,
   "id": "ae577d0d-ab75-4fba-9cd7-58b01fe37112",
   "metadata": {},
   "outputs": [
    {
     "name": "stdout",
     "output_type": "stream",
     "text": [
      "House not sold\n",
      "House allocated to: Agent(100000, 0, 1, Int32[], 565500)\n"
     ]
    }
   ],
   "source": [
    "for i in agent_list\n",
    "    if (allocate_house(property_market[1], i)==1)\n",
    "        println(\"House allocated to: \", i)\n",
    "    else\n",
    "        println(\"House not sold\")\n",
    "    end\n",
    "end"
   ]
  },
  {
   "cell_type": "code",
   "execution_count": null,
   "id": "08474622-bf3a-406c-a66d-2ce915e4d32d",
   "metadata": {},
   "outputs": [],
   "source": []
  }
 ],
 "metadata": {
  "kernelspec": {
   "display_name": "Julia 1.8.5",
   "language": "julia",
   "name": "julia-1.8"
  },
  "language_info": {
   "file_extension": ".jl",
   "mimetype": "application/julia",
   "name": "julia",
   "version": "1.8.5"
  }
 },
 "nbformat": 4,
 "nbformat_minor": 5
}
