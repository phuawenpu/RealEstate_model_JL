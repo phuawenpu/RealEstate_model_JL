{
 "cells": [
  {
   "cell_type": "markdown",
   "id": "1272e99b-e24b-4d7e-bf73-970cb7e0ade4",
   "metadata": {},
   "source": [
    "## Real-estate modelling in Julia\n",
    "Author: Phua Wen Pu wenpu_phua@mymail.sutd.edu.sg\n",
    "\n",
    "### Introduction:\n",
    "My thesis research area is in blockchain and architecture, specifically how blockchain can be used to improve current methods of real estate development with a positive architectural outcome. Instead of focusing on the blockchain itself (e.g. the simulation of an Ethereum node, or particular data structures within the blockchain distributed ledger), this specific project using ideas learnt from HPC to make one of the building blocks of an overall user-driven real-estate investment strategy.  The topic hence chosen was the modelling of a real estate \"market\" given existing data, parameters which will be user-input, and outcomes are probabilistic based on the input of one or many users."
   ]
  },
  {
   "cell_type": "markdown",
   "id": "d6412828-7dd3-4c81-a186-3b5c5574428d",
   "metadata": {},
   "source": [
    "### Agent-based modelling \n",
    "As it was the my first case-study Julia program, the initial research was focused on what makes a reasonable model of real estate activities, this led to the well published method of the economist Thomas Schelling from 1971: <a href=\"https://en.wikipedia.org/wiki/Schelling%27s_model_of_segregation\"> see Schelling's model of segregation </a>, which was influenced by Conway's Game of Life in 1970. Since then, there has been a new disciple of agent based modelling (ABM) for real estate and other spatial disciplines in the social sciences. I did not find an over-arching comprehensive model for real estate <b>market</b> ABM, but there have been recent summaries which aligned with this particular topic of simulating the market and potentially linking it to blockchain technologies, namely, <a href=\"https://www.bvc.dk/media/1194/an-agent-based-model-of-the-housing-market-thesis.pdf\">Master's thesis by Christian Langholz Carstensen</a> and <a href=\"https://studenttheses.uu.nl/bitstream/handle/20.500.12932/39624/Agent-based%20modeling%20as%20a%20tool%20to%20support%20decision%20making%20rules%20used%20by%20smart%20contracts%20in%20DLT%20based%20communities.pdf?sequence=1\">Master's thesis by Tom Peirs</a>"
   ]
  },
  {
   "cell_type": "markdown",
   "id": "d83c3be7-5b4a-4e5a-a2d8-4111e092b4ff",
   "metadata": {},
   "source": [
    "<img src=\"ODD_protocol.png\" width=\"450\" align=\"center\">"
   ]
  },
  {
   "cell_type": "markdown",
   "id": "427f749e-fc99-45bd-b822-33fe1d247a5c",
   "metadata": {},
   "source": [
    "The above image was taken from the book by Steven F. Railsback and Volker Grimm's book and course <a href=\"https://www.railsback-grimm-abm-book.com/book-objectives-2nd-edition/\"> Agent-based and Individual-based modeling </a>, it is an outline of a typical method of developing ABM, they call the ODD protocol (it stands for Overview, Design concepts and Details). Due to the time constraint, only a part of the ODD protocol was looked into:"
   ]
  },
  {
   "cell_type": "markdown",
   "id": "3319b79b-69b6-4fee-8c24-5c9cf5fb635a",
   "metadata": {},
   "source": [
    "1. The purpose and patterns I was looking for was a change in price should be endogenous to the model, once initial input parameters were allocated.  The difficulty highlighted in the thesis by Carstensen above, was that other published ABM real estate models simply assumed that there was a match in the initial state of housing buyers and sellers.\n",
    "\n",
    "2. The assumption was that all housing market activity was going to be initiated by income in some way. This model concentrates only on rental situations, that is, household rental (landlords' offers) and tenancies (agent bids). The state variables are the global variables which were predefined, such as interest rate, inflation rate, agent population size (i.e. number of households). During the whole course of development, I considered scale of population to be the main factor to increase in order for the simulation to take advantage of HPC concepts. This meant that initially, during the testing phases small percentages such as 0.006% of the total number of households was modelled, and this can be increased if there was no compute or memory-bound to 50%. The difficulty with the current model scaling beyond 50% is a question of current algorithm definition (which can be reworked): if 50% of households are renters, then 50% of households are the landlords. Currently, the market is a one-good economy, i.e. it only considers renters and rentals. In the Julia code, the renters are prefixed as agents_ their corresponding abilities to spend are prefixed as budget_ and the rentals/tenancies are prefixed as house_. The next idea of scale is to consider the multifarious goods and services available, the current model definition allows for such scaling, i.e. it is not idiosyncratic to housing market along, but since housing accounts for somewhere between 26-30% of disposable income, it would be the first to consider. If statistical data of other expenditures, e.g. transport expenditure of private hire cars were available, it is straightforward to extend the same model, albeit with a smaller time scale to model the transport expenditure market."
   ]
  },
  {
   "cell_type": "markdown",
   "id": "49c01d1b-db0d-4c56-950d-7845d6a2b63c",
   "metadata": {},
   "source": [
    "3. The simulation starts by collecting input data (in our case, household income ranked by poorest to richest decile, this is readily available from Singapore Statistics department <a href=https://www.singstat.gov.sg/find-data/search-by-theme/households/household-income/latest-data> SingStat website</a>. Retrieving data in <b>deciles</b> was motivated by an earlier attempt to look at world income from this dataset: <a href=https://github.com/jackblun/Globalinc/blob/master/GCIPrawdata.csv> from the Global Consumption and Income Project </a>, where the hope was once the model was successful, it could be re-run on the nearly 5000 other datapoints of historically proven data, and see if there were opportunities to learn from the 30-year evolution of such figures in each of the countries charted. After the monthly household income has been loaded into the respective deciles, a population sample size is chosen, and a random sampling process distributes individual agent budgets to make up the nominal size of the whole agent population being simulated, The market model, which is the recurring simulation cycle that will be describe in more detail below, takes place and at the end of each cycle, an updated graph of rental bid and ask prices is displayed. Note that at the data initialisation stage, the household rental offer prices, which are also sampled in deciles, are based on a presumed uppermost and lowermost house sale price.  Note the house-sale price is between $\\$$ 50,000 and about $\\$$ 4+ million at the midpoint of the lowermost and uppermost decile.\n"
   ]
  },
  {
   "cell_type": "markdown",
   "id": "68e9beb1-5545-4a76-a3df-dfdfb639731f",
   "metadata": {},
   "source": [
    "4. The basic interaction in the \"market\" initiates from <b>one</b> number, the budget i.e. bid price which each agent can afford. This budget, then becomes the mean, i.e. the peak of a normal probability distribution function (PDF). Using this PDF, all available input asking-prices will result in an output between 0-1 which gives the probability that such good at such ask-price will be procured by the agent. For each agent, every available good on the market is hence 'surveyed' with this PDF, the results are stored in a cache, and sorted so the highest probabilities appear at the top. This cache of probabilities, and corresponding index of willing agents is thus named a 'scoreboard'. Agents are ranked in ascending income (poorest first, richest last), while there is no necessity for income (hence budget) to be ranked, this \"market\" model considers that government intervention will likely privilege the lowest income group when it comes to queuing for housing bids.  "
   ]
  },
  {
   "cell_type": "markdown",
   "id": "8b889315-9ef3-4e12-809f-751d9bdd6f85",
   "metadata": {},
   "source": [
    "The following table is a typical list of PDF outputs for the agent which is ranked 10/72. Note that the probabilities peak at the 14th row item, which corresponds to the rental ask price that agent 10 prefers the most <p>\n",
    "<img src=\"agent_10_choices.png\" width=160px>"
   ]
  },
  {
   "cell_type": "markdown",
   "id": "4ba4b29f-2935-43e9-930b-8018179857dc",
   "metadata": {},
   "source": [
    "The following table is the sort result of the choices of available housing 1-72, index 14 appears at the top, and the index 1 (being cheapest) appears much later. <p><img src=\"agent_10_choices.png\" width=160px>"
   ]
  },
  {
   "cell_type": "markdown",
   "id": "0375812f-7d66-48c3-ba15-7182be8af7cd",
   "metadata": {},
   "source": [
    "5. Much unlike Schelling's agent based modelling which is based on cellular automaton, there are no explicit spatial constraints of the locality of the market. While Schelling's cellular automaton is an elegant abstraction, my opinion was that in 1970s the idea of an Internet connected market was less obvious and localised search assumptions can hold better, in the 2020s it should be trivial for real-world market participants to have access to hundreds of data points of rental ask-bid pricing. Bearing in mind the relative computational cost of the sort function mentioned above, the scoreboard is now extended by one more column using the 3rd, 4th, 5th... etc. up to n choices determined by some \"market visibility\" factor. The market visibility factor while simplistically assumed to be some given constant ahead of time, would in fact influence bidder behaviour in subsequent runs.  For example it may privilege capitalist hoarding of several low-priced units so as to gain control of the market, or it may influence low-bidders to exit the market early, etc.  Such behaviours were not modelled here, but hopefully in subsequent studies they can be emergent properties of a more comprehensive agent logic.  "
   ]
  },
  {
   "cell_type": "markdown",
   "id": "c9d75e3f-9ab6-4301-b49e-f6697962167a",
   "metadata": {},
   "source": [
    "The following table is the first run resultof the \"market scoreboard\" after the bids have been allocated, each row index corresponds to the particular housing which is on the market, with row 1 being the cheapest and subsequent row numbers increasing in price, the housing which remains unallocated does not appear on the scoreboard in the first two columns, i.e. the entry is 0. There is a possibility of duplicate entries on column 2, reason being the PDF from the particular agent (e.g. agent 2) allows it to choose both housing number 6 and 7, however each run of the loop will only allocate one housing per agent.  The last column, which relates to \"market visibility\" records the potential <b>bid</b> prices submitted by the agents which is winning in a second round of non-allocative auction <p><img src=\"market_scoreboard.png\" width=260px>"
   ]
  },
  {
   "cell_type": "markdown",
   "id": "7cd6a660-9a98-4e97-bba4-9cc1af37553a",
   "metadata": {},
   "source": [
    "From here on, we look at the source code itself."
   ]
  },
  {
   "cell_type": "code",
   "execution_count": 1,
   "id": "9b38d8e4-4453-422a-9c7b-75a6549563d4",
   "metadata": {
    "tags": []
   },
   "outputs": [
    {
     "data": {
      "text/plain": [
       "Main.Model_Functions"
      ]
     },
     "execution_count": 1,
     "metadata": {},
     "output_type": "execute_result"
    }
   ],
   "source": [
    "#using CUDA\n",
    "using Plots, BenchmarkTools\n",
    "include(\"./Load_Income.jl\")\n",
    "include(\"./Initialise_Data.jl\")\n",
    "include(\"./Model_Functions.jl\")"
   ]
  },
  {
   "cell_type": "markdown",
   "id": "a24bd3e4-4b4c-4b08-9414-8972af49d45c",
   "metadata": {},
   "source": [
    "In order not to crowd the main source file with too much boilerplate data initialisation code, the modules Load_Income.jl and Initialise_Data.jl contain the code to load the desired .CSV file, extrapolate the mean income in each decile into the preferred sample size.\n",
    "\n",
    "The Model_Functions.jl "
   ]
  },
  {
   "cell_type": "code",
   "execution_count": 2,
   "id": "37aafa66-b8fa-4ff0-a8dc-31b854d3c3f5",
   "metadata": {},
   "outputs": [
    {
     "data": {
      "text/plain": [
       "0.19"
      ]
     },
     "execution_count": 2,
     "metadata": {},
     "output_type": "execute_result"
    }
   ],
   "source": [
    "\n",
    "#inflation and mortgage interest in %\n",
    "inflation_rate = 5.5\n",
    "interest_rate = 4.7\n",
    "# row number of the income dataframe to load\n",
    "const row_number = 1\n",
    "# ratio of the entire state's population to model\n",
    "const pop_ratio = 0.00006 #model sizes below 64 are not working well\n",
    "#corrector for rents\n",
    "const rent_coeff = 1.7\n",
    "#base unit price of house\n",
    "const base_unit_price = 50000\n",
    "#coefficient for house prices\n",
    "const price_coeff =0.0002\n",
    "#spread ratio in rental probability\n",
    "const rent_spread = 0.2 # this is variance of the probability func.\n",
    "#CUDA vector size control, memory bound:\n",
    "const cuda_max_vector = 2^20\n",
    "const tenure_typical = 6 #6 months being the typical tenure\n",
    "#market visibility: what portion of the market can house sellers\n",
    "#\"see\" in prices, numbers above 20% will likely bias scoreboard to richer buyers \n",
    "market_visibility = 0.19\n"
   ]
  },
  {
   "cell_type": "code",
   "execution_count": null,
   "id": "18d34de8-b86a-4575-84d7-1b58ecc5e73c",
   "metadata": {},
   "outputs": [],
   "source": []
  },
  {
   "cell_type": "code",
   "execution_count": 3,
   "id": "77e13e46-e1df-4767-928e-a22ef9321f71",
   "metadata": {},
   "outputs": [
    {
     "name": "stdout",
     "output_type": "stream",
     "text": [
      "Total Number of Households in this dataframe row: 1224200\n",
      "We simulate approximately 0.006% of them\n",
      "Number of households simulated: 72\n"
     ]
    }
   ],
   "source": [
    "\n",
    "# income data from singstat public database year 2022 -> row 1, year 2000 -> 23\n",
    "income_df = Load_Income.load_income(\"./income.csv\")\n",
    "num_households = income_df[row_number,:\"Number_Households\"]\n",
    "println(\"Total Number of Households in this dataframe row: \", num_households)\n",
    "println(\"We simulate approximately \",pop_ratio*100, \"% of them\")\n",
    "num_households =Int32(round((pop_ratio*num_households)/8)*8)\n",
    "println(\"Number of households simulated: \",num_households)\n",
    "if num_households >= cuda_max_vector \n",
    "    println(\"Number of households simulated larger than CUDA memory limit\")\n",
    "    return\n",
    "end\n"
   ]
  },
  {
   "cell_type": "code",
   "execution_count": null,
   "id": "ee4ee710-6822-4912-9261-91f47d7b98d1",
   "metadata": {},
   "outputs": [],
   "source": []
  },
  {
   "cell_type": "code",
   "execution_count": 4,
   "id": "d6a796e6-93e6-4587-a72e-a1f0ae498a74",
   "metadata": {},
   "outputs": [
    {
     "name": "stdout",
     "output_type": "stream",
     "text": [
      "The year is 2022 in Singapore\n",
      "Max house price: 5775761\n",
      "\n",
      "Initialised values: \n",
      "\n",
      "agent_list has 5 columns ->\n",
      " 1:monthly income, 2:monthly savings, 3:expenditure, 4:housing_expenditure, 5:accumulated_savings \n",
      "\n"
     ]
    },
    {
     "data": {
      "text/plain": [
       "72×5 Matrix{Int32}:\n",
       "  1265    468    797   207  0\n",
       "  1601    656    945   284  0\n",
       "  2061    742   1319   369  0\n",
       "  2362    614   1748   454  0\n",
       "  2373    641   1732   450  0\n",
       "  2499    700   1799   486  0\n",
       "  2514    930   1584   459  0\n",
       "  3214   1286   1928   521  0\n",
       "  3312    861   2451   662  0\n",
       "  3549   1384   2165   650  0\n",
       "  3674   1286   2388   621  0\n",
       "  4133   1075   3058   826  0\n",
       "  4206   1472   2734   711  0\n",
       "     ⋮                      \n",
       " 18947   6253  12694  3300  0\n",
       " 19568   7044  12524  3757  0\n",
       " 19719   7099  12620  3534  0\n",
       " 20488   7581  12907  3356  0\n",
       " 23141   7405  15736  4091  0\n",
       " 23664   8046  15618  4061  0\n",
       " 23809   9047  14762  4429  0\n",
       " 23919   9328  14591  4377  0\n",
       " 25247  10604  14643  4393  0\n",
       " 25434   9919  15515  4499  0\n",
       " 25575   6905  18670  5601  0\n",
       " 26304   9469  16835  4882  0"
      ]
     },
     "metadata": {},
     "output_type": "display_data"
    },
    {
     "name": "stdout",
     "output_type": "stream",
     "text": [
      "\n",
      "house_list has 3 columns-> \n",
      " 1:house price, 2:rental price, 3:rented_by \n",
      "\n"
     ]
    },
    {
     "data": {
      "text/plain": [
       "72×3 Matrix{Int32}:\n",
       "   13358     54  0\n",
       "   21397     88  0\n",
       "   35459    146  0\n",
       "   46572    192  0\n",
       "   47007    194  0\n",
       "   52131    215  0\n",
       "   52759    217  0\n",
       "   86230    356  0\n",
       "   91569    378  0\n",
       "  105142    435  0\n",
       "  112679    465  0\n",
       "  142592    589  0\n",
       "  147674    610  0\n",
       "       ⋮         \n",
       " 2996722  12383  0\n",
       " 3196381  13208  0\n",
       " 3245902  13412  0\n",
       " 3504005  14479  0\n",
       " 4470230  18471  0\n",
       " 4674573  19315  0\n",
       " 4732035  19553  0\n",
       " 4775861  19734  0\n",
       " 5320901  21986  0\n",
       " 5400015  22313  0\n",
       " 5460053  22561  0\n",
       " 5775761  23865  0"
      ]
     },
     "metadata": {},
     "output_type": "display_data"
    },
    {
     "data": {
      "text/plain": [
       "72×2 Matrix{Int32}:\n",
       "    54  0\n",
       "    88  0\n",
       "   146  0\n",
       "   192  0\n",
       "   194  0\n",
       "   215  0\n",
       "   217  0\n",
       "   356  0\n",
       "   378  0\n",
       "   435  0\n",
       "   465  0\n",
       "   589  0\n",
       "   610  0\n",
       "     ⋮  \n",
       " 12383  0\n",
       " 13208  0\n",
       " 13412  0\n",
       " 14479  0\n",
       " 18471  0\n",
       " 19315  0\n",
       " 19553  0\n",
       " 19734  0\n",
       " 21986  0\n",
       " 22313  0\n",
       " 22561  0\n",
       " 23865  0"
      ]
     },
     "execution_count": 4,
     "metadata": {},
     "output_type": "execute_result"
    }
   ],
   "source": [
    "# agent_list has 5 columns-> 1:income, 2:savings, 3>:expenditure, \n",
    "# 4:housing_expenditure, 5:accumulated_savings\n",
    "agent_list = zeros(Int32,num_households,5);\n",
    "Initialise_Data.populate_agents(income_df, row_number, agent_list)\n",
    "#sort the agent_list from lowest to highest income\n",
    "sort!(agent_list, dims = 1)\n",
    "Initialise_Data.savings_agents(agent_list; savings_lo = 25, savings_hi = 42)\n",
    "Initialise_Data.expenditure_agents(agent_list; housing_lo = 26, housing_hi = 30)\n",
    "\n",
    "#house_list has 3 columns-> 1:house price, 2:rental price, 3:rented_by\n",
    "house_list = zeros(Int32,num_households,3)\n",
    "Initialise_Data.house_list_price_from_income(income_df, row_number, agent_list, \n",
    "house_list,base_unit_price, price_coeff) \n",
    "#sort the houses_list from lowest to highest price\n",
    "sort!(house_list, dims = 1)\n",
    "h_size = size(house_list)[1]\n",
    "a_size = size(agent_list)[1]\n",
    "max_house_price = house_list[h_size]\n",
    "println(\"Max house price: \", max_house_price)\n",
    "#rentals initiated here\n",
    "Initialise_Data.house_list_rental(house_list, interest_rate, inflation_rate, \n",
    "rent_coeff, max_house_price)\n",
    "\n",
    "println(\"\\nInitialised values: \")\n",
    "println(\"\\nagent_list has 5 columns ->\n",
    " 1:monthly income, 2:monthly savings, 3:expenditure, 4:housing_expenditure, 5:accumulated_savings \\n\")\n",
    "display(agent_list)\n",
    "println(\"\\nhouse_list has 3 columns-> \n",
    " 1:house price, 2:rental price, 3:rented_by \\n\")\n",
    "display(house_list)\n",
    "agent_budgets = agent_list[:,4] #this gives us the agents' rental agent_budgets\n",
    "agent_budgets = hcat(agent_budgets,zeros(Int32,length(agent_budgets))) #append a column of zeros as rental tenure\n",
    "house_rentals = house_list[:,2] #this gives us the house rental prices\n",
    "house_rentals = hcat(house_rentals,zeros(Int32,length(house_rentals))) #append a column of zeros as agent tenant identities"
   ]
  },
  {
   "cell_type": "code",
   "execution_count": 5,
   "id": "f712feb1-265b-4a0a-bd74-b589e010427b",
   "metadata": {},
   "outputs": [
    {
     "data": {
      "image/svg+xml": [
       "<?xml version=\"1.0\" encoding=\"utf-8\"?>\n",
       "<svg xmlns=\"http://www.w3.org/2000/svg\" xmlns:xlink=\"http://www.w3.org/1999/xlink\" width=\"800\" height=\"800\" viewBox=\"0 0 3200 3200\">\n",
       "<defs>\n",
       "  <clipPath id=\"clip940\">\n",
       "    <rect x=\"0\" y=\"0\" width=\"3200\" height=\"3200\"/>\n",
       "  </clipPath>\n",
       "</defs>\n",
       "<path clip-path=\"url(#clip940)\" d=\"M0 3200 L3200 3200 L3200 0 L0 0  Z\" fill=\"#ffffff\" fill-rule=\"evenodd\" fill-opacity=\"1\"/>\n",
       "<defs>\n",
       "  <clipPath id=\"clip941\">\n",
       "    <rect x=\"640\" y=\"320\" width=\"2241\" height=\"2241\"/>\n",
       "  </clipPath>\n",
       "</defs>\n",
       "<path clip-path=\"url(#clip940)\" d=\"M314.435 3053.17 L3152.76 3053.17 L3152.76 47.2441 L314.435 47.2441  Z\" fill=\"#ffffff\" fill-rule=\"evenodd\" fill-opacity=\"1\"/>\n",
       "<defs>\n",
       "  <clipPath id=\"clip942\">\n",
       "    <rect x=\"314\" y=\"47\" width=\"2839\" height=\"3007\"/>\n",
       "  </clipPath>\n",
       "</defs>\n",
       "<polyline clip-path=\"url(#clip942)\" style=\"stroke:#000000; stroke-linecap:round; stroke-linejoin:round; stroke-width:2; stroke-opacity:0.1; fill:none\" points=\"357.052,3053.17 357.052,47.2441 \"/>\n",
       "<polyline clip-path=\"url(#clip942)\" style=\"stroke:#000000; stroke-linecap:round; stroke-linejoin:round; stroke-width:2; stroke-opacity:0.1; fill:none\" points=\"1111.32,3053.17 1111.32,47.2441 \"/>\n",
       "<polyline clip-path=\"url(#clip942)\" style=\"stroke:#000000; stroke-linecap:round; stroke-linejoin:round; stroke-width:2; stroke-opacity:0.1; fill:none\" points=\"1865.59,3053.17 1865.59,47.2441 \"/>\n",
       "<polyline clip-path=\"url(#clip942)\" style=\"stroke:#000000; stroke-linecap:round; stroke-linejoin:round; stroke-width:2; stroke-opacity:0.1; fill:none\" points=\"2619.86,3053.17 2619.86,47.2441 \"/>\n",
       "<polyline clip-path=\"url(#clip940)\" style=\"stroke:#000000; stroke-linecap:round; stroke-linejoin:round; stroke-width:4; stroke-opacity:1; fill:none\" points=\"314.435,3053.17 3152.76,3053.17 \"/>\n",
       "<polyline clip-path=\"url(#clip940)\" style=\"stroke:#000000; stroke-linecap:round; stroke-linejoin:round; stroke-width:4; stroke-opacity:1; fill:none\" points=\"357.052,3053.17 357.052,3034.27 \"/>\n",
       "<polyline clip-path=\"url(#clip940)\" style=\"stroke:#000000; stroke-linecap:round; stroke-linejoin:round; stroke-width:4; stroke-opacity:1; fill:none\" points=\"1111.32,3053.17 1111.32,3034.27 \"/>\n",
       "<polyline clip-path=\"url(#clip940)\" style=\"stroke:#000000; stroke-linecap:round; stroke-linejoin:round; stroke-width:4; stroke-opacity:1; fill:none\" points=\"1865.59,3053.17 1865.59,3034.27 \"/>\n",
       "<polyline clip-path=\"url(#clip940)\" style=\"stroke:#000000; stroke-linecap:round; stroke-linejoin:round; stroke-width:4; stroke-opacity:1; fill:none\" points=\"2619.86,3053.17 2619.86,3034.27 \"/>\n",
       "<path clip-path=\"url(#clip940)\" d=\"M357.052 3090.49 Q353.441 3090.49 351.612 3094.05 Q349.806 3097.59 349.806 3104.72 Q349.806 3111.83 351.612 3115.39 Q353.441 3118.94 357.052 3118.94 Q360.686 3118.94 362.491 3115.39 Q364.32 3111.83 364.32 3104.72 Q364.32 3097.59 362.491 3094.05 Q360.686 3090.49 357.052 3090.49 M357.052 3086.78 Q362.862 3086.78 365.917 3091.39 Q368.996 3095.97 368.996 3104.72 Q368.996 3113.45 365.917 3118.06 Q362.862 3122.64 357.052 3122.64 Q351.242 3122.64 348.163 3118.06 Q345.107 3113.45 345.107 3104.72 Q345.107 3095.97 348.163 3091.39 Q351.242 3086.78 357.052 3086.78 Z\" fill=\"#000000\" fill-rule=\"nonzero\" fill-opacity=\"1\" /><path clip-path=\"url(#clip940)\" d=\"M1090.1 3118.03 L1106.41 3118.03 L1106.41 3121.97 L1084.47 3121.97 L1084.47 3118.03 Q1087.13 3115.28 1091.72 3110.65 Q1096.32 3106 1097.5 3104.65 Q1099.75 3102.13 1100.63 3100.39 Q1101.53 3098.63 1101.53 3096.94 Q1101.53 3094.19 1099.59 3092.45 Q1097.67 3090.72 1094.56 3090.72 Q1092.36 3090.72 1089.91 3091.48 Q1087.48 3092.25 1084.7 3093.8 L1084.7 3089.07 Q1087.53 3087.94 1089.98 3087.36 Q1092.43 3086.78 1094.47 3086.78 Q1099.84 3086.78 1103.04 3089.47 Q1106.23 3092.15 1106.23 3096.64 Q1106.23 3098.77 1105.42 3100.69 Q1104.63 3102.59 1102.53 3105.19 Q1101.95 3105.86 1098.85 3109.07 Q1095.74 3112.27 1090.1 3118.03 Z\" fill=\"#000000\" fill-rule=\"nonzero\" fill-opacity=\"1\" /><path clip-path=\"url(#clip940)\" d=\"M1126.23 3090.49 Q1122.62 3090.49 1120.79 3094.05 Q1118.98 3097.59 1118.98 3104.72 Q1118.98 3111.83 1120.79 3115.39 Q1122.62 3118.94 1126.23 3118.94 Q1129.86 3118.94 1131.67 3115.39 Q1133.5 3111.83 1133.5 3104.72 Q1133.5 3097.59 1131.67 3094.05 Q1129.86 3090.49 1126.23 3090.49 M1126.23 3086.78 Q1132.04 3086.78 1135.1 3091.39 Q1138.17 3095.97 1138.17 3104.72 Q1138.17 3113.45 1135.1 3118.06 Q1132.04 3122.64 1126.23 3122.64 Q1120.42 3122.64 1117.34 3118.06 Q1114.29 3113.45 1114.29 3104.72 Q1114.29 3095.97 1117.34 3091.39 Q1120.42 3086.78 1126.23 3086.78 Z\" fill=\"#000000\" fill-rule=\"nonzero\" fill-opacity=\"1\" /><path clip-path=\"url(#clip940)\" d=\"M1853.76 3091.48 L1841.96 3109.93 L1853.76 3109.93 L1853.76 3091.48 M1852.54 3087.41 L1858.42 3087.41 L1858.42 3109.93 L1863.35 3109.93 L1863.35 3113.82 L1858.42 3113.82 L1858.42 3121.97 L1853.76 3121.97 L1853.76 3113.82 L1838.16 3113.82 L1838.16 3109.31 L1852.54 3087.41 Z\" fill=\"#000000\" fill-rule=\"nonzero\" fill-opacity=\"1\" /><path clip-path=\"url(#clip940)\" d=\"M1881.08 3090.49 Q1877.47 3090.49 1875.64 3094.05 Q1873.83 3097.59 1873.83 3104.72 Q1873.83 3111.83 1875.64 3115.39 Q1877.47 3118.94 1881.08 3118.94 Q1884.71 3118.94 1886.52 3115.39 Q1888.35 3111.83 1888.35 3104.72 Q1888.35 3097.59 1886.52 3094.05 Q1884.71 3090.49 1881.08 3090.49 M1881.08 3086.78 Q1886.89 3086.78 1889.94 3091.39 Q1893.02 3095.97 1893.02 3104.72 Q1893.02 3113.45 1889.94 3118.06 Q1886.89 3122.64 1881.08 3122.64 Q1875.27 3122.64 1872.19 3118.06 Q1869.13 3113.45 1869.13 3104.72 Q1869.13 3095.97 1872.19 3091.39 Q1875.27 3086.78 1881.08 3086.78 Z\" fill=\"#000000\" fill-rule=\"nonzero\" fill-opacity=\"1\" /><path clip-path=\"url(#clip940)\" d=\"M2605.27 3102.82 Q2602.12 3102.82 2600.27 3104.98 Q2598.44 3107.13 2598.44 3110.88 Q2598.44 3114.61 2600.27 3116.78 Q2602.12 3118.94 2605.27 3118.94 Q2608.42 3118.94 2610.25 3116.78 Q2612.1 3114.61 2612.1 3110.88 Q2612.1 3107.13 2610.25 3104.98 Q2608.42 3102.82 2605.27 3102.82 M2614.55 3088.17 L2614.55 3092.43 Q2612.79 3091.6 2610.99 3091.16 Q2609.2 3090.72 2607.44 3090.72 Q2602.82 3090.72 2600.36 3093.84 Q2597.93 3096.97 2597.58 3103.29 Q2598.95 3101.27 2601.01 3100.21 Q2603.07 3099.12 2605.55 3099.12 Q2610.75 3099.12 2613.76 3102.29 Q2616.8 3105.44 2616.8 3110.88 Q2616.8 3116.2 2613.65 3119.42 Q2610.5 3122.64 2605.27 3122.64 Q2599.27 3122.64 2596.1 3118.06 Q2592.93 3113.45 2592.93 3104.72 Q2592.93 3096.53 2596.82 3091.67 Q2600.71 3086.78 2607.26 3086.78 Q2609.02 3086.78 2610.8 3087.13 Q2612.61 3087.48 2614.55 3088.17 Z\" fill=\"#000000\" fill-rule=\"nonzero\" fill-opacity=\"1\" /><path clip-path=\"url(#clip940)\" d=\"M2634.85 3090.49 Q2631.24 3090.49 2629.41 3094.05 Q2627.61 3097.59 2627.61 3104.72 Q2627.61 3111.83 2629.41 3115.39 Q2631.24 3118.94 2634.85 3118.94 Q2638.49 3118.94 2640.29 3115.39 Q2642.12 3111.83 2642.12 3104.72 Q2642.12 3097.59 2640.29 3094.05 Q2638.49 3090.49 2634.85 3090.49 M2634.85 3086.78 Q2640.66 3086.78 2643.72 3091.39 Q2646.8 3095.97 2646.8 3104.72 Q2646.8 3113.45 2643.72 3118.06 Q2640.66 3122.64 2634.85 3122.64 Q2629.04 3122.64 2625.96 3118.06 Q2622.91 3113.45 2622.91 3104.72 Q2622.91 3095.97 2625.96 3091.39 Q2629.04 3086.78 2634.85 3086.78 Z\" fill=\"#000000\" fill-rule=\"nonzero\" fill-opacity=\"1\" /><polyline clip-path=\"url(#clip942)\" style=\"stroke:#000000; stroke-linecap:round; stroke-linejoin:round; stroke-width:2; stroke-opacity:0.1; fill:none\" points=\"314.435,2974.53 3152.76,2974.53 \"/>\n",
       "<polyline clip-path=\"url(#clip942)\" style=\"stroke:#000000; stroke-linecap:round; stroke-linejoin:round; stroke-width:2; stroke-opacity:0.1; fill:none\" points=\"314.435,2379.05 3152.76,2379.05 \"/>\n",
       "<polyline clip-path=\"url(#clip942)\" style=\"stroke:#000000; stroke-linecap:round; stroke-linejoin:round; stroke-width:2; stroke-opacity:0.1; fill:none\" points=\"314.435,1783.57 3152.76,1783.57 \"/>\n",
       "<polyline clip-path=\"url(#clip942)\" style=\"stroke:#000000; stroke-linecap:round; stroke-linejoin:round; stroke-width:2; stroke-opacity:0.1; fill:none\" points=\"314.435,1188.1 3152.76,1188.1 \"/>\n",
       "<polyline clip-path=\"url(#clip942)\" style=\"stroke:#000000; stroke-linecap:round; stroke-linejoin:round; stroke-width:2; stroke-opacity:0.1; fill:none\" points=\"314.435,592.621 3152.76,592.621 \"/>\n",
       "<polyline clip-path=\"url(#clip940)\" style=\"stroke:#000000; stroke-linecap:round; stroke-linejoin:round; stroke-width:4; stroke-opacity:1; fill:none\" points=\"314.435,3053.17 314.435,47.2441 \"/>\n",
       "<polyline clip-path=\"url(#clip940)\" style=\"stroke:#000000; stroke-linecap:round; stroke-linejoin:round; stroke-width:4; stroke-opacity:1; fill:none\" points=\"314.435,2974.53 333.333,2974.53 \"/>\n",
       "<polyline clip-path=\"url(#clip940)\" style=\"stroke:#000000; stroke-linecap:round; stroke-linejoin:round; stroke-width:4; stroke-opacity:1; fill:none\" points=\"314.435,2379.05 333.333,2379.05 \"/>\n",
       "<polyline clip-path=\"url(#clip940)\" style=\"stroke:#000000; stroke-linecap:round; stroke-linejoin:round; stroke-width:4; stroke-opacity:1; fill:none\" points=\"314.435,1783.57 333.333,1783.57 \"/>\n",
       "<polyline clip-path=\"url(#clip940)\" style=\"stroke:#000000; stroke-linecap:round; stroke-linejoin:round; stroke-width:4; stroke-opacity:1; fill:none\" points=\"314.435,1188.1 333.333,1188.1 \"/>\n",
       "<polyline clip-path=\"url(#clip940)\" style=\"stroke:#000000; stroke-linecap:round; stroke-linejoin:round; stroke-width:4; stroke-opacity:1; fill:none\" points=\"314.435,592.621 333.333,592.621 \"/>\n",
       "<path clip-path=\"url(#clip940)\" d=\"M254.491 2960.32 Q250.88 2960.32 249.051 2963.89 Q247.246 2967.43 247.246 2974.56 Q247.246 2981.67 249.051 2985.23 Q250.88 2988.77 254.491 2988.77 Q258.125 2988.77 259.931 2985.23 Q261.759 2981.67 261.759 2974.56 Q261.759 2967.43 259.931 2963.89 Q258.125 2960.32 254.491 2960.32 M254.491 2956.62 Q260.301 2956.62 263.357 2961.23 Q266.435 2965.81 266.435 2974.56 Q266.435 2983.29 263.357 2987.89 Q260.301 2992.48 254.491 2992.48 Q248.681 2992.48 245.602 2987.89 Q242.547 2983.29 242.547 2974.56 Q242.547 2965.81 245.602 2961.23 Q248.681 2956.62 254.491 2956.62 Z\" fill=\"#000000\" fill-rule=\"nonzero\" fill-opacity=\"1\" /><path clip-path=\"url(#clip940)\" d=\"M50.6105 2368.22 L68.9668 2368.22 L68.9668 2372.15 L54.8928 2372.15 L54.8928 2380.62 Q55.9113 2380.28 56.9299 2380.12 Q57.9484 2379.93 58.9669 2379.93 Q64.7539 2379.93 68.1335 2383.1 Q71.5131 2386.27 71.5131 2391.69 Q71.5131 2397.27 68.0409 2400.37 Q64.5687 2403.45 58.2493 2403.45 Q56.0734 2403.45 53.8049 2403.08 Q51.5595 2402.71 49.1521 2401.97 L49.1521 2397.27 Q51.2354 2398.4 53.4577 2398.96 Q55.6799 2399.51 58.1567 2399.51 Q62.1613 2399.51 64.4993 2397.41 Q66.8372 2395.3 66.8372 2391.69 Q66.8372 2388.08 64.4993 2385.97 Q62.1613 2383.87 58.1567 2383.87 Q56.2817 2383.87 54.4067 2384.28 Q52.5549 2384.7 50.6105 2385.58 L50.6105 2368.22 Z\" fill=\"#000000\" fill-rule=\"nonzero\" fill-opacity=\"1\" /><path clip-path=\"url(#clip940)\" d=\"M80.726 2396.9 L85.6103 2396.9 L85.6103 2402.78 L80.726 2402.78 L80.726 2396.9 Z\" fill=\"#000000\" fill-rule=\"nonzero\" fill-opacity=\"1\" /><path clip-path=\"url(#clip940)\" d=\"M105.795 2371.3 Q102.184 2371.3 100.356 2374.86 Q98.55 2378.4 98.55 2385.53 Q98.55 2392.64 100.356 2396.2 Q102.184 2399.74 105.795 2399.74 Q109.43 2399.74 111.235 2396.2 Q113.064 2392.64 113.064 2385.53 Q113.064 2378.4 111.235 2374.86 Q109.43 2371.3 105.795 2371.3 M105.795 2367.59 Q111.605 2367.59 114.661 2372.2 Q117.74 2376.78 117.74 2385.53 Q117.74 2394.26 114.661 2398.87 Q111.605 2403.45 105.795 2403.45 Q99.9852 2403.45 96.9065 2398.87 Q93.851 2394.26 93.851 2385.53 Q93.851 2376.78 96.9065 2372.2 Q99.9852 2367.59 105.795 2367.59 Z\" fill=\"#000000\" fill-rule=\"nonzero\" fill-opacity=\"1\" /><path clip-path=\"url(#clip940)\" d=\"M135.957 2371.3 Q132.346 2371.3 130.517 2374.86 Q128.712 2378.4 128.712 2385.53 Q128.712 2392.64 130.517 2396.2 Q132.346 2399.74 135.957 2399.74 Q139.591 2399.74 141.397 2396.2 Q143.226 2392.64 143.226 2385.53 Q143.226 2378.4 141.397 2374.86 Q139.591 2371.3 135.957 2371.3 M135.957 2367.59 Q141.767 2367.59 144.823 2372.2 Q147.902 2376.78 147.902 2385.53 Q147.902 2394.26 144.823 2398.87 Q141.767 2403.45 135.957 2403.45 Q130.147 2403.45 127.068 2398.87 Q124.013 2394.26 124.013 2385.53 Q124.013 2376.78 127.068 2372.2 Q130.147 2367.59 135.957 2367.59 Z\" fill=\"#000000\" fill-rule=\"nonzero\" fill-opacity=\"1\" /><path clip-path=\"url(#clip940)\" d=\"M184.29 2377.31 L173.712 2387.94 L184.29 2398.52 L181.536 2401.32 L170.911 2390.69 L160.286 2401.32 L157.554 2398.52 L168.11 2387.94 L157.554 2377.31 L160.286 2374.51 L170.911 2385.14 L181.536 2374.51 L184.29 2377.31 Z\" fill=\"#000000\" fill-rule=\"nonzero\" fill-opacity=\"1\" /><path clip-path=\"url(#clip940)\" d=\"M196.651 2398.84 L204.29 2398.84 L204.29 2372.48 L195.98 2374.14 L195.98 2369.88 L204.244 2368.22 L208.92 2368.22 L208.92 2398.84 L216.559 2398.84 L216.559 2402.78 L196.651 2402.78 L196.651 2398.84 Z\" fill=\"#000000\" fill-rule=\"nonzero\" fill-opacity=\"1\" /><path clip-path=\"url(#clip940)\" d=\"M236.003 2371.3 Q232.392 2371.3 230.563 2374.86 Q228.758 2378.4 228.758 2385.53 Q228.758 2392.64 230.563 2396.2 Q232.392 2399.74 236.003 2399.74 Q239.637 2399.74 241.443 2396.2 Q243.271 2392.64 243.271 2385.53 Q243.271 2378.4 241.443 2374.86 Q239.637 2371.3 236.003 2371.3 M236.003 2367.59 Q241.813 2367.59 244.869 2372.2 Q247.947 2376.78 247.947 2385.53 Q247.947 2394.26 244.869 2398.87 Q241.813 2403.45 236.003 2403.45 Q230.193 2403.45 227.114 2398.87 Q224.059 2394.26 224.059 2385.53 Q224.059 2376.78 227.114 2372.2 Q230.193 2367.59 236.003 2367.59 Z\" fill=\"#000000\" fill-rule=\"nonzero\" fill-opacity=\"1\" /><path clip-path=\"url(#clip940)\" d=\"M260.643 2360.23 Q263.37 2360.81 264.893 2362.65 Q266.435 2364.5 266.435 2367.2 Q266.435 2371.36 263.577 2373.64 Q260.718 2375.91 255.452 2375.91 Q253.684 2375.91 251.803 2375.55 Q249.941 2375.22 247.947 2374.52 L247.947 2370.85 Q249.527 2371.77 251.408 2372.24 Q253.289 2372.71 255.339 2372.71 Q258.912 2372.71 260.774 2371.3 Q262.655 2369.89 262.655 2367.2 Q262.655 2364.72 260.906 2363.33 Q259.176 2361.92 256.072 2361.92 L252.8 2361.92 L252.8 2358.8 L256.223 2358.8 Q259.025 2358.8 260.511 2357.69 Q261.997 2356.56 261.997 2354.45 Q261.997 2352.29 260.455 2351.14 Q258.931 2349.98 256.072 2349.98 Q254.511 2349.98 252.725 2350.31 Q250.938 2350.65 248.794 2351.37 L248.794 2347.98 Q250.957 2347.38 252.837 2347.08 Q254.737 2346.78 256.411 2346.78 Q260.737 2346.78 263.257 2348.75 Q265.777 2350.71 265.777 2354.06 Q265.777 2356.39 264.442 2358.01 Q263.106 2359.61 260.643 2360.23 Z\" fill=\"#000000\" fill-rule=\"nonzero\" fill-opacity=\"1\" /><path clip-path=\"url(#clip940)\" d=\"M49.3995 1803.37 L57.0384 1803.37 L57.0384 1777 L48.7282 1778.67 L48.7282 1774.41 L56.9921 1772.74 L61.668 1772.74 L61.668 1803.37 L69.3068 1803.37 L69.3068 1807.3 L49.3995 1807.3 L49.3995 1803.37 Z\" fill=\"#000000\" fill-rule=\"nonzero\" fill-opacity=\"1\" /><path clip-path=\"url(#clip940)\" d=\"M78.7512 1801.42 L83.6354 1801.42 L83.6354 1807.3 L78.7512 1807.3 L78.7512 1801.42 Z\" fill=\"#000000\" fill-rule=\"nonzero\" fill-opacity=\"1\" /><path clip-path=\"url(#clip940)\" d=\"M103.821 1775.82 Q100.209 1775.82 98.3807 1779.38 Q96.5752 1782.93 96.5752 1790.06 Q96.5752 1797.16 98.3807 1800.73 Q100.209 1804.27 103.821 1804.27 Q107.455 1804.27 109.26 1800.73 Q111.089 1797.16 111.089 1790.06 Q111.089 1782.93 109.26 1779.38 Q107.455 1775.82 103.821 1775.82 M103.821 1772.12 Q109.631 1772.12 112.686 1776.72 Q115.765 1781.31 115.765 1790.06 Q115.765 1798.78 112.686 1803.39 Q109.631 1807.97 103.821 1807.97 Q98.0104 1807.97 94.9317 1803.39 Q91.8761 1798.78 91.8761 1790.06 Q91.8761 1781.31 94.9317 1776.72 Q98.0104 1772.12 103.821 1772.12 Z\" fill=\"#000000\" fill-rule=\"nonzero\" fill-opacity=\"1\" /><path clip-path=\"url(#clip940)\" d=\"M133.982 1775.82 Q130.371 1775.82 128.543 1779.38 Q126.737 1782.93 126.737 1790.06 Q126.737 1797.16 128.543 1800.73 Q130.371 1804.27 133.982 1804.27 Q137.617 1804.27 139.422 1800.73 Q141.251 1797.16 141.251 1790.06 Q141.251 1782.93 139.422 1779.38 Q137.617 1775.82 133.982 1775.82 M133.982 1772.12 Q139.793 1772.12 142.848 1776.72 Q145.927 1781.31 145.927 1790.06 Q145.927 1798.78 142.848 1803.39 Q139.793 1807.97 133.982 1807.97 Q128.172 1807.97 125.094 1803.39 Q122.038 1798.78 122.038 1790.06 Q122.038 1781.31 125.094 1776.72 Q128.172 1772.12 133.982 1772.12 Z\" fill=\"#000000\" fill-rule=\"nonzero\" fill-opacity=\"1\" /><path clip-path=\"url(#clip940)\" d=\"M182.315 1781.84 L171.737 1792.46 L182.315 1803.04 L179.561 1805.84 L168.936 1795.22 L158.311 1805.84 L155.58 1803.04 L166.135 1792.46 L155.58 1781.84 L158.311 1779.04 L168.936 1789.66 L179.561 1779.04 L182.315 1781.84 Z\" fill=\"#000000\" fill-rule=\"nonzero\" fill-opacity=\"1\" /><path clip-path=\"url(#clip940)\" d=\"M194.677 1803.37 L202.315 1803.37 L202.315 1777 L194.005 1778.67 L194.005 1774.41 L202.269 1772.74 L206.945 1772.74 L206.945 1803.37 L214.584 1803.37 L214.584 1807.3 L194.677 1807.3 L194.677 1803.37 Z\" fill=\"#000000\" fill-rule=\"nonzero\" fill-opacity=\"1\" /><path clip-path=\"url(#clip940)\" d=\"M234.028 1775.82 Q230.417 1775.82 228.588 1779.38 Q226.783 1782.93 226.783 1790.06 Q226.783 1797.16 228.588 1800.73 Q230.417 1804.27 234.028 1804.27 Q237.662 1804.27 239.468 1800.73 Q241.297 1797.16 241.297 1790.06 Q241.297 1782.93 239.468 1779.38 Q237.662 1775.82 234.028 1775.82 M234.028 1772.12 Q239.838 1772.12 242.894 1776.72 Q245.973 1781.31 245.973 1790.06 Q245.973 1798.78 242.894 1803.39 Q239.838 1807.97 234.028 1807.97 Q228.218 1807.97 225.139 1803.39 Q222.084 1798.78 222.084 1790.06 Q222.084 1781.31 225.139 1776.72 Q228.218 1772.12 234.028 1772.12 Z\" fill=\"#000000\" fill-rule=\"nonzero\" fill-opacity=\"1\" /><path clip-path=\"url(#clip940)\" d=\"M258.649 1755.12 L249.057 1770.11 L258.649 1770.11 L258.649 1755.12 M257.652 1751.81 L262.429 1751.81 L262.429 1770.11 L266.435 1770.11 L266.435 1773.27 L262.429 1773.27 L262.429 1779.89 L258.649 1779.89 L258.649 1773.27 L245.973 1773.27 L245.973 1769.6 L257.652 1751.81 Z\" fill=\"#000000\" fill-rule=\"nonzero\" fill-opacity=\"1\" /><path clip-path=\"url(#clip940)\" d=\"M49.3995 1207.89 L57.0384 1207.89 L57.0384 1181.52 L48.7282 1183.19 L48.7282 1178.93 L56.9921 1177.26 L61.668 1177.26 L61.668 1207.89 L69.3068 1207.89 L69.3068 1211.82 L49.3995 1211.82 L49.3995 1207.89 Z\" fill=\"#000000\" fill-rule=\"nonzero\" fill-opacity=\"1\" /><path clip-path=\"url(#clip940)\" d=\"M78.7512 1205.94 L83.6354 1205.94 L83.6354 1211.82 L78.7512 1211.82 L78.7512 1205.94 Z\" fill=\"#000000\" fill-rule=\"nonzero\" fill-opacity=\"1\" /><path clip-path=\"url(#clip940)\" d=\"M93.8669 1177.26 L112.223 1177.26 L112.223 1181.2 L98.1493 1181.2 L98.1493 1189.67 Q99.1678 1189.32 100.186 1189.16 Q101.205 1188.98 102.223 1188.98 Q108.01 1188.98 111.39 1192.15 Q114.77 1195.32 114.77 1200.74 Q114.77 1206.32 111.297 1209.42 Q107.825 1212.5 101.506 1212.5 Q99.3298 1212.5 97.0613 1212.13 Q94.8159 1211.76 92.4085 1211.01 L92.4085 1206.32 Q94.4919 1207.45 96.7141 1208.01 Q98.9363 1208.56 101.413 1208.56 Q105.418 1208.56 107.756 1206.45 Q110.094 1204.35 110.094 1200.74 Q110.094 1197.13 107.756 1195.02 Q105.418 1192.91 101.413 1192.91 Q99.5381 1192.91 97.6632 1193.33 Q95.8113 1193.75 93.8669 1194.63 L93.8669 1177.26 Z\" fill=\"#000000\" fill-rule=\"nonzero\" fill-opacity=\"1\" /><path clip-path=\"url(#clip940)\" d=\"M133.982 1180.34 Q130.371 1180.34 128.543 1183.91 Q126.737 1187.45 126.737 1194.58 Q126.737 1201.69 128.543 1205.25 Q130.371 1208.79 133.982 1208.79 Q137.617 1208.79 139.422 1205.25 Q141.251 1201.69 141.251 1194.58 Q141.251 1187.45 139.422 1183.91 Q137.617 1180.34 133.982 1180.34 M133.982 1176.64 Q139.793 1176.64 142.848 1181.25 Q145.927 1185.83 145.927 1194.58 Q145.927 1203.31 142.848 1207.91 Q139.793 1212.5 133.982 1212.5 Q128.172 1212.5 125.094 1207.91 Q122.038 1203.31 122.038 1194.58 Q122.038 1185.83 125.094 1181.25 Q128.172 1176.64 133.982 1176.64 Z\" fill=\"#000000\" fill-rule=\"nonzero\" fill-opacity=\"1\" /><path clip-path=\"url(#clip940)\" d=\"M182.315 1186.36 L171.737 1196.99 L182.315 1207.57 L179.561 1210.37 L168.936 1199.74 L158.311 1210.37 L155.58 1207.57 L166.135 1196.99 L155.58 1186.36 L158.311 1183.56 L168.936 1194.19 L179.561 1183.56 L182.315 1186.36 Z\" fill=\"#000000\" fill-rule=\"nonzero\" fill-opacity=\"1\" /><path clip-path=\"url(#clip940)\" d=\"M194.677 1207.89 L202.315 1207.89 L202.315 1181.52 L194.005 1183.19 L194.005 1178.93 L202.269 1177.26 L206.945 1177.26 L206.945 1207.89 L214.584 1207.89 L214.584 1211.82 L194.677 1211.82 L194.677 1207.89 Z\" fill=\"#000000\" fill-rule=\"nonzero\" fill-opacity=\"1\" /><path clip-path=\"url(#clip940)\" d=\"M234.028 1180.34 Q230.417 1180.34 228.588 1183.91 Q226.783 1187.45 226.783 1194.58 Q226.783 1201.69 228.588 1205.25 Q230.417 1208.79 234.028 1208.79 Q237.662 1208.79 239.468 1205.25 Q241.297 1201.69 241.297 1194.58 Q241.297 1187.45 239.468 1183.91 Q237.662 1180.34 234.028 1180.34 M234.028 1176.64 Q239.838 1176.64 242.894 1181.25 Q245.973 1185.83 245.973 1194.58 Q245.973 1203.31 242.894 1207.91 Q239.838 1212.5 234.028 1212.5 Q228.218 1212.5 225.139 1207.91 Q222.084 1203.31 222.084 1194.58 Q222.084 1185.83 225.139 1181.25 Q228.218 1176.64 234.028 1176.64 Z\" fill=\"#000000\" fill-rule=\"nonzero\" fill-opacity=\"1\" /><path clip-path=\"url(#clip940)\" d=\"M258.649 1159.64 L249.057 1174.63 L258.649 1174.63 L258.649 1159.64 M257.652 1156.33 L262.429 1156.33 L262.429 1174.63 L266.435 1174.63 L266.435 1177.79 L262.429 1177.79 L262.429 1184.41 L258.649 1184.41 L258.649 1177.79 L245.973 1177.79 L245.973 1174.13 L257.652 1156.33 Z\" fill=\"#000000\" fill-rule=\"nonzero\" fill-opacity=\"1\" /><path clip-path=\"url(#clip940)\" d=\"M52.6171 612.413 L68.9365 612.413 L68.9365 616.348 L46.9921 616.348 L46.9921 612.413 Q49.6541 609.658 54.2375 605.029 Q58.8439 600.376 60.0245 599.033 Q62.2698 596.51 63.1494 594.774 Q64.0522 593.015 64.0522 591.325 Q64.0522 588.571 62.1078 586.834 Q60.1865 585.098 57.0847 585.098 Q54.8856 585.098 52.4319 585.862 Q50.0014 586.626 47.2236 588.177 L47.2236 583.455 Q50.0477 582.321 52.5014 581.742 Q54.955 581.163 56.9921 581.163 Q62.3624 581.163 65.5568 583.848 Q68.7513 586.534 68.7513 591.024 Q68.7513 593.154 67.9411 595.075 Q67.1541 596.973 65.0476 599.566 Q64.4689 600.237 61.367 603.455 Q58.2652 606.649 52.6171 612.413 Z\" fill=\"#000000\" fill-rule=\"nonzero\" fill-opacity=\"1\" /><path clip-path=\"url(#clip940)\" d=\"M78.7512 610.469 L83.6354 610.469 L83.6354 616.348 L78.7512 616.348 L78.7512 610.469 Z\" fill=\"#000000\" fill-rule=\"nonzero\" fill-opacity=\"1\" /><path clip-path=\"url(#clip940)\" d=\"M103.821 584.867 Q100.209 584.867 98.3807 588.432 Q96.5752 591.973 96.5752 599.103 Q96.5752 606.209 98.3807 609.774 Q100.209 613.316 103.821 613.316 Q107.455 613.316 109.26 609.774 Q111.089 606.209 111.089 599.103 Q111.089 591.973 109.26 588.432 Q107.455 584.867 103.821 584.867 M103.821 581.163 Q109.631 581.163 112.686 585.77 Q115.765 590.353 115.765 599.103 Q115.765 607.83 112.686 612.436 Q109.631 617.019 103.821 617.019 Q98.0104 617.019 94.9317 612.436 Q91.8761 607.83 91.8761 599.103 Q91.8761 590.353 94.9317 585.77 Q98.0104 581.163 103.821 581.163 Z\" fill=\"#000000\" fill-rule=\"nonzero\" fill-opacity=\"1\" /><path clip-path=\"url(#clip940)\" d=\"M133.982 584.867 Q130.371 584.867 128.543 588.432 Q126.737 591.973 126.737 599.103 Q126.737 606.209 128.543 609.774 Q130.371 613.316 133.982 613.316 Q137.617 613.316 139.422 609.774 Q141.251 606.209 141.251 599.103 Q141.251 591.973 139.422 588.432 Q137.617 584.867 133.982 584.867 M133.982 581.163 Q139.793 581.163 142.848 585.77 Q145.927 590.353 145.927 599.103 Q145.927 607.83 142.848 612.436 Q139.793 617.019 133.982 617.019 Q128.172 617.019 125.094 612.436 Q122.038 607.83 122.038 599.103 Q122.038 590.353 125.094 585.77 Q128.172 581.163 133.982 581.163 Z\" fill=\"#000000\" fill-rule=\"nonzero\" fill-opacity=\"1\" /><path clip-path=\"url(#clip940)\" d=\"M182.315 590.885 L171.737 601.51 L182.315 612.089 L179.561 614.89 L168.936 604.265 L158.311 614.89 L155.58 612.089 L166.135 601.51 L155.58 590.885 L158.311 588.084 L168.936 598.709 L179.561 588.084 L182.315 590.885 Z\" fill=\"#000000\" fill-rule=\"nonzero\" fill-opacity=\"1\" /><path clip-path=\"url(#clip940)\" d=\"M194.677 612.413 L202.315 612.413 L202.315 586.047 L194.005 587.714 L194.005 583.455 L202.269 581.788 L206.945 581.788 L206.945 612.413 L214.584 612.413 L214.584 616.348 L194.677 616.348 L194.677 612.413 Z\" fill=\"#000000\" fill-rule=\"nonzero\" fill-opacity=\"1\" /><path clip-path=\"url(#clip940)\" d=\"M234.028 584.867 Q230.417 584.867 228.588 588.432 Q226.783 591.973 226.783 599.103 Q226.783 606.209 228.588 609.774 Q230.417 613.316 234.028 613.316 Q237.662 613.316 239.468 609.774 Q241.297 606.209 241.297 599.103 Q241.297 591.973 239.468 588.432 Q237.662 584.867 234.028 584.867 M234.028 581.163 Q239.838 581.163 242.894 585.77 Q245.973 590.353 245.973 599.103 Q245.973 607.83 242.894 612.436 Q239.838 617.019 234.028 617.019 Q228.218 617.019 225.139 612.436 Q222.084 607.83 222.084 599.103 Q222.084 590.353 225.139 585.77 Q228.218 581.163 234.028 581.163 Z\" fill=\"#000000\" fill-rule=\"nonzero\" fill-opacity=\"1\" /><path clip-path=\"url(#clip940)\" d=\"M258.649 564.168 L249.057 579.158 L258.649 579.158 L258.649 564.168 M257.652 560.858 L262.429 560.858 L262.429 579.158 L266.435 579.158 L266.435 582.317 L262.429 582.317 L262.429 588.938 L258.649 588.938 L258.649 582.317 L245.973 582.317 L245.973 578.65 L257.652 560.858 Z\" fill=\"#000000\" fill-rule=\"nonzero\" fill-opacity=\"1\" /><polyline clip-path=\"url(#clip942)\" style=\"stroke:#009af9; stroke-linecap:round; stroke-linejoin:round; stroke-width:4; stroke-opacity:1; fill:none\" points=\"394.765,2949.87 432.479,2940.7 470.192,2930.58 507.906,2920.46 545.619,2920.93 583.333,2916.65 621.046,2919.86 658.76,2912.48 696.473,2895.68 734.187,2897.11 771.901,2900.57 809.614,2876.15 847.328,2889.85 885.041,2864.72 922.755,2877.58 960.468,2886.63 998.182,2866.03 1035.9,2865.55 1073.61,2853.41 1111.32,2838.76 1149.04,2843.64 1186.75,2821.37 1224.46,2846.62 1262.18,2834.23 1299.89,2824.35 1337.6,2807.55 1375.32,2803.5 1413.03,2777.54 1450.74,2798.74 1488.46,2792.43 1526.17,2833.64 1563.88,2796.36 1601.6,2793.5 1639.31,2801.48 1677.03,2796.36 1714.74,2755.27 1752.45,2744.43 1790.17,2752.06 1827.88,2659.88 1865.59,2653.44 1903.31,2691.44 1941.02,2705.37 1978.73,2685.96 2016.45,2719.78 2054.16,2671.9 2091.87,2661.66 2129.59,2692.15 2167.3,2622.96 2205.01,2656.78 2242.73,2600.92 2280.44,2579.13 2318.16,2584.25 2355.87,2639.15 2393.58,2582.23 2431.3,2546.5 2469.01,2558.65 2506.72,2521.37 2544.44,2590.92 2582.15,2618.67 2619.86,2582.7 2657.58,2581.51 2695.29,2527.08 2733,2553.64 2770.72,2574.84 2808.43,2487.31 2846.14,2490.88 2883.86,2447.05 2921.57,2453.25 2959.29,2451.34 2997,2438.72 3034.71,2307.47 3072.43,2393.1 \"/>\n",
       "<polyline clip-path=\"url(#clip942)\" style=\"stroke:#e26f46; stroke-linecap:round; stroke-linejoin:round; stroke-width:4; stroke-opacity:1; fill:none\" points=\"394.765,2968.09 432.479,2964.05 470.192,2957.14 507.906,2951.66 545.619,2951.42 583.333,2948.92 621.046,2948.68 658.76,2932.13 696.473,2929.51 734.187,2922.72 771.901,2919.15 809.614,2904.38 847.328,2901.88 885.041,2894.49 922.755,2889.85 960.468,2886.28 998.182,2874.49 1035.9,2864.72 1073.61,2842.21 1111.32,2838.28 1149.04,2828.87 1186.75,2824.82 1224.46,2823.16 1262.18,2814.82 1299.89,2785.76 1337.6,2762.06 1375.32,2750.39 1413.03,2736.93 1450.74,2732.88 1488.46,2722.16 1526.17,2721.81 1563.88,2707.63 1601.6,2707.4 1639.31,2686.55 1677.03,2669.64 1714.74,2650.11 1752.45,2420.85 1790.17,2409.54 1827.88,2368.33 1865.59,2343.2 1903.31,2341.18 1941.02,2341.06 1978.73,2252.09 2016.45,2227.08 2054.16,2217.68 2091.87,2165.51 2129.59,2128.35 2167.3,2080.36 2205.01,2011.05 2242.73,1962.22 2280.44,1935.78 2318.16,1918.87 2355.87,1916.6 2393.58,1903.62 2431.3,1771.31 2469.01,1657.21 2506.72,1647.09 2544.44,1566.94 2582.15,1516.44 2619.86,1505.6 2657.58,1499.77 2695.29,1401.52 2733,1377.22 2770.72,1250.15 2808.43,774.717 2846.14,674.201 2883.86,645.856 2921.57,624.3 2959.29,356.097 2997,317.153 3034.71,287.618 3072.43,132.317 \"/>\n",
       "<path clip-path=\"url(#clip940)\" d=\"M409.046 302.962 L1334.22 302.962 L1334.22 147.442 L409.046 147.442  Z\" fill=\"#ffffff\" fill-rule=\"evenodd\" fill-opacity=\"1\"/>\n",
       "<polyline clip-path=\"url(#clip940)\" style=\"stroke:#000000; stroke-linecap:round; stroke-linejoin:round; stroke-width:4; stroke-opacity:1; fill:none\" points=\"409.046,302.962 1334.22,302.962 1334.22,147.442 409.046,147.442 409.046,302.962 \"/>\n",
       "<polyline clip-path=\"url(#clip940)\" style=\"stroke:#009af9; stroke-linecap:round; stroke-linejoin:round; stroke-width:4; stroke-opacity:1; fill:none\" points=\"440.583,199.282 629.804,199.282 \"/>\n",
       "<path clip-path=\"url(#clip940)\" d=\"M683.054 200.913 L683.054 216.562 L678.795 216.562 L678.795 201.052 Q678.795 197.372 677.36 195.543 Q675.924 193.714 673.054 193.714 Q669.605 193.714 667.614 195.914 Q665.624 198.113 665.624 201.909 L665.624 216.562 L661.341 216.562 L661.341 180.543 L665.624 180.543 L665.624 194.664 Q667.151 192.326 669.212 191.168 Q671.295 190.011 674.003 190.011 Q678.471 190.011 680.762 192.789 Q683.054 195.543 683.054 200.913 Z\" fill=\"#000000\" fill-rule=\"nonzero\" fill-opacity=\"1\" /><path clip-path=\"url(#clip940)\" d=\"M701.596 193.622 Q698.17 193.622 696.179 196.307 Q694.188 198.969 694.188 203.622 Q694.188 208.275 696.156 210.96 Q698.147 213.622 701.596 213.622 Q704.998 213.622 706.989 210.937 Q708.98 208.251 708.98 203.622 Q708.98 199.015 706.989 196.33 Q704.998 193.622 701.596 193.622 M701.596 190.011 Q707.151 190.011 710.322 193.622 Q713.494 197.233 713.494 203.622 Q713.494 209.988 710.322 213.622 Q707.151 217.233 701.596 217.233 Q696.017 217.233 692.846 213.622 Q689.698 209.988 689.698 203.622 Q689.698 197.233 692.846 193.622 Q696.017 190.011 701.596 190.011 Z\" fill=\"#000000\" fill-rule=\"nonzero\" fill-opacity=\"1\" /><path clip-path=\"url(#clip940)\" d=\"M720.114 206.33 L720.114 190.636 L724.373 190.636 L724.373 206.168 Q724.373 209.849 725.808 211.7 Q727.244 213.529 730.114 213.529 Q733.563 213.529 735.554 211.33 Q737.568 209.131 737.568 205.335 L737.568 190.636 L741.827 190.636 L741.827 216.562 L737.568 216.562 L737.568 212.58 Q736.017 214.941 733.957 216.099 Q731.92 217.233 729.211 217.233 Q724.744 217.233 722.429 214.455 Q720.114 211.677 720.114 206.33 M730.832 190.011 L730.832 190.011 Z\" fill=\"#000000\" fill-rule=\"nonzero\" fill-opacity=\"1\" /><path clip-path=\"url(#clip940)\" d=\"M767.128 191.4 L767.128 195.427 Q765.322 194.501 763.378 194.039 Q761.433 193.576 759.35 193.576 Q756.179 193.576 754.581 194.548 Q753.007 195.52 753.007 197.464 Q753.007 198.946 754.142 199.802 Q755.276 200.636 758.702 201.4 L760.16 201.724 Q764.697 202.696 766.595 204.478 Q768.517 206.238 768.517 209.409 Q768.517 213.02 765.646 215.126 Q762.799 217.233 757.799 217.233 Q755.716 217.233 753.447 216.816 Q751.202 216.423 748.702 215.612 L748.702 211.214 Q751.063 212.441 753.355 213.066 Q755.646 213.668 757.892 213.668 Q760.901 213.668 762.521 212.65 Q764.142 211.608 764.142 209.733 Q764.142 207.997 762.961 207.071 Q761.804 206.145 757.845 205.288 L756.364 204.941 Q752.406 204.108 750.646 202.395 Q748.887 200.659 748.887 197.65 Q748.887 193.992 751.48 192.002 Q754.072 190.011 758.841 190.011 Q761.202 190.011 763.285 190.358 Q765.368 190.705 767.128 191.4 Z\" fill=\"#000000\" fill-rule=\"nonzero\" fill-opacity=\"1\" /><path clip-path=\"url(#clip940)\" d=\"M775.299 190.636 L779.558 190.636 L779.558 216.562 L775.299 216.562 L775.299 190.636 M775.299 180.543 L779.558 180.543 L779.558 185.937 L775.299 185.937 L775.299 180.543 Z\" fill=\"#000000\" fill-rule=\"nonzero\" fill-opacity=\"1\" /><path clip-path=\"url(#clip940)\" d=\"M810.021 200.913 L810.021 216.562 L805.762 216.562 L805.762 201.052 Q805.762 197.372 804.327 195.543 Q802.891 193.714 800.021 193.714 Q796.572 193.714 794.581 195.914 Q792.591 198.113 792.591 201.909 L792.591 216.562 L788.308 216.562 L788.308 190.636 L792.591 190.636 L792.591 194.664 Q794.118 192.326 796.178 191.168 Q798.262 190.011 800.97 190.011 Q805.438 190.011 807.729 192.789 Q810.021 195.543 810.021 200.913 Z\" fill=\"#000000\" fill-rule=\"nonzero\" fill-opacity=\"1\" /><path clip-path=\"url(#clip940)\" d=\"M835.576 203.298 Q835.576 198.668 833.655 196.122 Q831.757 193.576 828.308 193.576 Q824.882 193.576 822.961 196.122 Q821.063 198.668 821.063 203.298 Q821.063 207.904 822.961 210.45 Q824.882 212.997 828.308 212.997 Q831.757 212.997 833.655 210.45 Q835.576 207.904 835.576 203.298 M839.836 213.344 Q839.836 219.964 836.896 223.182 Q833.956 226.423 827.891 226.423 Q825.646 226.423 823.655 226.075 Q821.664 225.751 819.789 225.057 L819.789 220.913 Q821.664 221.932 823.493 222.418 Q825.322 222.904 827.22 222.904 Q831.41 222.904 833.493 220.705 Q835.576 218.529 835.576 214.108 L835.576 212.001 Q834.257 214.293 832.197 215.427 Q830.137 216.562 827.266 216.562 Q822.498 216.562 819.581 212.927 Q816.664 209.293 816.664 203.298 Q816.664 197.279 819.581 193.645 Q822.498 190.011 827.266 190.011 Q830.137 190.011 832.197 191.145 Q834.257 192.279 835.576 194.571 L835.576 190.636 L839.836 190.636 L839.836 213.344 Z\" fill=\"#000000\" fill-rule=\"nonzero\" fill-opacity=\"1\" /><path clip-path=\"url(#clip940)\" d=\"M868.308 224.432 L868.308 227.742 L843.678 227.742 L843.678 224.432 L868.308 224.432 Z\" fill=\"#000000\" fill-rule=\"nonzero\" fill-opacity=\"1\" /><path clip-path=\"url(#clip940)\" d=\"M894.488 202.534 L894.488 204.617 L874.905 204.617 Q875.183 209.015 877.544 211.33 Q879.928 213.622 884.164 213.622 Q886.618 213.622 888.909 213.02 Q891.224 212.418 893.493 211.214 L893.493 215.242 Q891.201 216.214 888.794 216.724 Q886.386 217.233 883.909 217.233 Q877.706 217.233 874.072 213.622 Q870.46 210.011 870.46 203.853 Q870.46 197.488 873.886 193.761 Q877.335 190.011 883.169 190.011 Q888.4 190.011 891.433 193.39 Q894.488 196.747 894.488 202.534 M890.229 201.284 Q890.183 197.789 888.261 195.705 Q886.363 193.622 883.215 193.622 Q879.65 193.622 877.497 195.636 Q875.368 197.65 875.044 201.307 L890.229 201.284 Z\" fill=\"#000000\" fill-rule=\"nonzero\" fill-opacity=\"1\" /><path clip-path=\"url(#clip940)\" d=\"M922.196 190.636 L912.821 203.251 L922.682 216.562 L917.659 216.562 L910.113 206.376 L902.567 216.562 L897.544 216.562 L907.613 202.997 L898.4 190.636 L903.423 190.636 L910.298 199.872 L917.173 190.636 L922.196 190.636 Z\" fill=\"#000000\" fill-rule=\"nonzero\" fill-opacity=\"1\" /><path clip-path=\"url(#clip940)\" d=\"M932.821 212.673 L932.821 226.423 L928.539 226.423 L928.539 190.636 L932.821 190.636 L932.821 194.571 Q934.164 192.256 936.201 191.145 Q938.261 190.011 941.108 190.011 Q945.83 190.011 948.77 193.761 Q951.733 197.511 951.733 203.622 Q951.733 209.733 948.77 213.483 Q945.83 217.233 941.108 217.233 Q938.261 217.233 936.201 216.122 Q934.164 214.987 932.821 212.673 M947.312 203.622 Q947.312 198.923 945.367 196.261 Q943.446 193.576 940.067 193.576 Q936.687 193.576 934.743 196.261 Q932.821 198.923 932.821 203.622 Q932.821 208.321 934.743 211.006 Q936.687 213.668 940.067 213.668 Q943.446 213.668 945.367 211.006 Q947.312 208.321 947.312 203.622 Z\" fill=\"#000000\" fill-rule=\"nonzero\" fill-opacity=\"1\" /><path clip-path=\"url(#clip940)\" d=\"M980.969 202.534 L980.969 204.617 L961.386 204.617 Q961.664 209.015 964.025 211.33 Q966.409 213.622 970.645 213.622 Q973.099 213.622 975.39 213.02 Q977.705 212.418 979.974 211.214 L979.974 215.242 Q977.682 216.214 975.275 216.724 Q972.867 217.233 970.391 217.233 Q964.187 217.233 960.553 213.622 Q956.942 210.011 956.942 203.853 Q956.942 197.488 960.367 193.761 Q963.816 190.011 969.65 190.011 Q974.881 190.011 977.914 193.39 Q980.969 196.747 980.969 202.534 M976.71 201.284 Q976.664 197.789 974.742 195.705 Q972.844 193.622 969.696 193.622 Q966.131 193.622 963.979 195.636 Q961.849 197.65 961.525 201.307 L976.71 201.284 Z\" fill=\"#000000\" fill-rule=\"nonzero\" fill-opacity=\"1\" /><path clip-path=\"url(#clip940)\" d=\"M1009.51 200.913 L1009.51 216.562 L1005.25 216.562 L1005.25 201.052 Q1005.25 197.372 1003.82 195.543 Q1002.38 193.714 999.511 193.714 Q996.062 193.714 994.071 195.914 Q992.08 198.113 992.08 201.909 L992.08 216.562 L987.798 216.562 L987.798 190.636 L992.08 190.636 L992.08 194.664 Q993.608 192.326 995.668 191.168 Q997.751 190.011 1000.46 190.011 Q1004.93 190.011 1007.22 192.789 Q1009.51 195.543 1009.51 200.913 Z\" fill=\"#000000\" fill-rule=\"nonzero\" fill-opacity=\"1\" /><path clip-path=\"url(#clip940)\" d=\"M1035.07 194.571 L1035.07 180.543 L1039.33 180.543 L1039.33 216.562 L1035.07 216.562 L1035.07 212.673 Q1033.72 214.987 1031.66 216.122 Q1029.63 217.233 1026.76 217.233 Q1022.06 217.233 1019.09 213.483 Q1016.15 209.733 1016.15 203.622 Q1016.15 197.511 1019.09 193.761 Q1022.06 190.011 1026.76 190.011 Q1029.63 190.011 1031.66 191.145 Q1033.72 192.256 1035.07 194.571 M1020.55 203.622 Q1020.55 208.321 1022.47 211.006 Q1024.42 213.668 1027.8 213.668 Q1031.18 213.668 1033.12 211.006 Q1035.07 208.321 1035.07 203.622 Q1035.07 198.923 1033.12 196.261 Q1031.18 193.576 1027.8 193.576 Q1024.42 193.576 1022.47 196.261 Q1020.55 198.923 1020.55 203.622 Z\" fill=\"#000000\" fill-rule=\"nonzero\" fill-opacity=\"1\" /><path clip-path=\"url(#clip940)\" d=\"M1048.1 190.636 L1052.36 190.636 L1052.36 216.562 L1048.1 216.562 L1048.1 190.636 M1048.1 180.543 L1052.36 180.543 L1052.36 185.937 L1048.1 185.937 L1048.1 180.543 Z\" fill=\"#000000\" fill-rule=\"nonzero\" fill-opacity=\"1\" /><path clip-path=\"url(#clip940)\" d=\"M1065.48 183.275 L1065.48 190.636 L1074.26 190.636 L1074.26 193.946 L1065.48 193.946 L1065.48 208.02 Q1065.48 211.191 1066.34 212.094 Q1067.22 212.997 1069.88 212.997 L1074.26 212.997 L1074.26 216.562 L1069.88 216.562 Q1064.95 216.562 1063.08 214.733 Q1061.2 212.881 1061.2 208.02 L1061.2 193.946 L1058.08 193.946 L1058.08 190.636 L1061.2 190.636 L1061.2 183.275 L1065.48 183.275 Z\" fill=\"#000000\" fill-rule=\"nonzero\" fill-opacity=\"1\" /><path clip-path=\"url(#clip940)\" d=\"M1079.42 206.33 L1079.42 190.636 L1083.68 190.636 L1083.68 206.168 Q1083.68 209.849 1085.11 211.7 Q1086.55 213.529 1089.42 213.529 Q1092.87 213.529 1094.86 211.33 Q1096.87 209.131 1096.87 205.335 L1096.87 190.636 L1101.13 190.636 L1101.13 216.562 L1096.87 216.562 L1096.87 212.58 Q1095.32 214.941 1093.26 216.099 Q1091.22 217.233 1088.51 217.233 Q1084.05 217.233 1081.73 214.455 Q1079.42 211.677 1079.42 206.33 M1090.14 190.011 L1090.14 190.011 Z\" fill=\"#000000\" fill-rule=\"nonzero\" fill-opacity=\"1\" /><path clip-path=\"url(#clip940)\" d=\"M1124.93 194.617 Q1124.21 194.201 1123.35 194.015 Q1122.52 193.807 1121.5 193.807 Q1117.89 193.807 1115.95 196.168 Q1114.02 198.506 1114.02 202.904 L1114.02 216.562 L1109.74 216.562 L1109.74 190.636 L1114.02 190.636 L1114.02 194.664 Q1115.37 192.302 1117.52 191.168 Q1119.67 190.011 1122.75 190.011 Q1123.19 190.011 1123.72 190.08 Q1124.26 190.127 1124.9 190.242 L1124.93 194.617 Z\" fill=\"#000000\" fill-rule=\"nonzero\" fill-opacity=\"1\" /><path clip-path=\"url(#clip940)\" d=\"M1150.53 202.534 L1150.53 204.617 L1130.95 204.617 Q1131.22 209.015 1133.58 211.33 Q1135.97 213.622 1140.2 213.622 Q1142.66 213.622 1144.95 213.02 Q1147.26 212.418 1149.53 211.214 L1149.53 215.242 Q1147.24 216.214 1144.83 216.724 Q1142.43 217.233 1139.95 217.233 Q1133.75 217.233 1130.11 213.622 Q1126.5 210.011 1126.5 203.853 Q1126.5 197.488 1129.93 193.761 Q1133.38 190.011 1139.21 190.011 Q1144.44 190.011 1147.47 193.39 Q1150.53 196.747 1150.53 202.534 M1146.27 201.284 Q1146.22 197.789 1144.3 195.705 Q1142.4 193.622 1139.26 193.622 Q1135.69 193.622 1133.54 195.636 Q1131.41 197.65 1131.08 201.307 L1146.27 201.284 Z\" fill=\"#000000\" fill-rule=\"nonzero\" fill-opacity=\"1\" /><path clip-path=\"url(#clip940)\" d=\"M1177.22 224.432 L1177.22 227.742 L1152.59 227.742 L1152.59 224.432 L1177.22 224.432 Z\" fill=\"#000000\" fill-rule=\"nonzero\" fill-opacity=\"1\" /><path clip-path=\"url(#clip940)\" d=\"M1181.22 190.636 L1185.48 190.636 L1185.48 216.562 L1181.22 216.562 L1181.22 190.636 M1181.22 180.543 L1185.48 180.543 L1185.48 185.937 L1181.22 185.937 L1181.22 180.543 Z\" fill=\"#000000\" fill-rule=\"nonzero\" fill-opacity=\"1\" /><path clip-path=\"url(#clip940)\" d=\"M1215.94 200.913 L1215.94 216.562 L1211.69 216.562 L1211.69 201.052 Q1211.69 197.372 1210.25 195.543 Q1208.82 193.714 1205.94 193.714 Q1202.5 193.714 1200.51 195.914 Q1198.51 198.113 1198.51 201.909 L1198.51 216.562 L1194.23 216.562 L1194.23 190.636 L1198.51 190.636 L1198.51 194.664 Q1200.04 192.326 1202.1 191.168 Q1204.19 190.011 1206.89 190.011 Q1211.36 190.011 1213.65 192.789 Q1215.94 195.543 1215.94 200.913 Z\" fill=\"#000000\" fill-rule=\"nonzero\" fill-opacity=\"1\" /><path clip-path=\"url(#clip940)\" d=\"M1224.44 190.636 L1228.7 190.636 L1228.7 216.562 L1224.44 216.562 L1224.44 190.636 M1224.44 180.543 L1228.7 180.543 L1228.7 185.937 L1224.44 185.937 L1224.44 180.543 Z\" fill=\"#000000\" fill-rule=\"nonzero\" fill-opacity=\"1\" /><path clip-path=\"url(#clip940)\" d=\"M1241.82 183.275 L1241.82 190.636 L1250.6 190.636 L1250.6 193.946 L1241.82 193.946 L1241.82 208.02 Q1241.82 211.191 1242.68 212.094 Q1243.56 212.997 1246.22 212.997 L1250.6 212.997 L1250.6 216.562 L1246.22 216.562 Q1241.29 216.562 1239.42 214.733 Q1237.54 212.881 1237.54 208.02 L1237.54 193.946 L1234.42 193.946 L1234.42 190.636 L1237.54 190.636 L1237.54 183.275 L1241.82 183.275 Z\" fill=\"#000000\" fill-rule=\"nonzero\" fill-opacity=\"1\" /><path clip-path=\"url(#clip940)\" d=\"M1256.2 190.636 L1260.46 190.636 L1260.46 216.562 L1256.2 216.562 L1256.2 190.636 M1256.2 180.543 L1260.46 180.543 L1260.46 185.937 L1256.2 185.937 L1256.2 180.543 Z\" fill=\"#000000\" fill-rule=\"nonzero\" fill-opacity=\"1\" /><path clip-path=\"url(#clip940)\" d=\"M1281.15 203.529 Q1275.99 203.529 1274 204.71 Q1272.01 205.89 1272.01 208.738 Q1272.01 211.006 1273.49 212.349 Q1275 213.668 1277.56 213.668 Q1281.11 213.668 1283.24 211.168 Q1285.39 208.645 1285.39 204.478 L1285.39 203.529 L1281.15 203.529 M1289.65 201.77 L1289.65 216.562 L1285.39 216.562 L1285.39 212.626 Q1283.93 214.987 1281.75 216.122 Q1279.58 217.233 1276.43 217.233 Q1272.45 217.233 1270.09 215.011 Q1267.75 212.765 1267.75 209.015 Q1267.75 204.64 1270.67 202.418 Q1273.61 200.196 1279.42 200.196 L1285.39 200.196 L1285.39 199.779 Q1285.39 196.839 1283.44 195.242 Q1281.52 193.622 1278.03 193.622 Q1275.81 193.622 1273.7 194.154 Q1271.59 194.687 1269.65 195.751 L1269.65 191.816 Q1271.99 190.914 1274.19 190.474 Q1276.38 190.011 1278.47 190.011 Q1284.09 190.011 1286.87 192.927 Q1289.65 195.844 1289.65 201.77 Z\" fill=\"#000000\" fill-rule=\"nonzero\" fill-opacity=\"1\" /><path clip-path=\"url(#clip940)\" d=\"M1298.42 180.543 L1302.68 180.543 L1302.68 216.562 L1298.42 216.562 L1298.42 180.543 Z\" fill=\"#000000\" fill-rule=\"nonzero\" fill-opacity=\"1\" /><polyline clip-path=\"url(#clip940)\" style=\"stroke:#e26f46; stroke-linecap:round; stroke-linejoin:round; stroke-width:4; stroke-opacity:1; fill:none\" points=\"440.583,251.122 629.804,251.122 \"/>\n",
       "<path clip-path=\"url(#clip940)\" d=\"M676.526 246.457 Q675.809 246.041 674.952 245.855 Q674.119 245.647 673.1 245.647 Q669.489 245.647 667.545 248.008 Q665.624 250.346 665.624 254.744 L665.624 268.402 L661.341 268.402 L661.341 242.476 L665.624 242.476 L665.624 246.504 Q666.966 244.142 669.119 243.008 Q671.272 241.851 674.35 241.851 Q674.79 241.851 675.323 241.92 Q675.855 241.967 676.503 242.082 L676.526 246.457 Z\" fill=\"#000000\" fill-rule=\"nonzero\" fill-opacity=\"1\" /><path clip-path=\"url(#clip940)\" d=\"M702.128 254.374 L702.128 256.457 L682.545 256.457 Q682.823 260.855 685.184 263.17 Q687.568 265.462 691.804 265.462 Q694.258 265.462 696.549 264.86 Q698.864 264.258 701.133 263.054 L701.133 267.082 Q698.841 268.054 696.434 268.564 Q694.026 269.073 691.549 269.073 Q685.346 269.073 681.711 265.462 Q678.1 261.851 678.1 255.693 Q678.1 249.328 681.526 245.601 Q684.975 241.851 690.809 241.851 Q696.04 241.851 699.073 245.23 Q702.128 248.587 702.128 254.374 M697.869 253.124 Q697.823 249.629 695.901 247.545 Q694.003 245.462 690.855 245.462 Q687.29 245.462 685.137 247.476 Q683.008 249.49 682.684 253.147 L697.869 253.124 Z\" fill=\"#000000\" fill-rule=\"nonzero\" fill-opacity=\"1\" /><path clip-path=\"url(#clip940)\" d=\"M730.67 252.753 L730.67 268.402 L726.41 268.402 L726.41 252.892 Q726.41 249.212 724.975 247.383 Q723.54 245.554 720.67 245.554 Q717.221 245.554 715.23 247.754 Q713.239 249.953 713.239 253.749 L713.239 268.402 L708.957 268.402 L708.957 242.476 L713.239 242.476 L713.239 246.504 Q714.767 244.166 716.827 243.008 Q718.91 241.851 721.619 241.851 Q726.086 241.851 728.378 244.629 Q730.67 247.383 730.67 252.753 Z\" fill=\"#000000\" fill-rule=\"nonzero\" fill-opacity=\"1\" /><path clip-path=\"url(#clip940)\" d=\"M743.378 235.115 L743.378 242.476 L752.151 242.476 L752.151 245.786 L743.378 245.786 L743.378 259.86 Q743.378 263.031 744.234 263.934 Q745.114 264.837 747.776 264.837 L752.151 264.837 L752.151 268.402 L747.776 268.402 Q742.845 268.402 740.97 266.573 Q739.095 264.721 739.095 259.86 L739.095 245.786 L735.97 245.786 L735.97 242.476 L739.095 242.476 L739.095 235.115 L743.378 235.115 Z\" fill=\"#000000\" fill-rule=\"nonzero\" fill-opacity=\"1\" /><path clip-path=\"url(#clip940)\" d=\"M769.535 255.369 Q764.373 255.369 762.382 256.55 Q760.392 257.73 760.392 260.578 Q760.392 262.846 761.873 264.189 Q763.378 265.508 765.947 265.508 Q769.489 265.508 771.618 263.008 Q773.771 260.485 773.771 256.318 L773.771 255.369 L769.535 255.369 M778.03 253.61 L778.03 268.402 L773.771 268.402 L773.771 264.466 Q772.313 266.827 770.137 267.962 Q767.961 269.073 764.813 269.073 Q760.831 269.073 758.47 266.851 Q756.132 264.605 756.132 260.855 Q756.132 256.48 759.049 254.258 Q761.989 252.036 767.799 252.036 L773.771 252.036 L773.771 251.619 Q773.771 248.679 771.827 247.082 Q769.905 245.462 766.41 245.462 Q764.188 245.462 762.081 245.994 Q759.975 246.527 758.031 247.591 L758.031 243.656 Q760.368 242.754 762.568 242.314 Q764.767 241.851 766.85 241.851 Q772.475 241.851 775.253 244.767 Q778.03 247.684 778.03 253.61 Z\" fill=\"#000000\" fill-rule=\"nonzero\" fill-opacity=\"1\" /><path clip-path=\"url(#clip940)\" d=\"M786.804 232.383 L791.063 232.383 L791.063 268.402 L786.804 268.402 L786.804 232.383 Z\" fill=\"#000000\" fill-rule=\"nonzero\" fill-opacity=\"1\" /><path clip-path=\"url(#clip940)\" d=\"M819.674 276.272 L819.674 279.582 L795.044 279.582 L795.044 276.272 L819.674 276.272 Z\" fill=\"#000000\" fill-rule=\"nonzero\" fill-opacity=\"1\" /><path clip-path=\"url(#clip940)\" d=\"M835.461 255.369 Q830.299 255.369 828.308 256.55 Q826.317 257.73 826.317 260.578 Q826.317 262.846 827.799 264.189 Q829.303 265.508 831.873 265.508 Q835.414 265.508 837.544 263.008 Q839.697 260.485 839.697 256.318 L839.697 255.369 L835.461 255.369 M843.956 253.61 L843.956 268.402 L839.697 268.402 L839.697 264.466 Q838.238 266.827 836.063 267.962 Q833.887 269.073 830.738 269.073 Q826.757 269.073 824.396 266.851 Q822.058 264.605 822.058 260.855 Q822.058 256.48 824.975 254.258 Q827.914 252.036 833.725 252.036 L839.697 252.036 L839.697 251.619 Q839.697 248.679 837.752 247.082 Q835.831 245.462 832.336 245.462 Q830.113 245.462 828.007 245.994 Q825.901 246.527 823.956 247.591 L823.956 243.656 Q826.294 242.754 828.493 242.314 Q830.692 241.851 832.776 241.851 Q838.4 241.851 841.178 244.767 Q843.956 247.684 843.956 253.61 Z\" fill=\"#000000\" fill-rule=\"nonzero\" fill-opacity=\"1\" /><path clip-path=\"url(#clip940)\" d=\"M869.257 243.24 L869.257 247.267 Q867.451 246.341 865.507 245.879 Q863.562 245.416 861.479 245.416 Q858.308 245.416 856.711 246.388 Q855.136 247.36 855.136 249.304 Q855.136 250.786 856.271 251.642 Q857.405 252.476 860.831 253.24 L862.289 253.564 Q866.826 254.536 868.724 256.318 Q870.646 258.078 870.646 261.249 Q870.646 264.86 867.775 266.966 Q864.928 269.073 859.928 269.073 Q857.845 269.073 855.576 268.656 Q853.331 268.263 850.831 267.452 L850.831 263.054 Q853.192 264.281 855.484 264.906 Q857.775 265.508 860.021 265.508 Q863.03 265.508 864.65 264.49 Q866.271 263.448 866.271 261.573 Q866.271 259.837 865.09 258.911 Q863.933 257.985 859.974 257.128 L858.493 256.781 Q854.535 255.948 852.775 254.235 Q851.016 252.499 851.016 249.49 Q851.016 245.832 853.609 243.842 Q856.201 241.851 860.97 241.851 Q863.331 241.851 865.414 242.198 Q867.498 242.545 869.257 243.24 Z\" fill=\"#000000\" fill-rule=\"nonzero\" fill-opacity=\"1\" /><path clip-path=\"url(#clip940)\" d=\"M877.266 232.383 L881.548 232.383 L881.548 253.656 L894.257 242.476 L899.696 242.476 L885.947 254.605 L900.275 268.402 L894.72 268.402 L881.548 255.74 L881.548 268.402 L877.266 268.402 L877.266 232.383 Z\" fill=\"#000000\" fill-rule=\"nonzero\" fill-opacity=\"1\" /><path clip-path=\"url(#clip940)\" d=\"M924.581 276.272 L924.581 279.582 L899.951 279.582 L899.951 276.272 L924.581 276.272 Z\" fill=\"#000000\" fill-rule=\"nonzero\" fill-opacity=\"1\" /><path clip-path=\"url(#clip940)\" d=\"M928.585 242.476 L932.844 242.476 L932.844 268.402 L928.585 268.402 L928.585 242.476 M928.585 232.383 L932.844 232.383 L932.844 237.777 L928.585 237.777 L928.585 232.383 Z\" fill=\"#000000\" fill-rule=\"nonzero\" fill-opacity=\"1\" /><path clip-path=\"url(#clip940)\" d=\"M963.307 252.753 L963.307 268.402 L959.048 268.402 L959.048 252.892 Q959.048 249.212 957.613 247.383 Q956.178 245.554 953.307 245.554 Q949.858 245.554 947.867 247.754 Q945.877 249.953 945.877 253.749 L945.877 268.402 L941.594 268.402 L941.594 242.476 L945.877 242.476 L945.877 246.504 Q947.405 244.166 949.465 243.008 Q951.548 241.851 954.256 241.851 Q958.724 241.851 961.016 244.629 Q963.307 247.383 963.307 252.753 Z\" fill=\"#000000\" fill-rule=\"nonzero\" fill-opacity=\"1\" /><path clip-path=\"url(#clip940)\" d=\"M971.803 242.476 L976.062 242.476 L976.062 268.402 L971.803 268.402 L971.803 242.476 M971.803 232.383 L976.062 232.383 L976.062 237.777 L971.803 237.777 L971.803 232.383 Z\" fill=\"#000000\" fill-rule=\"nonzero\" fill-opacity=\"1\" /><path clip-path=\"url(#clip940)\" d=\"M989.187 235.115 L989.187 242.476 L997.96 242.476 L997.96 245.786 L989.187 245.786 L989.187 259.86 Q989.187 263.031 990.043 263.934 Q990.923 264.837 993.585 264.837 L997.96 264.837 L997.96 268.402 L993.585 268.402 Q988.654 268.402 986.779 266.573 Q984.904 264.721 984.904 259.86 L984.904 245.786 L981.779 245.786 L981.779 242.476 L984.904 242.476 L984.904 235.115 L989.187 235.115 Z\" fill=\"#000000\" fill-rule=\"nonzero\" fill-opacity=\"1\" /><path clip-path=\"url(#clip940)\" d=\"M1003.56 242.476 L1007.82 242.476 L1007.82 268.402 L1003.56 268.402 L1003.56 242.476 M1003.56 232.383 L1007.82 232.383 L1007.82 237.777 L1003.56 237.777 L1003.56 232.383 Z\" fill=\"#000000\" fill-rule=\"nonzero\" fill-opacity=\"1\" /><path clip-path=\"url(#clip940)\" d=\"M1028.52 255.369 Q1023.35 255.369 1021.36 256.55 Q1019.37 257.73 1019.37 260.578 Q1019.37 262.846 1020.85 264.189 Q1022.36 265.508 1024.93 265.508 Q1028.47 265.508 1030.6 263.008 Q1032.75 260.485 1032.75 256.318 L1032.75 255.369 L1028.52 255.369 M1037.01 253.61 L1037.01 268.402 L1032.75 268.402 L1032.75 264.466 Q1031.29 266.827 1029.12 267.962 Q1026.94 269.073 1023.79 269.073 Q1019.81 269.073 1017.45 266.851 Q1015.11 264.605 1015.11 260.855 Q1015.11 256.48 1018.03 254.258 Q1020.97 252.036 1026.78 252.036 L1032.75 252.036 L1032.75 251.619 Q1032.75 248.679 1030.81 247.082 Q1028.89 245.462 1025.39 245.462 Q1023.17 245.462 1021.06 245.994 Q1018.96 246.527 1017.01 247.591 L1017.01 243.656 Q1019.35 242.754 1021.55 242.314 Q1023.75 241.851 1025.83 241.851 Q1031.45 241.851 1034.23 244.767 Q1037.01 247.684 1037.01 253.61 Z\" fill=\"#000000\" fill-rule=\"nonzero\" fill-opacity=\"1\" /><path clip-path=\"url(#clip940)\" d=\"M1045.78 232.383 L1050.04 232.383 L1050.04 268.402 L1045.78 268.402 L1045.78 232.383 Z\" fill=\"#000000\" fill-rule=\"nonzero\" fill-opacity=\"1\" /></svg>\n"
      ]
     },
     "execution_count": 5,
     "metadata": {},
     "output_type": "execute_result"
    }
   ],
   "source": [
    "N = size(house_rentals)[1] #agent_budgets assumed to be same size as house_rentals\n",
    "visible_N = Int32(floor(N*market_visibility))\n",
    "# first plot of rental prices against agent budgets\n",
    "# run plot only for small number of households (e.g. < 1000)\n",
    "if (N<4000)\n",
    "    plot(collect(1:a_size), [agent_budgets[:,1] house_rentals[:,1]], layout=(1,1), \n",
    "    label=[\"housing_expenditure_initial\" \"rental_ask_initial\"], reuse=false, size = (800,800)) \n",
    "end"
   ]
  },
  {
   "cell_type": "code",
   "execution_count": null,
   "id": "47568de7-663d-45ff-bb0f-367d7a439a35",
   "metadata": {},
   "outputs": [],
   "source": []
  },
  {
   "cell_type": "code",
   "execution_count": null,
   "id": "a75727de-610d-4ccf-bb00-2378debd085e",
   "metadata": {},
   "outputs": [],
   "source": []
  },
  {
   "cell_type": "markdown",
   "id": "66a5a394-d51d-44b9-9f14-d58db10fc890",
   "metadata": {},
   "source": [
    "#= setup for CUDA probability function\n",
    "numblocks = ceil(Int, N/256)\n",
    "#temporary vectors to store range of probabilities given budget and rentals\n",
    "z_d = CUDA.zeros(Float16,N) \n",
    "y_d = CUDA.CuArray(house_rentals) \n",
    "=#\n",
    "datadump = Any[] #for saving of each loop data\n",
    "#sim loop number\n",
    "SIM_LOOP = 1"
   ]
  },
  {
   "cell_type": "markdown",
   "id": "0983ef48-591c-49ff-bc74-bffb7c9e6e56",
   "metadata": {},
   "source": [
    "anim = @animate for i in 1:10\n"
   ]
  },
  {
   "cell_type": "code",
   "execution_count": 8,
   "id": "20e1bd2e-ed64-4b07-a905-844d82aed368",
   "metadata": {},
   "outputs": [],
   "source": [
    "\n",
    "########## \"static\" initialisation above ##########\n",
    "# reason for renaming to z_h z_d is because of CUDA / non CUDA code\n",
    "z_h = zeros(Float32,N)\n",
    "y_h = house_rentals[:,1]\n",
    "# scoreboard of bids, first column is bid price, second column is agent_number\n",
    "market_scoreboard = zeros(Int32, (N,3))\n",
    "#Model_Functions.saveCSV(\"budgets_initialisation.csv\",agent_budgets)\n",
    "#Model_Functions.saveCSV(\"house_rentals_initialisation.csv\",house_rentals)\n",
    "\n",
    "#only agent_budgets and house_rentals are dynamic variables from here onwards\n",
    "\n",
    "# first critical decision loop, for each agent, discover their price preference,\n",
    "# sort the preferences, top 2 preferred housings receives the highest bid\n",
    "#multithreading isn't fair if richer bid ahead of poorer, but so is real life\n",
    "Threads.@threads for i in eachindex(agent_budgets[:,1]) \n",
    "    budget = agent_budgets[i]\n",
    "    # println(\"agent_budget_number: \", i); println(\"agent budget is: \\$\", budget)\n",
    "    z_h = Model_Functions.rent_probability_CPU.(budget,y_h,rent_spread)\n",
    "    #disable CUDA until there is a way to start CUDA functions in parallel processes\n",
    "    #@sync @cuda threads=1024 blocks=numblocks Model_Functions.rent_probability_GPU(z_d, budget, y_d,rent_spread)\n",
    "    #z_h = Array(z_d)\n",
    "    choices = sortperm(z_h, rev=true); # println(\"sortperm for agent\", i, \" is \", choices')\n",
    "    choices_truncated = collect(choices[1:2]) #only look at top 3 choices\n",
    "    choices_others = collect(choices[3:visible_N]) #look at some of the rest of the choices\n",
    "    #this first for loop gives us the bona fide buyers, whose top 2 choices fit their budget\n",
    "    for choice in choices_truncated\n",
    "        if house_rentals[choice] <= budget\n",
    "            if market_scoreboard[choice] < budget\n",
    "                market_scoreboard[choice] = budget\n",
    "                market_scoreboard[N+choice]=i\n",
    "            end \n",
    "        end\n",
    "    end \n",
    "    #this second for loop gives us the other choices considered, so the scoreboard can 'learn' prices\n",
    "    #the scoreboard third column of \"learned\" prices varies with market visibility etc.\n",
    "    for choice in choices_others\n",
    "        if budget >= market_scoreboard[choice]\n",
    "            market_scoreboard[2N+choice] = budget\n",
    "        end\n",
    "    end\n",
    "end #end of choice loop\n"
   ]
  },
  {
   "cell_type": "code",
   "execution_count": null,
   "id": "28d2277d-73aa-488d-bd12-db2b5609287d",
   "metadata": {},
   "outputs": [],
   "source": []
  },
  {
   "cell_type": "code",
   "execution_count": 9,
   "id": "e10833e9-63ff-4577-9bd7-004480101bab",
   "metadata": {},
   "outputs": [
    {
     "name": "stdout",
     "output_type": "stream",
     "text": [
      "Previous mean rental: $6298\n",
      "New mean of allocated market: $1699\n"
     ]
    }
   ],
   "source": [
    "\n",
    "#Model_Functions.saveCSV(\"market_scoreboard_FIRSTRUN.csv\",market_scoreboard)\n",
    "\n",
    "#old market mean for info\n",
    "println(\"Previous mean rental: \\$\", Int32(round(sum(house_rentals[:,1])/N)))\n",
    "#k1 is to capture all the housing which has willing bidders\n",
    "k1 = map((x,y)-> (x!=0) ? y : 0, market_scoreboard[:,1], house_rentals[:,1])\n",
    "size_k1 = sum( map((x)->(x!=0) ? 1 : 0, k1) )\n",
    "#and using k1 to re-calculate the realistic market mean bid price\n",
    "new_market_mean = Int32(round(sum(k1)/size_k1))\n",
    "println(\"New mean of allocated market: \\$\", new_market_mean)\n"
   ]
  },
  {
   "cell_type": "code",
   "execution_count": null,
   "id": "0cd82dfa-d0a3-4c3f-bff1-0646d4947f12",
   "metadata": {},
   "outputs": [],
   "source": []
  },
  {
   "cell_type": "code",
   "execution_count": 10,
   "id": "d5812bdb-dea6-4a73-b660-37763a05158a",
   "metadata": {},
   "outputs": [],
   "source": [
    "#allocate the bidders their housing\n",
    "last_bidder = 0\n",
    "for i in eachindex(market_scoreboard[:,2])\n",
    "    a_index = N+i\n",
    "    bidder = market_scoreboard[a_index]\n",
    "    if bidder!=0 && bidder==last_bidder\n",
    "        continue\n",
    "    else\n",
    "        if bidder!=0\n",
    "            house_rentals[a_index] = bidder #allocate the bidder to the rental\n",
    "            house_rentals[i] = market_scoreboard[i]\n",
    "            tenure = agent_budgets[a_index] #read the tenure from the agent_budget record, if it is 0, reset it\n",
    "            (tenure==0) ? agent_budgets[a_index] = tenure_typical : agent_budgets[a_index] = tenure - 1\n",
    "        end\n",
    "    end\n",
    "    last_bidder = bidder\n",
    "end\n",
    "\n",
    "#Model_Functions.saveCSV(\"house_rentals_FIRSTRUN.csv\",house_rentals)\n",
    "#Model_Functions.saveCSV(\"agent_budgets_FIRSTRUN.csv\",agent_budgets)\n",
    "#account for homeless (who or how many or both?)\n"
   ]
  },
  {
   "cell_type": "code",
   "execution_count": null,
   "id": "02c2fef1-f4d3-4a00-a9e0-45541879ef4b",
   "metadata": {},
   "outputs": [],
   "source": []
  },
  {
   "cell_type": "code",
   "execution_count": 11,
   "id": "25ce08e5-f8cd-47ce-b2ae-edef79e57abb",
   "metadata": {},
   "outputs": [
    {
     "name": "stdout",
     "output_type": "stream",
     "text": [
      "agent_budget used to be: 1841to be reduced\n",
      "agent_budget used to be: 1932to be reduced\n",
      "agent_budget used to be: 2642to be reduced\n",
      "agent_budget used to be: 2696to be reduced\n",
      "agent_budget used to be: 2260to be reduced\n",
      "agent_budget used to be: 2423to be reduced\n",
      "agent_budget used to be: 2139to be reduced\n",
      "agent_budget used to be: 2541to be reduced\n",
      "agent_budget used to be: 2627to be reduced\n",
      "agent_budget used to be: 2371to be reduced\n",
      "agent_budget used to be: 2952to be reduced\n",
      "agent_budget used to be: 2668to be reduced\n",
      "agent_budget used to be: 3137to be reduced\n",
      "agent_budget used to be: 3320to be reduced\n",
      "agent_budget used to be: 3277to be reduced\n",
      "agent_budget used to be: 2816to be reduced\n",
      "agent_budget used to be: 3294to be reduced\n",
      "agent_budget used to be: 3594to be reduced\n",
      "agent_budget used to be: 3492to be reduced\n",
      "agent_budget used to be: 3805to be reduced\n",
      "agent_budget used to be: 3221to be reduced\n",
      "agent_budget used to be: 2988to be reduced\n",
      "agent_budget used to be: 3290to be reduced\n",
      "agent_budget used to be: 3300to be reduced\n",
      "agent_budget used to be: 3757to be reduced\n",
      "agent_budget used to be: 3534to be reduced\n",
      "agent_budget used to be: 3356to be reduced\n",
      "agent_budget used to be: 4091to be reduced\n",
      "agent_budget used to be: 4061to be reduced\n",
      "agent_budget used to be: 4429to be reduced\n",
      "agent_budget used to be: 4377to be reduced\n",
      "agent_budget used to be: 4393to be reduced\n",
      "agent_budget used to be: 4499to be reduced\n",
      "agent_budget used to be: 5601to be reduced\n",
      "agent_budget used to be: 4882to be reduced\n"
     ]
    }
   ],
   "source": [
    "\n",
    "for i in eachindex(agent_budgets[:,1])\n",
    "    a_index = N+i\n",
    "    budget = agent_budgets[i] \n",
    "    if agent_budgets[a_index] == 0\n",
    "        if (budget > new_market_mean)\n",
    "            println(\"agent_budget used to be: \", agent_budgets[i],\" to be reduced\")\n",
    "            adjustment = rand(-15:0.5:0)/100 * budget #reduce somewhere up to 15% lower \n",
    "        else\n",
    "            adjustment = rand(0:0.5:15)/100 * budget #else increase up to 15%\n",
    "            println(\"agent_budget used to be: \", agent_budgets[i],\" to be increased\")\n",
    "        end\n",
    "        budget += adjustment; \n",
    "        agent_budgets[i] = Int32(round(budget))\n",
    "    end\n",
    "end\n",
    "#vscodedisplay(agent_budgets) ##\n"
   ]
  },
  {
   "cell_type": "code",
   "execution_count": null,
   "id": "af8a3a41-c8ee-4962-830a-1845c29c6e6b",
   "metadata": {},
   "outputs": [],
   "source": []
  },
  {
   "cell_type": "code",
   "execution_count": 12,
   "id": "0f4ab833-8fc3-4e7e-a364-eefb14768068",
   "metadata": {},
   "outputs": [
    {
     "data": {
      "image/svg+xml": [
       "<?xml version=\"1.0\" encoding=\"utf-8\"?>\n",
       "<svg xmlns=\"http://www.w3.org/2000/svg\" xmlns:xlink=\"http://www.w3.org/1999/xlink\" width=\"800\" height=\"800\" viewBox=\"0 0 3200 3200\">\n",
       "<defs>\n",
       "  <clipPath id=\"clip980\">\n",
       "    <rect x=\"0\" y=\"0\" width=\"3200\" height=\"3200\"/>\n",
       "  </clipPath>\n",
       "</defs>\n",
       "<path clip-path=\"url(#clip980)\" d=\"M0 3200 L3200 3200 L3200 0 L0 0  Z\" fill=\"#ffffff\" fill-rule=\"evenodd\" fill-opacity=\"1\"/>\n",
       "<defs>\n",
       "  <clipPath id=\"clip981\">\n",
       "    <rect x=\"640\" y=\"320\" width=\"2241\" height=\"2241\"/>\n",
       "  </clipPath>\n",
       "</defs>\n",
       "<path clip-path=\"url(#clip980)\" d=\"M314.435 3053.17 L3152.76 3053.17 L3152.76 47.2441 L314.435 47.2441  Z\" fill=\"#ffffff\" fill-rule=\"evenodd\" fill-opacity=\"1\"/>\n",
       "<defs>\n",
       "  <clipPath id=\"clip982\">\n",
       "    <rect x=\"314\" y=\"47\" width=\"2839\" height=\"3007\"/>\n",
       "  </clipPath>\n",
       "</defs>\n",
       "<polyline clip-path=\"url(#clip982)\" style=\"stroke:#000000; stroke-linecap:round; stroke-linejoin:round; stroke-width:2; stroke-opacity:0.1; fill:none\" points=\"357.052,3053.17 357.052,47.2441 \"/>\n",
       "<polyline clip-path=\"url(#clip982)\" style=\"stroke:#000000; stroke-linecap:round; stroke-linejoin:round; stroke-width:2; stroke-opacity:0.1; fill:none\" points=\"1111.32,3053.17 1111.32,47.2441 \"/>\n",
       "<polyline clip-path=\"url(#clip982)\" style=\"stroke:#000000; stroke-linecap:round; stroke-linejoin:round; stroke-width:2; stroke-opacity:0.1; fill:none\" points=\"1865.59,3053.17 1865.59,47.2441 \"/>\n",
       "<polyline clip-path=\"url(#clip982)\" style=\"stroke:#000000; stroke-linecap:round; stroke-linejoin:round; stroke-width:2; stroke-opacity:0.1; fill:none\" points=\"2619.86,3053.17 2619.86,47.2441 \"/>\n",
       "<polyline clip-path=\"url(#clip980)\" style=\"stroke:#000000; stroke-linecap:round; stroke-linejoin:round; stroke-width:4; stroke-opacity:1; fill:none\" points=\"314.435,3053.17 3152.76,3053.17 \"/>\n",
       "<polyline clip-path=\"url(#clip980)\" style=\"stroke:#000000; stroke-linecap:round; stroke-linejoin:round; stroke-width:4; stroke-opacity:1; fill:none\" points=\"357.052,3053.17 357.052,3034.27 \"/>\n",
       "<polyline clip-path=\"url(#clip980)\" style=\"stroke:#000000; stroke-linecap:round; stroke-linejoin:round; stroke-width:4; stroke-opacity:1; fill:none\" points=\"1111.32,3053.17 1111.32,3034.27 \"/>\n",
       "<polyline clip-path=\"url(#clip980)\" style=\"stroke:#000000; stroke-linecap:round; stroke-linejoin:round; stroke-width:4; stroke-opacity:1; fill:none\" points=\"1865.59,3053.17 1865.59,3034.27 \"/>\n",
       "<polyline clip-path=\"url(#clip980)\" style=\"stroke:#000000; stroke-linecap:round; stroke-linejoin:round; stroke-width:4; stroke-opacity:1; fill:none\" points=\"2619.86,3053.17 2619.86,3034.27 \"/>\n",
       "<path clip-path=\"url(#clip980)\" d=\"M357.052 3090.49 Q353.441 3090.49 351.612 3094.05 Q349.806 3097.59 349.806 3104.72 Q349.806 3111.83 351.612 3115.39 Q353.441 3118.94 357.052 3118.94 Q360.686 3118.94 362.491 3115.39 Q364.32 3111.83 364.32 3104.72 Q364.32 3097.59 362.491 3094.05 Q360.686 3090.49 357.052 3090.49 M357.052 3086.78 Q362.862 3086.78 365.917 3091.39 Q368.996 3095.97 368.996 3104.72 Q368.996 3113.45 365.917 3118.06 Q362.862 3122.64 357.052 3122.64 Q351.242 3122.64 348.163 3118.06 Q345.107 3113.45 345.107 3104.72 Q345.107 3095.97 348.163 3091.39 Q351.242 3086.78 357.052 3086.78 Z\" fill=\"#000000\" fill-rule=\"nonzero\" fill-opacity=\"1\" /><path clip-path=\"url(#clip980)\" d=\"M1090.1 3118.03 L1106.41 3118.03 L1106.41 3121.97 L1084.47 3121.97 L1084.47 3118.03 Q1087.13 3115.28 1091.72 3110.65 Q1096.32 3106 1097.5 3104.65 Q1099.75 3102.13 1100.63 3100.39 Q1101.53 3098.63 1101.53 3096.94 Q1101.53 3094.19 1099.59 3092.45 Q1097.67 3090.72 1094.56 3090.72 Q1092.36 3090.72 1089.91 3091.48 Q1087.48 3092.25 1084.7 3093.8 L1084.7 3089.07 Q1087.53 3087.94 1089.98 3087.36 Q1092.43 3086.78 1094.47 3086.78 Q1099.84 3086.78 1103.04 3089.47 Q1106.23 3092.15 1106.23 3096.64 Q1106.23 3098.77 1105.42 3100.69 Q1104.63 3102.59 1102.53 3105.19 Q1101.95 3105.86 1098.85 3109.07 Q1095.74 3112.27 1090.1 3118.03 Z\" fill=\"#000000\" fill-rule=\"nonzero\" fill-opacity=\"1\" /><path clip-path=\"url(#clip980)\" d=\"M1126.23 3090.49 Q1122.62 3090.49 1120.79 3094.05 Q1118.98 3097.59 1118.98 3104.72 Q1118.98 3111.83 1120.79 3115.39 Q1122.62 3118.94 1126.23 3118.94 Q1129.86 3118.94 1131.67 3115.39 Q1133.5 3111.83 1133.5 3104.72 Q1133.5 3097.59 1131.67 3094.05 Q1129.86 3090.49 1126.23 3090.49 M1126.23 3086.78 Q1132.04 3086.78 1135.1 3091.39 Q1138.17 3095.97 1138.17 3104.72 Q1138.17 3113.45 1135.1 3118.06 Q1132.04 3122.64 1126.23 3122.64 Q1120.42 3122.64 1117.34 3118.06 Q1114.29 3113.45 1114.29 3104.72 Q1114.29 3095.97 1117.34 3091.39 Q1120.42 3086.78 1126.23 3086.78 Z\" fill=\"#000000\" fill-rule=\"nonzero\" fill-opacity=\"1\" /><path clip-path=\"url(#clip980)\" d=\"M1853.76 3091.48 L1841.96 3109.93 L1853.76 3109.93 L1853.76 3091.48 M1852.54 3087.41 L1858.42 3087.41 L1858.42 3109.93 L1863.35 3109.93 L1863.35 3113.82 L1858.42 3113.82 L1858.42 3121.97 L1853.76 3121.97 L1853.76 3113.82 L1838.16 3113.82 L1838.16 3109.31 L1852.54 3087.41 Z\" fill=\"#000000\" fill-rule=\"nonzero\" fill-opacity=\"1\" /><path clip-path=\"url(#clip980)\" d=\"M1881.08 3090.49 Q1877.47 3090.49 1875.64 3094.05 Q1873.83 3097.59 1873.83 3104.72 Q1873.83 3111.83 1875.64 3115.39 Q1877.47 3118.94 1881.08 3118.94 Q1884.71 3118.94 1886.52 3115.39 Q1888.35 3111.83 1888.35 3104.72 Q1888.35 3097.59 1886.52 3094.05 Q1884.71 3090.49 1881.08 3090.49 M1881.08 3086.78 Q1886.89 3086.78 1889.94 3091.39 Q1893.02 3095.97 1893.02 3104.72 Q1893.02 3113.45 1889.94 3118.06 Q1886.89 3122.64 1881.08 3122.64 Q1875.27 3122.64 1872.19 3118.06 Q1869.13 3113.45 1869.13 3104.72 Q1869.13 3095.97 1872.19 3091.39 Q1875.27 3086.78 1881.08 3086.78 Z\" fill=\"#000000\" fill-rule=\"nonzero\" fill-opacity=\"1\" /><path clip-path=\"url(#clip980)\" d=\"M2605.27 3102.82 Q2602.12 3102.82 2600.27 3104.98 Q2598.44 3107.13 2598.44 3110.88 Q2598.44 3114.61 2600.27 3116.78 Q2602.12 3118.94 2605.27 3118.94 Q2608.42 3118.94 2610.25 3116.78 Q2612.1 3114.61 2612.1 3110.88 Q2612.1 3107.13 2610.25 3104.98 Q2608.42 3102.82 2605.27 3102.82 M2614.55 3088.17 L2614.55 3092.43 Q2612.79 3091.6 2610.99 3091.16 Q2609.2 3090.72 2607.44 3090.72 Q2602.82 3090.72 2600.36 3093.84 Q2597.93 3096.97 2597.58 3103.29 Q2598.95 3101.27 2601.01 3100.21 Q2603.07 3099.12 2605.55 3099.12 Q2610.75 3099.12 2613.76 3102.29 Q2616.8 3105.44 2616.8 3110.88 Q2616.8 3116.2 2613.65 3119.42 Q2610.5 3122.64 2605.27 3122.64 Q2599.27 3122.64 2596.1 3118.06 Q2592.93 3113.45 2592.93 3104.72 Q2592.93 3096.53 2596.82 3091.67 Q2600.71 3086.78 2607.26 3086.78 Q2609.02 3086.78 2610.8 3087.13 Q2612.61 3087.48 2614.55 3088.17 Z\" fill=\"#000000\" fill-rule=\"nonzero\" fill-opacity=\"1\" /><path clip-path=\"url(#clip980)\" d=\"M2634.85 3090.49 Q2631.24 3090.49 2629.41 3094.05 Q2627.61 3097.59 2627.61 3104.72 Q2627.61 3111.83 2629.41 3115.39 Q2631.24 3118.94 2634.85 3118.94 Q2638.49 3118.94 2640.29 3115.39 Q2642.12 3111.83 2642.12 3104.72 Q2642.12 3097.59 2640.29 3094.05 Q2638.49 3090.49 2634.85 3090.49 M2634.85 3086.78 Q2640.66 3086.78 2643.72 3091.39 Q2646.8 3095.97 2646.8 3104.72 Q2646.8 3113.45 2643.72 3118.06 Q2640.66 3122.64 2634.85 3122.64 Q2629.04 3122.64 2625.96 3118.06 Q2622.91 3113.45 2622.91 3104.72 Q2622.91 3095.97 2625.96 3091.39 Q2629.04 3086.78 2634.85 3086.78 Z\" fill=\"#000000\" fill-rule=\"nonzero\" fill-opacity=\"1\" /><polyline clip-path=\"url(#clip982)\" style=\"stroke:#000000; stroke-linecap:round; stroke-linejoin:round; stroke-width:2; stroke-opacity:0.1; fill:none\" points=\"314.435,2974.53 3152.76,2974.53 \"/>\n",
       "<polyline clip-path=\"url(#clip982)\" style=\"stroke:#000000; stroke-linecap:round; stroke-linejoin:round; stroke-width:2; stroke-opacity:0.1; fill:none\" points=\"314.435,2379.05 3152.76,2379.05 \"/>\n",
       "<polyline clip-path=\"url(#clip982)\" style=\"stroke:#000000; stroke-linecap:round; stroke-linejoin:round; stroke-width:2; stroke-opacity:0.1; fill:none\" points=\"314.435,1783.57 3152.76,1783.57 \"/>\n",
       "<polyline clip-path=\"url(#clip982)\" style=\"stroke:#000000; stroke-linecap:round; stroke-linejoin:round; stroke-width:2; stroke-opacity:0.1; fill:none\" points=\"314.435,1188.1 3152.76,1188.1 \"/>\n",
       "<polyline clip-path=\"url(#clip982)\" style=\"stroke:#000000; stroke-linecap:round; stroke-linejoin:round; stroke-width:2; stroke-opacity:0.1; fill:none\" points=\"314.435,592.621 3152.76,592.621 \"/>\n",
       "<polyline clip-path=\"url(#clip980)\" style=\"stroke:#000000; stroke-linecap:round; stroke-linejoin:round; stroke-width:4; stroke-opacity:1; fill:none\" points=\"314.435,3053.17 314.435,47.2441 \"/>\n",
       "<polyline clip-path=\"url(#clip980)\" style=\"stroke:#000000; stroke-linecap:round; stroke-linejoin:round; stroke-width:4; stroke-opacity:1; fill:none\" points=\"314.435,2974.53 333.333,2974.53 \"/>\n",
       "<polyline clip-path=\"url(#clip980)\" style=\"stroke:#000000; stroke-linecap:round; stroke-linejoin:round; stroke-width:4; stroke-opacity:1; fill:none\" points=\"314.435,2379.05 333.333,2379.05 \"/>\n",
       "<polyline clip-path=\"url(#clip980)\" style=\"stroke:#000000; stroke-linecap:round; stroke-linejoin:round; stroke-width:4; stroke-opacity:1; fill:none\" points=\"314.435,1783.57 333.333,1783.57 \"/>\n",
       "<polyline clip-path=\"url(#clip980)\" style=\"stroke:#000000; stroke-linecap:round; stroke-linejoin:round; stroke-width:4; stroke-opacity:1; fill:none\" points=\"314.435,1188.1 333.333,1188.1 \"/>\n",
       "<polyline clip-path=\"url(#clip980)\" style=\"stroke:#000000; stroke-linecap:round; stroke-linejoin:round; stroke-width:4; stroke-opacity:1; fill:none\" points=\"314.435,592.621 333.333,592.621 \"/>\n",
       "<path clip-path=\"url(#clip980)\" d=\"M254.491 2960.32 Q250.88 2960.32 249.051 2963.89 Q247.246 2967.43 247.246 2974.56 Q247.246 2981.67 249.051 2985.23 Q250.88 2988.77 254.491 2988.77 Q258.125 2988.77 259.931 2985.23 Q261.759 2981.67 261.759 2974.56 Q261.759 2967.43 259.931 2963.89 Q258.125 2960.32 254.491 2960.32 M254.491 2956.62 Q260.301 2956.62 263.357 2961.23 Q266.435 2965.81 266.435 2974.56 Q266.435 2983.29 263.357 2987.89 Q260.301 2992.48 254.491 2992.48 Q248.681 2992.48 245.602 2987.89 Q242.547 2983.29 242.547 2974.56 Q242.547 2965.81 245.602 2961.23 Q248.681 2956.62 254.491 2956.62 Z\" fill=\"#000000\" fill-rule=\"nonzero\" fill-opacity=\"1\" /><path clip-path=\"url(#clip980)\" d=\"M50.6105 2368.22 L68.9668 2368.22 L68.9668 2372.15 L54.8928 2372.15 L54.8928 2380.62 Q55.9113 2380.28 56.9299 2380.12 Q57.9484 2379.93 58.9669 2379.93 Q64.7539 2379.93 68.1335 2383.1 Q71.5131 2386.27 71.5131 2391.69 Q71.5131 2397.27 68.0409 2400.37 Q64.5687 2403.45 58.2493 2403.45 Q56.0734 2403.45 53.8049 2403.08 Q51.5595 2402.71 49.1521 2401.97 L49.1521 2397.27 Q51.2354 2398.4 53.4577 2398.96 Q55.6799 2399.51 58.1567 2399.51 Q62.1613 2399.51 64.4993 2397.41 Q66.8372 2395.3 66.8372 2391.69 Q66.8372 2388.08 64.4993 2385.97 Q62.1613 2383.87 58.1567 2383.87 Q56.2817 2383.87 54.4067 2384.28 Q52.5549 2384.7 50.6105 2385.58 L50.6105 2368.22 Z\" fill=\"#000000\" fill-rule=\"nonzero\" fill-opacity=\"1\" /><path clip-path=\"url(#clip980)\" d=\"M80.726 2396.9 L85.6103 2396.9 L85.6103 2402.78 L80.726 2402.78 L80.726 2396.9 Z\" fill=\"#000000\" fill-rule=\"nonzero\" fill-opacity=\"1\" /><path clip-path=\"url(#clip980)\" d=\"M105.795 2371.3 Q102.184 2371.3 100.356 2374.86 Q98.55 2378.4 98.55 2385.53 Q98.55 2392.64 100.356 2396.2 Q102.184 2399.74 105.795 2399.74 Q109.43 2399.74 111.235 2396.2 Q113.064 2392.64 113.064 2385.53 Q113.064 2378.4 111.235 2374.86 Q109.43 2371.3 105.795 2371.3 M105.795 2367.59 Q111.605 2367.59 114.661 2372.2 Q117.74 2376.78 117.74 2385.53 Q117.74 2394.26 114.661 2398.87 Q111.605 2403.45 105.795 2403.45 Q99.9852 2403.45 96.9065 2398.87 Q93.851 2394.26 93.851 2385.53 Q93.851 2376.78 96.9065 2372.2 Q99.9852 2367.59 105.795 2367.59 Z\" fill=\"#000000\" fill-rule=\"nonzero\" fill-opacity=\"1\" /><path clip-path=\"url(#clip980)\" d=\"M135.957 2371.3 Q132.346 2371.3 130.517 2374.86 Q128.712 2378.4 128.712 2385.53 Q128.712 2392.64 130.517 2396.2 Q132.346 2399.74 135.957 2399.74 Q139.591 2399.74 141.397 2396.2 Q143.226 2392.64 143.226 2385.53 Q143.226 2378.4 141.397 2374.86 Q139.591 2371.3 135.957 2371.3 M135.957 2367.59 Q141.767 2367.59 144.823 2372.2 Q147.902 2376.78 147.902 2385.53 Q147.902 2394.26 144.823 2398.87 Q141.767 2403.45 135.957 2403.45 Q130.147 2403.45 127.068 2398.87 Q124.013 2394.26 124.013 2385.53 Q124.013 2376.78 127.068 2372.2 Q130.147 2367.59 135.957 2367.59 Z\" fill=\"#000000\" fill-rule=\"nonzero\" fill-opacity=\"1\" /><path clip-path=\"url(#clip980)\" d=\"M184.29 2377.31 L173.712 2387.94 L184.29 2398.52 L181.536 2401.32 L170.911 2390.69 L160.286 2401.32 L157.554 2398.52 L168.11 2387.94 L157.554 2377.31 L160.286 2374.51 L170.911 2385.14 L181.536 2374.51 L184.29 2377.31 Z\" fill=\"#000000\" fill-rule=\"nonzero\" fill-opacity=\"1\" /><path clip-path=\"url(#clip980)\" d=\"M196.651 2398.84 L204.29 2398.84 L204.29 2372.48 L195.98 2374.14 L195.98 2369.88 L204.244 2368.22 L208.92 2368.22 L208.92 2398.84 L216.559 2398.84 L216.559 2402.78 L196.651 2402.78 L196.651 2398.84 Z\" fill=\"#000000\" fill-rule=\"nonzero\" fill-opacity=\"1\" /><path clip-path=\"url(#clip980)\" d=\"M236.003 2371.3 Q232.392 2371.3 230.563 2374.86 Q228.758 2378.4 228.758 2385.53 Q228.758 2392.64 230.563 2396.2 Q232.392 2399.74 236.003 2399.74 Q239.637 2399.74 241.443 2396.2 Q243.271 2392.64 243.271 2385.53 Q243.271 2378.4 241.443 2374.86 Q239.637 2371.3 236.003 2371.3 M236.003 2367.59 Q241.813 2367.59 244.869 2372.2 Q247.947 2376.78 247.947 2385.53 Q247.947 2394.26 244.869 2398.87 Q241.813 2403.45 236.003 2403.45 Q230.193 2403.45 227.114 2398.87 Q224.059 2394.26 224.059 2385.53 Q224.059 2376.78 227.114 2372.2 Q230.193 2367.59 236.003 2367.59 Z\" fill=\"#000000\" fill-rule=\"nonzero\" fill-opacity=\"1\" /><path clip-path=\"url(#clip980)\" d=\"M260.643 2360.23 Q263.37 2360.81 264.893 2362.65 Q266.435 2364.5 266.435 2367.2 Q266.435 2371.36 263.577 2373.64 Q260.718 2375.91 255.452 2375.91 Q253.684 2375.91 251.803 2375.55 Q249.941 2375.22 247.947 2374.52 L247.947 2370.85 Q249.527 2371.77 251.408 2372.24 Q253.289 2372.71 255.339 2372.71 Q258.912 2372.71 260.774 2371.3 Q262.655 2369.89 262.655 2367.2 Q262.655 2364.72 260.906 2363.33 Q259.176 2361.92 256.072 2361.92 L252.8 2361.92 L252.8 2358.8 L256.223 2358.8 Q259.025 2358.8 260.511 2357.69 Q261.997 2356.56 261.997 2354.45 Q261.997 2352.29 260.455 2351.14 Q258.931 2349.98 256.072 2349.98 Q254.511 2349.98 252.725 2350.31 Q250.938 2350.65 248.794 2351.37 L248.794 2347.98 Q250.957 2347.38 252.837 2347.08 Q254.737 2346.78 256.411 2346.78 Q260.737 2346.78 263.257 2348.75 Q265.777 2350.71 265.777 2354.06 Q265.777 2356.39 264.442 2358.01 Q263.106 2359.61 260.643 2360.23 Z\" fill=\"#000000\" fill-rule=\"nonzero\" fill-opacity=\"1\" /><path clip-path=\"url(#clip980)\" d=\"M49.3995 1803.37 L57.0384 1803.37 L57.0384 1777 L48.7282 1778.67 L48.7282 1774.41 L56.9921 1772.74 L61.668 1772.74 L61.668 1803.37 L69.3068 1803.37 L69.3068 1807.3 L49.3995 1807.3 L49.3995 1803.37 Z\" fill=\"#000000\" fill-rule=\"nonzero\" fill-opacity=\"1\" /><path clip-path=\"url(#clip980)\" d=\"M78.7512 1801.42 L83.6354 1801.42 L83.6354 1807.3 L78.7512 1807.3 L78.7512 1801.42 Z\" fill=\"#000000\" fill-rule=\"nonzero\" fill-opacity=\"1\" /><path clip-path=\"url(#clip980)\" d=\"M103.821 1775.82 Q100.209 1775.82 98.3807 1779.38 Q96.5752 1782.93 96.5752 1790.06 Q96.5752 1797.16 98.3807 1800.73 Q100.209 1804.27 103.821 1804.27 Q107.455 1804.27 109.26 1800.73 Q111.089 1797.16 111.089 1790.06 Q111.089 1782.93 109.26 1779.38 Q107.455 1775.82 103.821 1775.82 M103.821 1772.12 Q109.631 1772.12 112.686 1776.72 Q115.765 1781.31 115.765 1790.06 Q115.765 1798.78 112.686 1803.39 Q109.631 1807.97 103.821 1807.97 Q98.0104 1807.97 94.9317 1803.39 Q91.8761 1798.78 91.8761 1790.06 Q91.8761 1781.31 94.9317 1776.72 Q98.0104 1772.12 103.821 1772.12 Z\" fill=\"#000000\" fill-rule=\"nonzero\" fill-opacity=\"1\" /><path clip-path=\"url(#clip980)\" d=\"M133.982 1775.82 Q130.371 1775.82 128.543 1779.38 Q126.737 1782.93 126.737 1790.06 Q126.737 1797.16 128.543 1800.73 Q130.371 1804.27 133.982 1804.27 Q137.617 1804.27 139.422 1800.73 Q141.251 1797.16 141.251 1790.06 Q141.251 1782.93 139.422 1779.38 Q137.617 1775.82 133.982 1775.82 M133.982 1772.12 Q139.793 1772.12 142.848 1776.72 Q145.927 1781.31 145.927 1790.06 Q145.927 1798.78 142.848 1803.39 Q139.793 1807.97 133.982 1807.97 Q128.172 1807.97 125.094 1803.39 Q122.038 1798.78 122.038 1790.06 Q122.038 1781.31 125.094 1776.72 Q128.172 1772.12 133.982 1772.12 Z\" fill=\"#000000\" fill-rule=\"nonzero\" fill-opacity=\"1\" /><path clip-path=\"url(#clip980)\" d=\"M182.315 1781.84 L171.737 1792.46 L182.315 1803.04 L179.561 1805.84 L168.936 1795.22 L158.311 1805.84 L155.58 1803.04 L166.135 1792.46 L155.58 1781.84 L158.311 1779.04 L168.936 1789.66 L179.561 1779.04 L182.315 1781.84 Z\" fill=\"#000000\" fill-rule=\"nonzero\" fill-opacity=\"1\" /><path clip-path=\"url(#clip980)\" d=\"M194.677 1803.37 L202.315 1803.37 L202.315 1777 L194.005 1778.67 L194.005 1774.41 L202.269 1772.74 L206.945 1772.74 L206.945 1803.37 L214.584 1803.37 L214.584 1807.3 L194.677 1807.3 L194.677 1803.37 Z\" fill=\"#000000\" fill-rule=\"nonzero\" fill-opacity=\"1\" /><path clip-path=\"url(#clip980)\" d=\"M234.028 1775.82 Q230.417 1775.82 228.588 1779.38 Q226.783 1782.93 226.783 1790.06 Q226.783 1797.16 228.588 1800.73 Q230.417 1804.27 234.028 1804.27 Q237.662 1804.27 239.468 1800.73 Q241.297 1797.16 241.297 1790.06 Q241.297 1782.93 239.468 1779.38 Q237.662 1775.82 234.028 1775.82 M234.028 1772.12 Q239.838 1772.12 242.894 1776.72 Q245.973 1781.31 245.973 1790.06 Q245.973 1798.78 242.894 1803.39 Q239.838 1807.97 234.028 1807.97 Q228.218 1807.97 225.139 1803.39 Q222.084 1798.78 222.084 1790.06 Q222.084 1781.31 225.139 1776.72 Q228.218 1772.12 234.028 1772.12 Z\" fill=\"#000000\" fill-rule=\"nonzero\" fill-opacity=\"1\" /><path clip-path=\"url(#clip980)\" d=\"M258.649 1755.12 L249.057 1770.11 L258.649 1770.11 L258.649 1755.12 M257.652 1751.81 L262.429 1751.81 L262.429 1770.11 L266.435 1770.11 L266.435 1773.27 L262.429 1773.27 L262.429 1779.89 L258.649 1779.89 L258.649 1773.27 L245.973 1773.27 L245.973 1769.6 L257.652 1751.81 Z\" fill=\"#000000\" fill-rule=\"nonzero\" fill-opacity=\"1\" /><path clip-path=\"url(#clip980)\" d=\"M49.3995 1207.89 L57.0384 1207.89 L57.0384 1181.52 L48.7282 1183.19 L48.7282 1178.93 L56.9921 1177.26 L61.668 1177.26 L61.668 1207.89 L69.3068 1207.89 L69.3068 1211.82 L49.3995 1211.82 L49.3995 1207.89 Z\" fill=\"#000000\" fill-rule=\"nonzero\" fill-opacity=\"1\" /><path clip-path=\"url(#clip980)\" d=\"M78.7512 1205.94 L83.6354 1205.94 L83.6354 1211.82 L78.7512 1211.82 L78.7512 1205.94 Z\" fill=\"#000000\" fill-rule=\"nonzero\" fill-opacity=\"1\" /><path clip-path=\"url(#clip980)\" d=\"M93.8669 1177.26 L112.223 1177.26 L112.223 1181.2 L98.1493 1181.2 L98.1493 1189.67 Q99.1678 1189.32 100.186 1189.16 Q101.205 1188.98 102.223 1188.98 Q108.01 1188.98 111.39 1192.15 Q114.77 1195.32 114.77 1200.74 Q114.77 1206.32 111.297 1209.42 Q107.825 1212.5 101.506 1212.5 Q99.3298 1212.5 97.0613 1212.13 Q94.8159 1211.76 92.4085 1211.01 L92.4085 1206.32 Q94.4919 1207.45 96.7141 1208.01 Q98.9363 1208.56 101.413 1208.56 Q105.418 1208.56 107.756 1206.45 Q110.094 1204.35 110.094 1200.74 Q110.094 1197.13 107.756 1195.02 Q105.418 1192.91 101.413 1192.91 Q99.5381 1192.91 97.6632 1193.33 Q95.8113 1193.75 93.8669 1194.63 L93.8669 1177.26 Z\" fill=\"#000000\" fill-rule=\"nonzero\" fill-opacity=\"1\" /><path clip-path=\"url(#clip980)\" d=\"M133.982 1180.34 Q130.371 1180.34 128.543 1183.91 Q126.737 1187.45 126.737 1194.58 Q126.737 1201.69 128.543 1205.25 Q130.371 1208.79 133.982 1208.79 Q137.617 1208.79 139.422 1205.25 Q141.251 1201.69 141.251 1194.58 Q141.251 1187.45 139.422 1183.91 Q137.617 1180.34 133.982 1180.34 M133.982 1176.64 Q139.793 1176.64 142.848 1181.25 Q145.927 1185.83 145.927 1194.58 Q145.927 1203.31 142.848 1207.91 Q139.793 1212.5 133.982 1212.5 Q128.172 1212.5 125.094 1207.91 Q122.038 1203.31 122.038 1194.58 Q122.038 1185.83 125.094 1181.25 Q128.172 1176.64 133.982 1176.64 Z\" fill=\"#000000\" fill-rule=\"nonzero\" fill-opacity=\"1\" /><path clip-path=\"url(#clip980)\" d=\"M182.315 1186.36 L171.737 1196.99 L182.315 1207.57 L179.561 1210.37 L168.936 1199.74 L158.311 1210.37 L155.58 1207.57 L166.135 1196.99 L155.58 1186.36 L158.311 1183.56 L168.936 1194.19 L179.561 1183.56 L182.315 1186.36 Z\" fill=\"#000000\" fill-rule=\"nonzero\" fill-opacity=\"1\" /><path clip-path=\"url(#clip980)\" d=\"M194.677 1207.89 L202.315 1207.89 L202.315 1181.52 L194.005 1183.19 L194.005 1178.93 L202.269 1177.26 L206.945 1177.26 L206.945 1207.89 L214.584 1207.89 L214.584 1211.82 L194.677 1211.82 L194.677 1207.89 Z\" fill=\"#000000\" fill-rule=\"nonzero\" fill-opacity=\"1\" /><path clip-path=\"url(#clip980)\" d=\"M234.028 1180.34 Q230.417 1180.34 228.588 1183.91 Q226.783 1187.45 226.783 1194.58 Q226.783 1201.69 228.588 1205.25 Q230.417 1208.79 234.028 1208.79 Q237.662 1208.79 239.468 1205.25 Q241.297 1201.69 241.297 1194.58 Q241.297 1187.45 239.468 1183.91 Q237.662 1180.34 234.028 1180.34 M234.028 1176.64 Q239.838 1176.64 242.894 1181.25 Q245.973 1185.83 245.973 1194.58 Q245.973 1203.31 242.894 1207.91 Q239.838 1212.5 234.028 1212.5 Q228.218 1212.5 225.139 1207.91 Q222.084 1203.31 222.084 1194.58 Q222.084 1185.83 225.139 1181.25 Q228.218 1176.64 234.028 1176.64 Z\" fill=\"#000000\" fill-rule=\"nonzero\" fill-opacity=\"1\" /><path clip-path=\"url(#clip980)\" d=\"M258.649 1159.64 L249.057 1174.63 L258.649 1174.63 L258.649 1159.64 M257.652 1156.33 L262.429 1156.33 L262.429 1174.63 L266.435 1174.63 L266.435 1177.79 L262.429 1177.79 L262.429 1184.41 L258.649 1184.41 L258.649 1177.79 L245.973 1177.79 L245.973 1174.13 L257.652 1156.33 Z\" fill=\"#000000\" fill-rule=\"nonzero\" fill-opacity=\"1\" /><path clip-path=\"url(#clip980)\" d=\"M52.6171 612.413 L68.9365 612.413 L68.9365 616.348 L46.9921 616.348 L46.9921 612.413 Q49.6541 609.658 54.2375 605.029 Q58.8439 600.376 60.0245 599.033 Q62.2698 596.51 63.1494 594.774 Q64.0522 593.015 64.0522 591.325 Q64.0522 588.571 62.1078 586.834 Q60.1865 585.098 57.0847 585.098 Q54.8856 585.098 52.4319 585.862 Q50.0014 586.626 47.2236 588.177 L47.2236 583.455 Q50.0477 582.321 52.5014 581.742 Q54.955 581.163 56.9921 581.163 Q62.3624 581.163 65.5568 583.848 Q68.7513 586.534 68.7513 591.024 Q68.7513 593.154 67.9411 595.075 Q67.1541 596.973 65.0476 599.566 Q64.4689 600.237 61.367 603.455 Q58.2652 606.649 52.6171 612.413 Z\" fill=\"#000000\" fill-rule=\"nonzero\" fill-opacity=\"1\" /><path clip-path=\"url(#clip980)\" d=\"M78.7512 610.469 L83.6354 610.469 L83.6354 616.348 L78.7512 616.348 L78.7512 610.469 Z\" fill=\"#000000\" fill-rule=\"nonzero\" fill-opacity=\"1\" /><path clip-path=\"url(#clip980)\" d=\"M103.821 584.867 Q100.209 584.867 98.3807 588.432 Q96.5752 591.973 96.5752 599.103 Q96.5752 606.209 98.3807 609.774 Q100.209 613.316 103.821 613.316 Q107.455 613.316 109.26 609.774 Q111.089 606.209 111.089 599.103 Q111.089 591.973 109.26 588.432 Q107.455 584.867 103.821 584.867 M103.821 581.163 Q109.631 581.163 112.686 585.77 Q115.765 590.353 115.765 599.103 Q115.765 607.83 112.686 612.436 Q109.631 617.019 103.821 617.019 Q98.0104 617.019 94.9317 612.436 Q91.8761 607.83 91.8761 599.103 Q91.8761 590.353 94.9317 585.77 Q98.0104 581.163 103.821 581.163 Z\" fill=\"#000000\" fill-rule=\"nonzero\" fill-opacity=\"1\" /><path clip-path=\"url(#clip980)\" d=\"M133.982 584.867 Q130.371 584.867 128.543 588.432 Q126.737 591.973 126.737 599.103 Q126.737 606.209 128.543 609.774 Q130.371 613.316 133.982 613.316 Q137.617 613.316 139.422 609.774 Q141.251 606.209 141.251 599.103 Q141.251 591.973 139.422 588.432 Q137.617 584.867 133.982 584.867 M133.982 581.163 Q139.793 581.163 142.848 585.77 Q145.927 590.353 145.927 599.103 Q145.927 607.83 142.848 612.436 Q139.793 617.019 133.982 617.019 Q128.172 617.019 125.094 612.436 Q122.038 607.83 122.038 599.103 Q122.038 590.353 125.094 585.77 Q128.172 581.163 133.982 581.163 Z\" fill=\"#000000\" fill-rule=\"nonzero\" fill-opacity=\"1\" /><path clip-path=\"url(#clip980)\" d=\"M182.315 590.885 L171.737 601.51 L182.315 612.089 L179.561 614.89 L168.936 604.265 L158.311 614.89 L155.58 612.089 L166.135 601.51 L155.58 590.885 L158.311 588.084 L168.936 598.709 L179.561 588.084 L182.315 590.885 Z\" fill=\"#000000\" fill-rule=\"nonzero\" fill-opacity=\"1\" /><path clip-path=\"url(#clip980)\" d=\"M194.677 612.413 L202.315 612.413 L202.315 586.047 L194.005 587.714 L194.005 583.455 L202.269 581.788 L206.945 581.788 L206.945 612.413 L214.584 612.413 L214.584 616.348 L194.677 616.348 L194.677 612.413 Z\" fill=\"#000000\" fill-rule=\"nonzero\" fill-opacity=\"1\" /><path clip-path=\"url(#clip980)\" d=\"M234.028 584.867 Q230.417 584.867 228.588 588.432 Q226.783 591.973 226.783 599.103 Q226.783 606.209 228.588 609.774 Q230.417 613.316 234.028 613.316 Q237.662 613.316 239.468 609.774 Q241.297 606.209 241.297 599.103 Q241.297 591.973 239.468 588.432 Q237.662 584.867 234.028 584.867 M234.028 581.163 Q239.838 581.163 242.894 585.77 Q245.973 590.353 245.973 599.103 Q245.973 607.83 242.894 612.436 Q239.838 617.019 234.028 617.019 Q228.218 617.019 225.139 612.436 Q222.084 607.83 222.084 599.103 Q222.084 590.353 225.139 585.77 Q228.218 581.163 234.028 581.163 Z\" fill=\"#000000\" fill-rule=\"nonzero\" fill-opacity=\"1\" /><path clip-path=\"url(#clip980)\" d=\"M258.649 564.168 L249.057 579.158 L258.649 579.158 L258.649 564.168 M257.652 560.858 L262.429 560.858 L262.429 579.158 L266.435 579.158 L266.435 582.317 L262.429 582.317 L262.429 588.938 L258.649 588.938 L258.649 582.317 L245.973 582.317 L245.973 578.65 L257.652 560.858 Z\" fill=\"#000000\" fill-rule=\"nonzero\" fill-opacity=\"1\" /><polyline clip-path=\"url(#clip982)\" style=\"stroke:#009af9; stroke-linecap:round; stroke-linejoin:round; stroke-width:4; stroke-opacity:1; fill:none\" points=\"394.765,2949.87 432.479,2940.7 470.192,2930.58 507.906,2920.46 545.619,2920.93 583.333,2916.65 621.046,2919.86 658.76,2912.48 696.473,2895.68 734.187,2897.11 771.901,2900.57 809.614,2876.15 847.328,2889.85 885.041,2864.72 922.755,2877.58 960.468,2886.63 998.182,2866.03 1035.9,2865.55 1073.61,2853.41 1111.32,2838.76 1149.04,2843.64 1186.75,2821.37 1224.46,2846.62 1262.18,2834.23 1299.89,2824.35 1337.6,2807.55 1375.32,2803.5 1413.03,2777.54 1450.74,2798.74 1488.46,2792.43 1526.17,2833.64 1563.88,2796.36 1601.6,2793.5 1639.31,2801.48 1677.03,2796.36 1714.74,2755.27 1752.45,2744.43 1790.17,2752.06 1827.88,2659.88 1865.59,2653.44 1903.31,2691.44 1941.02,2705.37 1978.73,2685.96 2016.45,2719.78 2054.16,2671.9 2091.87,2661.66 2129.59,2692.15 2167.3,2622.96 2205.01,2656.78 2242.73,2600.92 2280.44,2579.13 2318.16,2584.25 2355.87,2639.15 2393.58,2582.23 2431.3,2546.5 2469.01,2558.65 2506.72,2521.37 2544.44,2590.92 2582.15,2618.67 2619.86,2582.7 2657.58,2581.51 2695.29,2527.08 2733,2553.64 2770.72,2574.84 2808.43,2487.31 2846.14,2490.88 2883.86,2447.05 2921.57,2453.25 2959.29,2451.34 2997,2438.72 3034.71,2307.47 3072.43,2393.1 \"/>\n",
       "<polyline clip-path=\"url(#clip982)\" style=\"stroke:#e26f46; stroke-linecap:round; stroke-linejoin:round; stroke-width:4; stroke-opacity:1; fill:none\" points=\"394.765,2968.09 432.479,2964.05 470.192,2957.14 507.906,2951.66 545.619,2951.42 583.333,2948.92 621.046,2948.68 658.76,2932.13 696.473,2929.51 734.187,2922.72 771.901,2919.15 809.614,2904.38 847.328,2901.88 885.041,2894.49 922.755,2889.85 960.468,2886.28 998.182,2874.49 1035.9,2864.72 1073.61,2842.21 1111.32,2838.28 1149.04,2828.87 1186.75,2824.82 1224.46,2823.16 1262.18,2814.82 1299.89,2785.76 1337.6,2762.06 1375.32,2750.39 1413.03,2736.93 1450.74,2732.88 1488.46,2722.16 1526.17,2721.81 1563.88,2707.63 1601.6,2707.4 1639.31,2686.55 1677.03,2669.64 1714.74,2650.11 1752.45,2420.85 1790.17,2409.54 1827.88,2368.33 1865.59,2343.2 1903.31,2341.18 1941.02,2341.06 1978.73,2252.09 2016.45,2227.08 2054.16,2217.68 2091.87,2165.51 2129.59,2128.35 2167.3,2080.36 2205.01,2011.05 2242.73,1962.22 2280.44,1935.78 2318.16,1918.87 2355.87,1916.6 2393.58,1903.62 2431.3,1771.31 2469.01,1657.21 2506.72,1647.09 2544.44,1566.94 2582.15,1516.44 2619.86,1505.6 2657.58,1499.77 2695.29,1401.52 2733,1377.22 2770.72,1250.15 2808.43,774.717 2846.14,674.201 2883.86,645.856 2921.57,624.3 2959.29,356.097 2997,317.153 3034.71,287.618 3072.43,132.317 \"/>\n",
       "<polyline clip-path=\"url(#clip982)\" style=\"stroke:#3da44d; stroke-linecap:round; stroke-linejoin:round; stroke-width:4; stroke-opacity:1; fill:none\" points=\"394.765,2947.73 432.479,2935.58 470.192,2924.86 507.906,2917.48 545.619,2920.1 583.333,2916.65 621.046,2915.45 658.76,2912.48 696.473,2894.85 734.187,2897.11 771.901,2900.57 809.614,2876.15 847.328,2889.85 885.041,2851.02 922.755,2877.58 960.468,2886.63 998.182,2866.03 1035.9,2865.55 1073.61,2853.41 1111.32,2838.76 1149.04,2823.99 1186.75,2821.37 1224.46,2846.62 1262.18,2834.23 1299.89,2824.35 1337.6,2807.55 1375.32,2803.5 1413.03,2760.75 1450.74,2786.47 1488.46,2792.43 1526.17,2818.15 1563.88,2796.36 1601.6,2793.5 1639.31,2801.48 1677.03,2796.36 1714.74,2766.23 1752.45,2773.25 1790.17,2752.06 1827.88,2672.5 1865.59,2688.82 1903.31,2691.44 1941.02,2709.42 1978.73,2707.63 2016.45,2747.77 2054.16,2682.5 2091.87,2682.03 2129.59,2716.21 2167.3,2658.09 2205.01,2675.83 2242.73,2647.61 2280.44,2606.76 2318.16,2629.15 2355.87,2650.94 2393.58,2599.85 2431.3,2563.65 2469.01,2575.32 2506.72,2575.79 2544.44,2625.46 2582.15,2668.45 2619.86,2616.05 2657.58,2591.28 2695.29,2558.41 2733,2566.27 2770.72,2576.87 2808.43,2560.43 2846.14,2539.23 2883.86,2457.65 2921.57,2528.87 2959.29,2480.16 2997,2481.59 3034.71,2387.51 3072.43,2474.44 \"/>\n",
       "<polyline clip-path=\"url(#clip982)\" style=\"stroke:#c271d2; stroke-linecap:round; stroke-linejoin:round; stroke-width:4; stroke-opacity:1; fill:none\" points=\"394.765,2968.09 432.479,2964.05 470.192,2957.14 507.906,2951.66 545.619,2951.42 583.333,2940.7 621.046,2948.68 658.76,2930.58 696.473,2929.51 734.187,2916.65 771.901,2912.48 809.614,2900.57 847.328,2897.11 885.041,2894.49 922.755,2886.63 960.468,2876.15 998.182,2864.72 1035.9,2853.41 1073.61,2838.76 1111.32,2833.64 1149.04,2828.87 1186.75,2821.37 1224.46,2807.55 1262.18,2792.43 1299.89,2777.54 1337.6,2752.06 1375.32,2744.43 1413.03,2736.93 1450.74,2732.88 1488.46,2719.78 1526.17,2721.81 1563.88,2705.37 1601.6,2691.44 1639.31,2671.9 1677.03,2546.5 1714.74,2650.11 1752.45,2420.85 1790.17,2393.1 1827.88,2368.33 1865.59,2343.2 1903.31,2307.47 1941.02,2341.06 1978.73,2252.09 2016.45,2227.08 2054.16,2217.68 2091.87,2165.51 2129.59,2128.35 2167.3,2080.36 2205.01,2011.05 2242.73,1962.22 2280.44,1935.78 2318.16,1918.87 2355.87,1916.6 2393.58,1903.62 2431.3,1771.31 2469.01,1657.21 2506.72,1647.09 2544.44,1566.94 2582.15,1516.44 2619.86,1505.6 2657.58,1499.77 2695.29,1401.52 2733,1377.22 2770.72,1250.15 2808.43,774.717 2846.14,674.201 2883.86,645.856 2921.57,624.3 2959.29,356.097 2997,317.153 3034.71,287.618 3072.43,132.317 \"/>\n",
       "<path clip-path=\"url(#clip980)\" d=\"M409.046 406.642 L1334.22 406.642 L1334.22 147.442 L409.046 147.442  Z\" fill=\"#ffffff\" fill-rule=\"evenodd\" fill-opacity=\"1\"/>\n",
       "<polyline clip-path=\"url(#clip980)\" style=\"stroke:#000000; stroke-linecap:round; stroke-linejoin:round; stroke-width:4; stroke-opacity:1; fill:none\" points=\"409.046,406.642 1334.22,406.642 1334.22,147.442 409.046,147.442 409.046,406.642 \"/>\n",
       "<polyline clip-path=\"url(#clip980)\" style=\"stroke:#009af9; stroke-linecap:round; stroke-linejoin:round; stroke-width:4; stroke-opacity:1; fill:none\" points=\"440.583,199.282 629.804,199.282 \"/>\n",
       "<path clip-path=\"url(#clip980)\" d=\"M683.054 200.913 L683.054 216.562 L678.795 216.562 L678.795 201.052 Q678.795 197.372 677.36 195.543 Q675.924 193.714 673.054 193.714 Q669.605 193.714 667.614 195.914 Q665.624 198.113 665.624 201.909 L665.624 216.562 L661.341 216.562 L661.341 180.543 L665.624 180.543 L665.624 194.664 Q667.151 192.326 669.212 191.168 Q671.295 190.011 674.003 190.011 Q678.471 190.011 680.762 192.789 Q683.054 195.543 683.054 200.913 Z\" fill=\"#000000\" fill-rule=\"nonzero\" fill-opacity=\"1\" /><path clip-path=\"url(#clip980)\" d=\"M701.596 193.622 Q698.17 193.622 696.179 196.307 Q694.188 198.969 694.188 203.622 Q694.188 208.275 696.156 210.96 Q698.147 213.622 701.596 213.622 Q704.998 213.622 706.989 210.937 Q708.98 208.251 708.98 203.622 Q708.98 199.015 706.989 196.33 Q704.998 193.622 701.596 193.622 M701.596 190.011 Q707.151 190.011 710.322 193.622 Q713.494 197.233 713.494 203.622 Q713.494 209.988 710.322 213.622 Q707.151 217.233 701.596 217.233 Q696.017 217.233 692.846 213.622 Q689.698 209.988 689.698 203.622 Q689.698 197.233 692.846 193.622 Q696.017 190.011 701.596 190.011 Z\" fill=\"#000000\" fill-rule=\"nonzero\" fill-opacity=\"1\" /><path clip-path=\"url(#clip980)\" d=\"M720.114 206.33 L720.114 190.636 L724.373 190.636 L724.373 206.168 Q724.373 209.849 725.808 211.7 Q727.244 213.529 730.114 213.529 Q733.563 213.529 735.554 211.33 Q737.568 209.131 737.568 205.335 L737.568 190.636 L741.827 190.636 L741.827 216.562 L737.568 216.562 L737.568 212.58 Q736.017 214.941 733.957 216.099 Q731.92 217.233 729.211 217.233 Q724.744 217.233 722.429 214.455 Q720.114 211.677 720.114 206.33 M730.832 190.011 L730.832 190.011 Z\" fill=\"#000000\" fill-rule=\"nonzero\" fill-opacity=\"1\" /><path clip-path=\"url(#clip980)\" d=\"M767.128 191.4 L767.128 195.427 Q765.322 194.501 763.378 194.039 Q761.433 193.576 759.35 193.576 Q756.179 193.576 754.581 194.548 Q753.007 195.52 753.007 197.464 Q753.007 198.946 754.142 199.802 Q755.276 200.636 758.702 201.4 L760.16 201.724 Q764.697 202.696 766.595 204.478 Q768.517 206.238 768.517 209.409 Q768.517 213.02 765.646 215.126 Q762.799 217.233 757.799 217.233 Q755.716 217.233 753.447 216.816 Q751.202 216.423 748.702 215.612 L748.702 211.214 Q751.063 212.441 753.355 213.066 Q755.646 213.668 757.892 213.668 Q760.901 213.668 762.521 212.65 Q764.142 211.608 764.142 209.733 Q764.142 207.997 762.961 207.071 Q761.804 206.145 757.845 205.288 L756.364 204.941 Q752.406 204.108 750.646 202.395 Q748.887 200.659 748.887 197.65 Q748.887 193.992 751.48 192.002 Q754.072 190.011 758.841 190.011 Q761.202 190.011 763.285 190.358 Q765.368 190.705 767.128 191.4 Z\" fill=\"#000000\" fill-rule=\"nonzero\" fill-opacity=\"1\" /><path clip-path=\"url(#clip980)\" d=\"M775.299 190.636 L779.558 190.636 L779.558 216.562 L775.299 216.562 L775.299 190.636 M775.299 180.543 L779.558 180.543 L779.558 185.937 L775.299 185.937 L775.299 180.543 Z\" fill=\"#000000\" fill-rule=\"nonzero\" fill-opacity=\"1\" /><path clip-path=\"url(#clip980)\" d=\"M810.021 200.913 L810.021 216.562 L805.762 216.562 L805.762 201.052 Q805.762 197.372 804.327 195.543 Q802.891 193.714 800.021 193.714 Q796.572 193.714 794.581 195.914 Q792.591 198.113 792.591 201.909 L792.591 216.562 L788.308 216.562 L788.308 190.636 L792.591 190.636 L792.591 194.664 Q794.118 192.326 796.178 191.168 Q798.262 190.011 800.97 190.011 Q805.438 190.011 807.729 192.789 Q810.021 195.543 810.021 200.913 Z\" fill=\"#000000\" fill-rule=\"nonzero\" fill-opacity=\"1\" /><path clip-path=\"url(#clip980)\" d=\"M835.576 203.298 Q835.576 198.668 833.655 196.122 Q831.757 193.576 828.308 193.576 Q824.882 193.576 822.961 196.122 Q821.063 198.668 821.063 203.298 Q821.063 207.904 822.961 210.45 Q824.882 212.997 828.308 212.997 Q831.757 212.997 833.655 210.45 Q835.576 207.904 835.576 203.298 M839.836 213.344 Q839.836 219.964 836.896 223.182 Q833.956 226.423 827.891 226.423 Q825.646 226.423 823.655 226.075 Q821.664 225.751 819.789 225.057 L819.789 220.913 Q821.664 221.932 823.493 222.418 Q825.322 222.904 827.22 222.904 Q831.41 222.904 833.493 220.705 Q835.576 218.529 835.576 214.108 L835.576 212.001 Q834.257 214.293 832.197 215.427 Q830.137 216.562 827.266 216.562 Q822.498 216.562 819.581 212.927 Q816.664 209.293 816.664 203.298 Q816.664 197.279 819.581 193.645 Q822.498 190.011 827.266 190.011 Q830.137 190.011 832.197 191.145 Q834.257 192.279 835.576 194.571 L835.576 190.636 L839.836 190.636 L839.836 213.344 Z\" fill=\"#000000\" fill-rule=\"nonzero\" fill-opacity=\"1\" /><path clip-path=\"url(#clip980)\" d=\"M868.308 224.432 L868.308 227.742 L843.678 227.742 L843.678 224.432 L868.308 224.432 Z\" fill=\"#000000\" fill-rule=\"nonzero\" fill-opacity=\"1\" /><path clip-path=\"url(#clip980)\" d=\"M894.488 202.534 L894.488 204.617 L874.905 204.617 Q875.183 209.015 877.544 211.33 Q879.928 213.622 884.164 213.622 Q886.618 213.622 888.909 213.02 Q891.224 212.418 893.493 211.214 L893.493 215.242 Q891.201 216.214 888.794 216.724 Q886.386 217.233 883.909 217.233 Q877.706 217.233 874.072 213.622 Q870.46 210.011 870.46 203.853 Q870.46 197.488 873.886 193.761 Q877.335 190.011 883.169 190.011 Q888.4 190.011 891.433 193.39 Q894.488 196.747 894.488 202.534 M890.229 201.284 Q890.183 197.789 888.261 195.705 Q886.363 193.622 883.215 193.622 Q879.65 193.622 877.497 195.636 Q875.368 197.65 875.044 201.307 L890.229 201.284 Z\" fill=\"#000000\" fill-rule=\"nonzero\" fill-opacity=\"1\" /><path clip-path=\"url(#clip980)\" d=\"M922.196 190.636 L912.821 203.251 L922.682 216.562 L917.659 216.562 L910.113 206.376 L902.567 216.562 L897.544 216.562 L907.613 202.997 L898.4 190.636 L903.423 190.636 L910.298 199.872 L917.173 190.636 L922.196 190.636 Z\" fill=\"#000000\" fill-rule=\"nonzero\" fill-opacity=\"1\" /><path clip-path=\"url(#clip980)\" d=\"M932.821 212.673 L932.821 226.423 L928.539 226.423 L928.539 190.636 L932.821 190.636 L932.821 194.571 Q934.164 192.256 936.201 191.145 Q938.261 190.011 941.108 190.011 Q945.83 190.011 948.77 193.761 Q951.733 197.511 951.733 203.622 Q951.733 209.733 948.77 213.483 Q945.83 217.233 941.108 217.233 Q938.261 217.233 936.201 216.122 Q934.164 214.987 932.821 212.673 M947.312 203.622 Q947.312 198.923 945.367 196.261 Q943.446 193.576 940.067 193.576 Q936.687 193.576 934.743 196.261 Q932.821 198.923 932.821 203.622 Q932.821 208.321 934.743 211.006 Q936.687 213.668 940.067 213.668 Q943.446 213.668 945.367 211.006 Q947.312 208.321 947.312 203.622 Z\" fill=\"#000000\" fill-rule=\"nonzero\" fill-opacity=\"1\" /><path clip-path=\"url(#clip980)\" d=\"M980.969 202.534 L980.969 204.617 L961.386 204.617 Q961.664 209.015 964.025 211.33 Q966.409 213.622 970.645 213.622 Q973.099 213.622 975.39 213.02 Q977.705 212.418 979.974 211.214 L979.974 215.242 Q977.682 216.214 975.275 216.724 Q972.867 217.233 970.391 217.233 Q964.187 217.233 960.553 213.622 Q956.942 210.011 956.942 203.853 Q956.942 197.488 960.367 193.761 Q963.816 190.011 969.65 190.011 Q974.881 190.011 977.914 193.39 Q980.969 196.747 980.969 202.534 M976.71 201.284 Q976.664 197.789 974.742 195.705 Q972.844 193.622 969.696 193.622 Q966.131 193.622 963.979 195.636 Q961.849 197.65 961.525 201.307 L976.71 201.284 Z\" fill=\"#000000\" fill-rule=\"nonzero\" fill-opacity=\"1\" /><path clip-path=\"url(#clip980)\" d=\"M1009.51 200.913 L1009.51 216.562 L1005.25 216.562 L1005.25 201.052 Q1005.25 197.372 1003.82 195.543 Q1002.38 193.714 999.511 193.714 Q996.062 193.714 994.071 195.914 Q992.08 198.113 992.08 201.909 L992.08 216.562 L987.798 216.562 L987.798 190.636 L992.08 190.636 L992.08 194.664 Q993.608 192.326 995.668 191.168 Q997.751 190.011 1000.46 190.011 Q1004.93 190.011 1007.22 192.789 Q1009.51 195.543 1009.51 200.913 Z\" fill=\"#000000\" fill-rule=\"nonzero\" fill-opacity=\"1\" /><path clip-path=\"url(#clip980)\" d=\"M1035.07 194.571 L1035.07 180.543 L1039.33 180.543 L1039.33 216.562 L1035.07 216.562 L1035.07 212.673 Q1033.72 214.987 1031.66 216.122 Q1029.63 217.233 1026.76 217.233 Q1022.06 217.233 1019.09 213.483 Q1016.15 209.733 1016.15 203.622 Q1016.15 197.511 1019.09 193.761 Q1022.06 190.011 1026.76 190.011 Q1029.63 190.011 1031.66 191.145 Q1033.72 192.256 1035.07 194.571 M1020.55 203.622 Q1020.55 208.321 1022.47 211.006 Q1024.42 213.668 1027.8 213.668 Q1031.18 213.668 1033.12 211.006 Q1035.07 208.321 1035.07 203.622 Q1035.07 198.923 1033.12 196.261 Q1031.18 193.576 1027.8 193.576 Q1024.42 193.576 1022.47 196.261 Q1020.55 198.923 1020.55 203.622 Z\" fill=\"#000000\" fill-rule=\"nonzero\" fill-opacity=\"1\" /><path clip-path=\"url(#clip980)\" d=\"M1048.1 190.636 L1052.36 190.636 L1052.36 216.562 L1048.1 216.562 L1048.1 190.636 M1048.1 180.543 L1052.36 180.543 L1052.36 185.937 L1048.1 185.937 L1048.1 180.543 Z\" fill=\"#000000\" fill-rule=\"nonzero\" fill-opacity=\"1\" /><path clip-path=\"url(#clip980)\" d=\"M1065.48 183.275 L1065.48 190.636 L1074.26 190.636 L1074.26 193.946 L1065.48 193.946 L1065.48 208.02 Q1065.48 211.191 1066.34 212.094 Q1067.22 212.997 1069.88 212.997 L1074.26 212.997 L1074.26 216.562 L1069.88 216.562 Q1064.95 216.562 1063.08 214.733 Q1061.2 212.881 1061.2 208.02 L1061.2 193.946 L1058.08 193.946 L1058.08 190.636 L1061.2 190.636 L1061.2 183.275 L1065.48 183.275 Z\" fill=\"#000000\" fill-rule=\"nonzero\" fill-opacity=\"1\" /><path clip-path=\"url(#clip980)\" d=\"M1079.42 206.33 L1079.42 190.636 L1083.68 190.636 L1083.68 206.168 Q1083.68 209.849 1085.11 211.7 Q1086.55 213.529 1089.42 213.529 Q1092.87 213.529 1094.86 211.33 Q1096.87 209.131 1096.87 205.335 L1096.87 190.636 L1101.13 190.636 L1101.13 216.562 L1096.87 216.562 L1096.87 212.58 Q1095.32 214.941 1093.26 216.099 Q1091.22 217.233 1088.51 217.233 Q1084.05 217.233 1081.73 214.455 Q1079.42 211.677 1079.42 206.33 M1090.14 190.011 L1090.14 190.011 Z\" fill=\"#000000\" fill-rule=\"nonzero\" fill-opacity=\"1\" /><path clip-path=\"url(#clip980)\" d=\"M1124.93 194.617 Q1124.21 194.201 1123.35 194.015 Q1122.52 193.807 1121.5 193.807 Q1117.89 193.807 1115.95 196.168 Q1114.02 198.506 1114.02 202.904 L1114.02 216.562 L1109.74 216.562 L1109.74 190.636 L1114.02 190.636 L1114.02 194.664 Q1115.37 192.302 1117.52 191.168 Q1119.67 190.011 1122.75 190.011 Q1123.19 190.011 1123.72 190.08 Q1124.26 190.127 1124.9 190.242 L1124.93 194.617 Z\" fill=\"#000000\" fill-rule=\"nonzero\" fill-opacity=\"1\" /><path clip-path=\"url(#clip980)\" d=\"M1150.53 202.534 L1150.53 204.617 L1130.95 204.617 Q1131.22 209.015 1133.58 211.33 Q1135.97 213.622 1140.2 213.622 Q1142.66 213.622 1144.95 213.02 Q1147.26 212.418 1149.53 211.214 L1149.53 215.242 Q1147.24 216.214 1144.83 216.724 Q1142.43 217.233 1139.95 217.233 Q1133.75 217.233 1130.11 213.622 Q1126.5 210.011 1126.5 203.853 Q1126.5 197.488 1129.93 193.761 Q1133.38 190.011 1139.21 190.011 Q1144.44 190.011 1147.47 193.39 Q1150.53 196.747 1150.53 202.534 M1146.27 201.284 Q1146.22 197.789 1144.3 195.705 Q1142.4 193.622 1139.26 193.622 Q1135.69 193.622 1133.54 195.636 Q1131.41 197.65 1131.08 201.307 L1146.27 201.284 Z\" fill=\"#000000\" fill-rule=\"nonzero\" fill-opacity=\"1\" /><path clip-path=\"url(#clip980)\" d=\"M1177.22 224.432 L1177.22 227.742 L1152.59 227.742 L1152.59 224.432 L1177.22 224.432 Z\" fill=\"#000000\" fill-rule=\"nonzero\" fill-opacity=\"1\" /><path clip-path=\"url(#clip980)\" d=\"M1181.22 190.636 L1185.48 190.636 L1185.48 216.562 L1181.22 216.562 L1181.22 190.636 M1181.22 180.543 L1185.48 180.543 L1185.48 185.937 L1181.22 185.937 L1181.22 180.543 Z\" fill=\"#000000\" fill-rule=\"nonzero\" fill-opacity=\"1\" /><path clip-path=\"url(#clip980)\" d=\"M1215.94 200.913 L1215.94 216.562 L1211.69 216.562 L1211.69 201.052 Q1211.69 197.372 1210.25 195.543 Q1208.82 193.714 1205.94 193.714 Q1202.5 193.714 1200.51 195.914 Q1198.51 198.113 1198.51 201.909 L1198.51 216.562 L1194.23 216.562 L1194.23 190.636 L1198.51 190.636 L1198.51 194.664 Q1200.04 192.326 1202.1 191.168 Q1204.19 190.011 1206.89 190.011 Q1211.36 190.011 1213.65 192.789 Q1215.94 195.543 1215.94 200.913 Z\" fill=\"#000000\" fill-rule=\"nonzero\" fill-opacity=\"1\" /><path clip-path=\"url(#clip980)\" d=\"M1224.44 190.636 L1228.7 190.636 L1228.7 216.562 L1224.44 216.562 L1224.44 190.636 M1224.44 180.543 L1228.7 180.543 L1228.7 185.937 L1224.44 185.937 L1224.44 180.543 Z\" fill=\"#000000\" fill-rule=\"nonzero\" fill-opacity=\"1\" /><path clip-path=\"url(#clip980)\" d=\"M1241.82 183.275 L1241.82 190.636 L1250.6 190.636 L1250.6 193.946 L1241.82 193.946 L1241.82 208.02 Q1241.82 211.191 1242.68 212.094 Q1243.56 212.997 1246.22 212.997 L1250.6 212.997 L1250.6 216.562 L1246.22 216.562 Q1241.29 216.562 1239.42 214.733 Q1237.54 212.881 1237.54 208.02 L1237.54 193.946 L1234.42 193.946 L1234.42 190.636 L1237.54 190.636 L1237.54 183.275 L1241.82 183.275 Z\" fill=\"#000000\" fill-rule=\"nonzero\" fill-opacity=\"1\" /><path clip-path=\"url(#clip980)\" d=\"M1256.2 190.636 L1260.46 190.636 L1260.46 216.562 L1256.2 216.562 L1256.2 190.636 M1256.2 180.543 L1260.46 180.543 L1260.46 185.937 L1256.2 185.937 L1256.2 180.543 Z\" fill=\"#000000\" fill-rule=\"nonzero\" fill-opacity=\"1\" /><path clip-path=\"url(#clip980)\" d=\"M1281.15 203.529 Q1275.99 203.529 1274 204.71 Q1272.01 205.89 1272.01 208.738 Q1272.01 211.006 1273.49 212.349 Q1275 213.668 1277.56 213.668 Q1281.11 213.668 1283.24 211.168 Q1285.39 208.645 1285.39 204.478 L1285.39 203.529 L1281.15 203.529 M1289.65 201.77 L1289.65 216.562 L1285.39 216.562 L1285.39 212.626 Q1283.93 214.987 1281.75 216.122 Q1279.58 217.233 1276.43 217.233 Q1272.45 217.233 1270.09 215.011 Q1267.75 212.765 1267.75 209.015 Q1267.75 204.64 1270.67 202.418 Q1273.61 200.196 1279.42 200.196 L1285.39 200.196 L1285.39 199.779 Q1285.39 196.839 1283.44 195.242 Q1281.52 193.622 1278.03 193.622 Q1275.81 193.622 1273.7 194.154 Q1271.59 194.687 1269.65 195.751 L1269.65 191.816 Q1271.99 190.914 1274.19 190.474 Q1276.38 190.011 1278.47 190.011 Q1284.09 190.011 1286.87 192.927 Q1289.65 195.844 1289.65 201.77 Z\" fill=\"#000000\" fill-rule=\"nonzero\" fill-opacity=\"1\" /><path clip-path=\"url(#clip980)\" d=\"M1298.42 180.543 L1302.68 180.543 L1302.68 216.562 L1298.42 216.562 L1298.42 180.543 Z\" fill=\"#000000\" fill-rule=\"nonzero\" fill-opacity=\"1\" /><polyline clip-path=\"url(#clip980)\" style=\"stroke:#e26f46; stroke-linecap:round; stroke-linejoin:round; stroke-width:4; stroke-opacity:1; fill:none\" points=\"440.583,251.122 629.804,251.122 \"/>\n",
       "<path clip-path=\"url(#clip980)\" d=\"M676.526 246.457 Q675.809 246.041 674.952 245.855 Q674.119 245.647 673.1 245.647 Q669.489 245.647 667.545 248.008 Q665.624 250.346 665.624 254.744 L665.624 268.402 L661.341 268.402 L661.341 242.476 L665.624 242.476 L665.624 246.504 Q666.966 244.142 669.119 243.008 Q671.272 241.851 674.35 241.851 Q674.79 241.851 675.323 241.92 Q675.855 241.967 676.503 242.082 L676.526 246.457 Z\" fill=\"#000000\" fill-rule=\"nonzero\" fill-opacity=\"1\" /><path clip-path=\"url(#clip980)\" d=\"M702.128 254.374 L702.128 256.457 L682.545 256.457 Q682.823 260.855 685.184 263.17 Q687.568 265.462 691.804 265.462 Q694.258 265.462 696.549 264.86 Q698.864 264.258 701.133 263.054 L701.133 267.082 Q698.841 268.054 696.434 268.564 Q694.026 269.073 691.549 269.073 Q685.346 269.073 681.711 265.462 Q678.1 261.851 678.1 255.693 Q678.1 249.328 681.526 245.601 Q684.975 241.851 690.809 241.851 Q696.04 241.851 699.073 245.23 Q702.128 248.587 702.128 254.374 M697.869 253.124 Q697.823 249.629 695.901 247.545 Q694.003 245.462 690.855 245.462 Q687.29 245.462 685.137 247.476 Q683.008 249.49 682.684 253.147 L697.869 253.124 Z\" fill=\"#000000\" fill-rule=\"nonzero\" fill-opacity=\"1\" /><path clip-path=\"url(#clip980)\" d=\"M730.67 252.753 L730.67 268.402 L726.41 268.402 L726.41 252.892 Q726.41 249.212 724.975 247.383 Q723.54 245.554 720.67 245.554 Q717.221 245.554 715.23 247.754 Q713.239 249.953 713.239 253.749 L713.239 268.402 L708.957 268.402 L708.957 242.476 L713.239 242.476 L713.239 246.504 Q714.767 244.166 716.827 243.008 Q718.91 241.851 721.619 241.851 Q726.086 241.851 728.378 244.629 Q730.67 247.383 730.67 252.753 Z\" fill=\"#000000\" fill-rule=\"nonzero\" fill-opacity=\"1\" /><path clip-path=\"url(#clip980)\" d=\"M743.378 235.115 L743.378 242.476 L752.151 242.476 L752.151 245.786 L743.378 245.786 L743.378 259.86 Q743.378 263.031 744.234 263.934 Q745.114 264.837 747.776 264.837 L752.151 264.837 L752.151 268.402 L747.776 268.402 Q742.845 268.402 740.97 266.573 Q739.095 264.721 739.095 259.86 L739.095 245.786 L735.97 245.786 L735.97 242.476 L739.095 242.476 L739.095 235.115 L743.378 235.115 Z\" fill=\"#000000\" fill-rule=\"nonzero\" fill-opacity=\"1\" /><path clip-path=\"url(#clip980)\" d=\"M769.535 255.369 Q764.373 255.369 762.382 256.55 Q760.392 257.73 760.392 260.578 Q760.392 262.846 761.873 264.189 Q763.378 265.508 765.947 265.508 Q769.489 265.508 771.618 263.008 Q773.771 260.485 773.771 256.318 L773.771 255.369 L769.535 255.369 M778.03 253.61 L778.03 268.402 L773.771 268.402 L773.771 264.466 Q772.313 266.827 770.137 267.962 Q767.961 269.073 764.813 269.073 Q760.831 269.073 758.47 266.851 Q756.132 264.605 756.132 260.855 Q756.132 256.48 759.049 254.258 Q761.989 252.036 767.799 252.036 L773.771 252.036 L773.771 251.619 Q773.771 248.679 771.827 247.082 Q769.905 245.462 766.41 245.462 Q764.188 245.462 762.081 245.994 Q759.975 246.527 758.031 247.591 L758.031 243.656 Q760.368 242.754 762.568 242.314 Q764.767 241.851 766.85 241.851 Q772.475 241.851 775.253 244.767 Q778.03 247.684 778.03 253.61 Z\" fill=\"#000000\" fill-rule=\"nonzero\" fill-opacity=\"1\" /><path clip-path=\"url(#clip980)\" d=\"M786.804 232.383 L791.063 232.383 L791.063 268.402 L786.804 268.402 L786.804 232.383 Z\" fill=\"#000000\" fill-rule=\"nonzero\" fill-opacity=\"1\" /><path clip-path=\"url(#clip980)\" d=\"M819.674 276.272 L819.674 279.582 L795.044 279.582 L795.044 276.272 L819.674 276.272 Z\" fill=\"#000000\" fill-rule=\"nonzero\" fill-opacity=\"1\" /><path clip-path=\"url(#clip980)\" d=\"M835.461 255.369 Q830.299 255.369 828.308 256.55 Q826.317 257.73 826.317 260.578 Q826.317 262.846 827.799 264.189 Q829.303 265.508 831.873 265.508 Q835.414 265.508 837.544 263.008 Q839.697 260.485 839.697 256.318 L839.697 255.369 L835.461 255.369 M843.956 253.61 L843.956 268.402 L839.697 268.402 L839.697 264.466 Q838.238 266.827 836.063 267.962 Q833.887 269.073 830.738 269.073 Q826.757 269.073 824.396 266.851 Q822.058 264.605 822.058 260.855 Q822.058 256.48 824.975 254.258 Q827.914 252.036 833.725 252.036 L839.697 252.036 L839.697 251.619 Q839.697 248.679 837.752 247.082 Q835.831 245.462 832.336 245.462 Q830.113 245.462 828.007 245.994 Q825.901 246.527 823.956 247.591 L823.956 243.656 Q826.294 242.754 828.493 242.314 Q830.692 241.851 832.776 241.851 Q838.4 241.851 841.178 244.767 Q843.956 247.684 843.956 253.61 Z\" fill=\"#000000\" fill-rule=\"nonzero\" fill-opacity=\"1\" /><path clip-path=\"url(#clip980)\" d=\"M869.257 243.24 L869.257 247.267 Q867.451 246.341 865.507 245.879 Q863.562 245.416 861.479 245.416 Q858.308 245.416 856.711 246.388 Q855.136 247.36 855.136 249.304 Q855.136 250.786 856.271 251.642 Q857.405 252.476 860.831 253.24 L862.289 253.564 Q866.826 254.536 868.724 256.318 Q870.646 258.078 870.646 261.249 Q870.646 264.86 867.775 266.966 Q864.928 269.073 859.928 269.073 Q857.845 269.073 855.576 268.656 Q853.331 268.263 850.831 267.452 L850.831 263.054 Q853.192 264.281 855.484 264.906 Q857.775 265.508 860.021 265.508 Q863.03 265.508 864.65 264.49 Q866.271 263.448 866.271 261.573 Q866.271 259.837 865.09 258.911 Q863.933 257.985 859.974 257.128 L858.493 256.781 Q854.535 255.948 852.775 254.235 Q851.016 252.499 851.016 249.49 Q851.016 245.832 853.609 243.842 Q856.201 241.851 860.97 241.851 Q863.331 241.851 865.414 242.198 Q867.498 242.545 869.257 243.24 Z\" fill=\"#000000\" fill-rule=\"nonzero\" fill-opacity=\"1\" /><path clip-path=\"url(#clip980)\" d=\"M877.266 232.383 L881.548 232.383 L881.548 253.656 L894.257 242.476 L899.696 242.476 L885.947 254.605 L900.275 268.402 L894.72 268.402 L881.548 255.74 L881.548 268.402 L877.266 268.402 L877.266 232.383 Z\" fill=\"#000000\" fill-rule=\"nonzero\" fill-opacity=\"1\" /><path clip-path=\"url(#clip980)\" d=\"M924.581 276.272 L924.581 279.582 L899.951 279.582 L899.951 276.272 L924.581 276.272 Z\" fill=\"#000000\" fill-rule=\"nonzero\" fill-opacity=\"1\" /><path clip-path=\"url(#clip980)\" d=\"M928.585 242.476 L932.844 242.476 L932.844 268.402 L928.585 268.402 L928.585 242.476 M928.585 232.383 L932.844 232.383 L932.844 237.777 L928.585 237.777 L928.585 232.383 Z\" fill=\"#000000\" fill-rule=\"nonzero\" fill-opacity=\"1\" /><path clip-path=\"url(#clip980)\" d=\"M963.307 252.753 L963.307 268.402 L959.048 268.402 L959.048 252.892 Q959.048 249.212 957.613 247.383 Q956.178 245.554 953.307 245.554 Q949.858 245.554 947.867 247.754 Q945.877 249.953 945.877 253.749 L945.877 268.402 L941.594 268.402 L941.594 242.476 L945.877 242.476 L945.877 246.504 Q947.405 244.166 949.465 243.008 Q951.548 241.851 954.256 241.851 Q958.724 241.851 961.016 244.629 Q963.307 247.383 963.307 252.753 Z\" fill=\"#000000\" fill-rule=\"nonzero\" fill-opacity=\"1\" /><path clip-path=\"url(#clip980)\" d=\"M971.803 242.476 L976.062 242.476 L976.062 268.402 L971.803 268.402 L971.803 242.476 M971.803 232.383 L976.062 232.383 L976.062 237.777 L971.803 237.777 L971.803 232.383 Z\" fill=\"#000000\" fill-rule=\"nonzero\" fill-opacity=\"1\" /><path clip-path=\"url(#clip980)\" d=\"M989.187 235.115 L989.187 242.476 L997.96 242.476 L997.96 245.786 L989.187 245.786 L989.187 259.86 Q989.187 263.031 990.043 263.934 Q990.923 264.837 993.585 264.837 L997.96 264.837 L997.96 268.402 L993.585 268.402 Q988.654 268.402 986.779 266.573 Q984.904 264.721 984.904 259.86 L984.904 245.786 L981.779 245.786 L981.779 242.476 L984.904 242.476 L984.904 235.115 L989.187 235.115 Z\" fill=\"#000000\" fill-rule=\"nonzero\" fill-opacity=\"1\" /><path clip-path=\"url(#clip980)\" d=\"M1003.56 242.476 L1007.82 242.476 L1007.82 268.402 L1003.56 268.402 L1003.56 242.476 M1003.56 232.383 L1007.82 232.383 L1007.82 237.777 L1003.56 237.777 L1003.56 232.383 Z\" fill=\"#000000\" fill-rule=\"nonzero\" fill-opacity=\"1\" /><path clip-path=\"url(#clip980)\" d=\"M1028.52 255.369 Q1023.35 255.369 1021.36 256.55 Q1019.37 257.73 1019.37 260.578 Q1019.37 262.846 1020.85 264.189 Q1022.36 265.508 1024.93 265.508 Q1028.47 265.508 1030.6 263.008 Q1032.75 260.485 1032.75 256.318 L1032.75 255.369 L1028.52 255.369 M1037.01 253.61 L1037.01 268.402 L1032.75 268.402 L1032.75 264.466 Q1031.29 266.827 1029.12 267.962 Q1026.94 269.073 1023.79 269.073 Q1019.81 269.073 1017.45 266.851 Q1015.11 264.605 1015.11 260.855 Q1015.11 256.48 1018.03 254.258 Q1020.97 252.036 1026.78 252.036 L1032.75 252.036 L1032.75 251.619 Q1032.75 248.679 1030.81 247.082 Q1028.89 245.462 1025.39 245.462 Q1023.17 245.462 1021.06 245.994 Q1018.96 246.527 1017.01 247.591 L1017.01 243.656 Q1019.35 242.754 1021.55 242.314 Q1023.75 241.851 1025.83 241.851 Q1031.45 241.851 1034.23 244.767 Q1037.01 247.684 1037.01 253.61 Z\" fill=\"#000000\" fill-rule=\"nonzero\" fill-opacity=\"1\" /><path clip-path=\"url(#clip980)\" d=\"M1045.78 232.383 L1050.04 232.383 L1050.04 268.402 L1045.78 268.402 L1045.78 232.383 Z\" fill=\"#000000\" fill-rule=\"nonzero\" fill-opacity=\"1\" /><polyline clip-path=\"url(#clip980)\" style=\"stroke:#3da44d; stroke-linecap:round; stroke-linejoin:round; stroke-width:4; stroke-opacity:1; fill:none\" points=\"440.583,302.962 629.804,302.962 \"/>\n",
       "<path clip-path=\"url(#clip980)\" d=\"M683.054 304.593 L683.054 320.242 L678.795 320.242 L678.795 304.732 Q678.795 301.052 677.36 299.223 Q675.924 297.394 673.054 297.394 Q669.605 297.394 667.614 299.594 Q665.624 301.793 665.624 305.589 L665.624 320.242 L661.341 320.242 L661.341 284.223 L665.624 284.223 L665.624 298.344 Q667.151 296.006 669.212 294.848 Q671.295 293.691 674.003 293.691 Q678.471 293.691 680.762 296.469 Q683.054 299.223 683.054 304.593 Z\" fill=\"#000000\" fill-rule=\"nonzero\" fill-opacity=\"1\" /><path clip-path=\"url(#clip980)\" d=\"M701.596 297.302 Q698.17 297.302 696.179 299.987 Q694.188 302.649 694.188 307.302 Q694.188 311.955 696.156 314.64 Q698.147 317.302 701.596 317.302 Q704.998 317.302 706.989 314.617 Q708.98 311.931 708.98 307.302 Q708.98 302.695 706.989 300.01 Q704.998 297.302 701.596 297.302 M701.596 293.691 Q707.151 293.691 710.322 297.302 Q713.494 300.913 713.494 307.302 Q713.494 313.668 710.322 317.302 Q707.151 320.913 701.596 320.913 Q696.017 320.913 692.846 317.302 Q689.698 313.668 689.698 307.302 Q689.698 300.913 692.846 297.302 Q696.017 293.691 701.596 293.691 Z\" fill=\"#000000\" fill-rule=\"nonzero\" fill-opacity=\"1\" /><path clip-path=\"url(#clip980)\" d=\"M720.114 310.01 L720.114 294.316 L724.373 294.316 L724.373 309.848 Q724.373 313.529 725.808 315.38 Q727.244 317.209 730.114 317.209 Q733.563 317.209 735.554 315.01 Q737.568 312.811 737.568 309.015 L737.568 294.316 L741.827 294.316 L741.827 320.242 L737.568 320.242 L737.568 316.26 Q736.017 318.621 733.957 319.779 Q731.92 320.913 729.211 320.913 Q724.744 320.913 722.429 318.135 Q720.114 315.357 720.114 310.01 M730.832 293.691 L730.832 293.691 Z\" fill=\"#000000\" fill-rule=\"nonzero\" fill-opacity=\"1\" /><path clip-path=\"url(#clip980)\" d=\"M767.128 295.08 L767.128 299.107 Q765.322 298.181 763.378 297.719 Q761.433 297.256 759.35 297.256 Q756.179 297.256 754.581 298.228 Q753.007 299.2 753.007 301.144 Q753.007 302.626 754.142 303.482 Q755.276 304.316 758.702 305.08 L760.16 305.404 Q764.697 306.376 766.595 308.158 Q768.517 309.918 768.517 313.089 Q768.517 316.7 765.646 318.806 Q762.799 320.913 757.799 320.913 Q755.716 320.913 753.447 320.496 Q751.202 320.103 748.702 319.292 L748.702 314.894 Q751.063 316.121 753.355 316.746 Q755.646 317.348 757.892 317.348 Q760.901 317.348 762.521 316.33 Q764.142 315.288 764.142 313.413 Q764.142 311.677 762.961 310.751 Q761.804 309.825 757.845 308.968 L756.364 308.621 Q752.406 307.788 750.646 306.075 Q748.887 304.339 748.887 301.33 Q748.887 297.672 751.48 295.682 Q754.072 293.691 758.841 293.691 Q761.202 293.691 763.285 294.038 Q765.368 294.385 767.128 295.08 Z\" fill=\"#000000\" fill-rule=\"nonzero\" fill-opacity=\"1\" /><path clip-path=\"url(#clip980)\" d=\"M775.299 294.316 L779.558 294.316 L779.558 320.242 L775.299 320.242 L775.299 294.316 M775.299 284.223 L779.558 284.223 L779.558 289.617 L775.299 289.617 L775.299 284.223 Z\" fill=\"#000000\" fill-rule=\"nonzero\" fill-opacity=\"1\" /><path clip-path=\"url(#clip980)\" d=\"M810.021 304.593 L810.021 320.242 L805.762 320.242 L805.762 304.732 Q805.762 301.052 804.327 299.223 Q802.891 297.394 800.021 297.394 Q796.572 297.394 794.581 299.594 Q792.591 301.793 792.591 305.589 L792.591 320.242 L788.308 320.242 L788.308 294.316 L792.591 294.316 L792.591 298.344 Q794.118 296.006 796.178 294.848 Q798.262 293.691 800.97 293.691 Q805.438 293.691 807.729 296.469 Q810.021 299.223 810.021 304.593 Z\" fill=\"#000000\" fill-rule=\"nonzero\" fill-opacity=\"1\" /><path clip-path=\"url(#clip980)\" d=\"M835.576 306.978 Q835.576 302.348 833.655 299.802 Q831.757 297.256 828.308 297.256 Q824.882 297.256 822.961 299.802 Q821.063 302.348 821.063 306.978 Q821.063 311.584 822.961 314.13 Q824.882 316.677 828.308 316.677 Q831.757 316.677 833.655 314.13 Q835.576 311.584 835.576 306.978 M839.836 317.024 Q839.836 323.644 836.896 326.862 Q833.956 330.103 827.891 330.103 Q825.646 330.103 823.655 329.755 Q821.664 329.431 819.789 328.737 L819.789 324.593 Q821.664 325.612 823.493 326.098 Q825.322 326.584 827.22 326.584 Q831.41 326.584 833.493 324.385 Q835.576 322.209 835.576 317.788 L835.576 315.681 Q834.257 317.973 832.197 319.107 Q830.137 320.242 827.266 320.242 Q822.498 320.242 819.581 316.607 Q816.664 312.973 816.664 306.978 Q816.664 300.959 819.581 297.325 Q822.498 293.691 827.266 293.691 Q830.137 293.691 832.197 294.825 Q834.257 295.959 835.576 298.251 L835.576 294.316 L839.836 294.316 L839.836 317.024 Z\" fill=\"#000000\" fill-rule=\"nonzero\" fill-opacity=\"1\" /><path clip-path=\"url(#clip980)\" d=\"M868.308 328.112 L868.308 331.422 L843.678 331.422 L843.678 328.112 L868.308 328.112 Z\" fill=\"#000000\" fill-rule=\"nonzero\" fill-opacity=\"1\" /><path clip-path=\"url(#clip980)\" d=\"M894.488 306.214 L894.488 308.297 L874.905 308.297 Q875.183 312.695 877.544 315.01 Q879.928 317.302 884.164 317.302 Q886.618 317.302 888.909 316.7 Q891.224 316.098 893.493 314.894 L893.493 318.922 Q891.201 319.894 888.794 320.404 Q886.386 320.913 883.909 320.913 Q877.706 320.913 874.072 317.302 Q870.46 313.691 870.46 307.533 Q870.46 301.168 873.886 297.441 Q877.335 293.691 883.169 293.691 Q888.4 293.691 891.433 297.07 Q894.488 300.427 894.488 306.214 M890.229 304.964 Q890.183 301.469 888.261 299.385 Q886.363 297.302 883.215 297.302 Q879.65 297.302 877.497 299.316 Q875.368 301.33 875.044 304.987 L890.229 304.964 Z\" fill=\"#000000\" fill-rule=\"nonzero\" fill-opacity=\"1\" /><path clip-path=\"url(#clip980)\" d=\"M922.196 294.316 L912.821 306.931 L922.682 320.242 L917.659 320.242 L910.113 310.056 L902.567 320.242 L897.544 320.242 L907.613 306.677 L898.4 294.316 L903.423 294.316 L910.298 303.552 L917.173 294.316 L922.196 294.316 Z\" fill=\"#000000\" fill-rule=\"nonzero\" fill-opacity=\"1\" /><path clip-path=\"url(#clip980)\" d=\"M932.821 316.353 L932.821 330.103 L928.539 330.103 L928.539 294.316 L932.821 294.316 L932.821 298.251 Q934.164 295.936 936.201 294.825 Q938.261 293.691 941.108 293.691 Q945.83 293.691 948.77 297.441 Q951.733 301.191 951.733 307.302 Q951.733 313.413 948.77 317.163 Q945.83 320.913 941.108 320.913 Q938.261 320.913 936.201 319.802 Q934.164 318.667 932.821 316.353 M947.312 307.302 Q947.312 302.603 945.367 299.941 Q943.446 297.256 940.067 297.256 Q936.687 297.256 934.743 299.941 Q932.821 302.603 932.821 307.302 Q932.821 312.001 934.743 314.686 Q936.687 317.348 940.067 317.348 Q943.446 317.348 945.367 314.686 Q947.312 312.001 947.312 307.302 Z\" fill=\"#000000\" fill-rule=\"nonzero\" fill-opacity=\"1\" /><path clip-path=\"url(#clip980)\" d=\"M980.969 306.214 L980.969 308.297 L961.386 308.297 Q961.664 312.695 964.025 315.01 Q966.409 317.302 970.645 317.302 Q973.099 317.302 975.39 316.7 Q977.705 316.098 979.974 314.894 L979.974 318.922 Q977.682 319.894 975.275 320.404 Q972.867 320.913 970.391 320.913 Q964.187 320.913 960.553 317.302 Q956.942 313.691 956.942 307.533 Q956.942 301.168 960.367 297.441 Q963.816 293.691 969.65 293.691 Q974.881 293.691 977.914 297.07 Q980.969 300.427 980.969 306.214 M976.71 304.964 Q976.664 301.469 974.742 299.385 Q972.844 297.302 969.696 297.302 Q966.131 297.302 963.979 299.316 Q961.849 301.33 961.525 304.987 L976.71 304.964 Z\" fill=\"#000000\" fill-rule=\"nonzero\" fill-opacity=\"1\" /><path clip-path=\"url(#clip980)\" d=\"M1009.51 304.593 L1009.51 320.242 L1005.25 320.242 L1005.25 304.732 Q1005.25 301.052 1003.82 299.223 Q1002.38 297.394 999.511 297.394 Q996.062 297.394 994.071 299.594 Q992.08 301.793 992.08 305.589 L992.08 320.242 L987.798 320.242 L987.798 294.316 L992.08 294.316 L992.08 298.344 Q993.608 296.006 995.668 294.848 Q997.751 293.691 1000.46 293.691 Q1004.93 293.691 1007.22 296.469 Q1009.51 299.223 1009.51 304.593 Z\" fill=\"#000000\" fill-rule=\"nonzero\" fill-opacity=\"1\" /><path clip-path=\"url(#clip980)\" d=\"M1035.07 298.251 L1035.07 284.223 L1039.33 284.223 L1039.33 320.242 L1035.07 320.242 L1035.07 316.353 Q1033.72 318.667 1031.66 319.802 Q1029.63 320.913 1026.76 320.913 Q1022.06 320.913 1019.09 317.163 Q1016.15 313.413 1016.15 307.302 Q1016.15 301.191 1019.09 297.441 Q1022.06 293.691 1026.76 293.691 Q1029.63 293.691 1031.66 294.825 Q1033.72 295.936 1035.07 298.251 M1020.55 307.302 Q1020.55 312.001 1022.47 314.686 Q1024.42 317.348 1027.8 317.348 Q1031.18 317.348 1033.12 314.686 Q1035.07 312.001 1035.07 307.302 Q1035.07 302.603 1033.12 299.941 Q1031.18 297.256 1027.8 297.256 Q1024.42 297.256 1022.47 299.941 Q1020.55 302.603 1020.55 307.302 Z\" fill=\"#000000\" fill-rule=\"nonzero\" fill-opacity=\"1\" /><path clip-path=\"url(#clip980)\" d=\"M1048.1 294.316 L1052.36 294.316 L1052.36 320.242 L1048.1 320.242 L1048.1 294.316 M1048.1 284.223 L1052.36 284.223 L1052.36 289.617 L1048.1 289.617 L1048.1 284.223 Z\" fill=\"#000000\" fill-rule=\"nonzero\" fill-opacity=\"1\" /><path clip-path=\"url(#clip980)\" d=\"M1065.48 286.955 L1065.48 294.316 L1074.26 294.316 L1074.26 297.626 L1065.48 297.626 L1065.48 311.7 Q1065.48 314.871 1066.34 315.774 Q1067.22 316.677 1069.88 316.677 L1074.26 316.677 L1074.26 320.242 L1069.88 320.242 Q1064.95 320.242 1063.08 318.413 Q1061.2 316.561 1061.2 311.7 L1061.2 297.626 L1058.08 297.626 L1058.08 294.316 L1061.2 294.316 L1061.2 286.955 L1065.48 286.955 Z\" fill=\"#000000\" fill-rule=\"nonzero\" fill-opacity=\"1\" /><path clip-path=\"url(#clip980)\" d=\"M1079.42 310.01 L1079.42 294.316 L1083.68 294.316 L1083.68 309.848 Q1083.68 313.529 1085.11 315.38 Q1086.55 317.209 1089.42 317.209 Q1092.87 317.209 1094.86 315.01 Q1096.87 312.811 1096.87 309.015 L1096.87 294.316 L1101.13 294.316 L1101.13 320.242 L1096.87 320.242 L1096.87 316.26 Q1095.32 318.621 1093.26 319.779 Q1091.22 320.913 1088.51 320.913 Q1084.05 320.913 1081.73 318.135 Q1079.42 315.357 1079.42 310.01 M1090.14 293.691 L1090.14 293.691 Z\" fill=\"#000000\" fill-rule=\"nonzero\" fill-opacity=\"1\" /><path clip-path=\"url(#clip980)\" d=\"M1124.93 298.297 Q1124.21 297.881 1123.35 297.695 Q1122.52 297.487 1121.5 297.487 Q1117.89 297.487 1115.95 299.848 Q1114.02 302.186 1114.02 306.584 L1114.02 320.242 L1109.74 320.242 L1109.74 294.316 L1114.02 294.316 L1114.02 298.344 Q1115.37 295.982 1117.52 294.848 Q1119.67 293.691 1122.75 293.691 Q1123.19 293.691 1123.72 293.76 Q1124.26 293.807 1124.9 293.922 L1124.93 298.297 Z\" fill=\"#000000\" fill-rule=\"nonzero\" fill-opacity=\"1\" /><path clip-path=\"url(#clip980)\" d=\"M1150.53 306.214 L1150.53 308.297 L1130.95 308.297 Q1131.22 312.695 1133.58 315.01 Q1135.97 317.302 1140.2 317.302 Q1142.66 317.302 1144.95 316.7 Q1147.26 316.098 1149.53 314.894 L1149.53 318.922 Q1147.24 319.894 1144.83 320.404 Q1142.43 320.913 1139.95 320.913 Q1133.75 320.913 1130.11 317.302 Q1126.5 313.691 1126.5 307.533 Q1126.5 301.168 1129.93 297.441 Q1133.38 293.691 1139.21 293.691 Q1144.44 293.691 1147.47 297.07 Q1150.53 300.427 1150.53 306.214 M1146.27 304.964 Q1146.22 301.469 1144.3 299.385 Q1142.4 297.302 1139.26 297.302 Q1135.69 297.302 1133.54 299.316 Q1131.41 301.33 1131.08 304.987 L1146.27 304.964 Z\" fill=\"#000000\" fill-rule=\"nonzero\" fill-opacity=\"1\" /><polyline clip-path=\"url(#clip980)\" style=\"stroke:#c271d2; stroke-linecap:round; stroke-linejoin:round; stroke-width:4; stroke-opacity:1; fill:none\" points=\"440.583,354.802 629.804,354.802 \"/>\n",
       "<path clip-path=\"url(#clip980)\" d=\"M676.526 350.137 Q675.809 349.721 674.952 349.535 Q674.119 349.327 673.1 349.327 Q669.489 349.327 667.545 351.688 Q665.624 354.026 665.624 358.424 L665.624 372.082 L661.341 372.082 L661.341 346.156 L665.624 346.156 L665.624 350.184 Q666.966 347.822 669.119 346.688 Q671.272 345.531 674.35 345.531 Q674.79 345.531 675.323 345.6 Q675.855 345.647 676.503 345.762 L676.526 350.137 Z\" fill=\"#000000\" fill-rule=\"nonzero\" fill-opacity=\"1\" /><path clip-path=\"url(#clip980)\" d=\"M702.128 358.054 L702.128 360.137 L682.545 360.137 Q682.823 364.535 685.184 366.85 Q687.568 369.142 691.804 369.142 Q694.258 369.142 696.549 368.54 Q698.864 367.938 701.133 366.734 L701.133 370.762 Q698.841 371.734 696.434 372.244 Q694.026 372.753 691.549 372.753 Q685.346 372.753 681.711 369.142 Q678.1 365.531 678.1 359.373 Q678.1 353.008 681.526 349.281 Q684.975 345.531 690.809 345.531 Q696.04 345.531 699.073 348.91 Q702.128 352.267 702.128 358.054 M697.869 356.804 Q697.823 353.309 695.901 351.225 Q694.003 349.142 690.855 349.142 Q687.29 349.142 685.137 351.156 Q683.008 353.17 682.684 356.827 L697.869 356.804 Z\" fill=\"#000000\" fill-rule=\"nonzero\" fill-opacity=\"1\" /><path clip-path=\"url(#clip980)\" d=\"M730.67 356.433 L730.67 372.082 L726.41 372.082 L726.41 356.572 Q726.41 352.892 724.975 351.063 Q723.54 349.234 720.67 349.234 Q717.221 349.234 715.23 351.434 Q713.239 353.633 713.239 357.429 L713.239 372.082 L708.957 372.082 L708.957 346.156 L713.239 346.156 L713.239 350.184 Q714.767 347.846 716.827 346.688 Q718.91 345.531 721.619 345.531 Q726.086 345.531 728.378 348.309 Q730.67 351.063 730.67 356.433 Z\" fill=\"#000000\" fill-rule=\"nonzero\" fill-opacity=\"1\" /><path clip-path=\"url(#clip980)\" d=\"M743.378 338.795 L743.378 346.156 L752.151 346.156 L752.151 349.466 L743.378 349.466 L743.378 363.54 Q743.378 366.711 744.234 367.614 Q745.114 368.517 747.776 368.517 L752.151 368.517 L752.151 372.082 L747.776 372.082 Q742.845 372.082 740.97 370.253 Q739.095 368.401 739.095 363.54 L739.095 349.466 L735.97 349.466 L735.97 346.156 L739.095 346.156 L739.095 338.795 L743.378 338.795 Z\" fill=\"#000000\" fill-rule=\"nonzero\" fill-opacity=\"1\" /><path clip-path=\"url(#clip980)\" d=\"M769.535 359.049 Q764.373 359.049 762.382 360.23 Q760.392 361.41 760.392 364.258 Q760.392 366.526 761.873 367.869 Q763.378 369.188 765.947 369.188 Q769.489 369.188 771.618 366.688 Q773.771 364.165 773.771 359.998 L773.771 359.049 L769.535 359.049 M778.03 357.29 L778.03 372.082 L773.771 372.082 L773.771 368.146 Q772.313 370.507 770.137 371.642 Q767.961 372.753 764.813 372.753 Q760.831 372.753 758.47 370.531 Q756.132 368.285 756.132 364.535 Q756.132 360.16 759.049 357.938 Q761.989 355.716 767.799 355.716 L773.771 355.716 L773.771 355.299 Q773.771 352.359 771.827 350.762 Q769.905 349.142 766.41 349.142 Q764.188 349.142 762.081 349.674 Q759.975 350.207 758.031 351.271 L758.031 347.336 Q760.368 346.434 762.568 345.994 Q764.767 345.531 766.85 345.531 Q772.475 345.531 775.253 348.447 Q778.03 351.364 778.03 357.29 Z\" fill=\"#000000\" fill-rule=\"nonzero\" fill-opacity=\"1\" /><path clip-path=\"url(#clip980)\" d=\"M786.804 336.063 L791.063 336.063 L791.063 372.082 L786.804 372.082 L786.804 336.063 Z\" fill=\"#000000\" fill-rule=\"nonzero\" fill-opacity=\"1\" /><path clip-path=\"url(#clip980)\" d=\"M819.674 379.952 L819.674 383.262 L795.044 383.262 L795.044 379.952 L819.674 379.952 Z\" fill=\"#000000\" fill-rule=\"nonzero\" fill-opacity=\"1\" /><path clip-path=\"url(#clip980)\" d=\"M835.461 359.049 Q830.299 359.049 828.308 360.23 Q826.317 361.41 826.317 364.258 Q826.317 366.526 827.799 367.869 Q829.303 369.188 831.873 369.188 Q835.414 369.188 837.544 366.688 Q839.697 364.165 839.697 359.998 L839.697 359.049 L835.461 359.049 M843.956 357.29 L843.956 372.082 L839.697 372.082 L839.697 368.146 Q838.238 370.507 836.063 371.642 Q833.887 372.753 830.738 372.753 Q826.757 372.753 824.396 370.531 Q822.058 368.285 822.058 364.535 Q822.058 360.16 824.975 357.938 Q827.914 355.716 833.725 355.716 L839.697 355.716 L839.697 355.299 Q839.697 352.359 837.752 350.762 Q835.831 349.142 832.336 349.142 Q830.113 349.142 828.007 349.674 Q825.901 350.207 823.956 351.271 L823.956 347.336 Q826.294 346.434 828.493 345.994 Q830.692 345.531 832.776 345.531 Q838.4 345.531 841.178 348.447 Q843.956 351.364 843.956 357.29 Z\" fill=\"#000000\" fill-rule=\"nonzero\" fill-opacity=\"1\" /><path clip-path=\"url(#clip980)\" d=\"M869.257 346.92 L869.257 350.947 Q867.451 350.021 865.507 349.559 Q863.562 349.096 861.479 349.096 Q858.308 349.096 856.711 350.068 Q855.136 351.04 855.136 352.984 Q855.136 354.466 856.271 355.322 Q857.405 356.156 860.831 356.92 L862.289 357.244 Q866.826 358.216 868.724 359.998 Q870.646 361.758 870.646 364.929 Q870.646 368.54 867.775 370.646 Q864.928 372.753 859.928 372.753 Q857.845 372.753 855.576 372.336 Q853.331 371.943 850.831 371.132 L850.831 366.734 Q853.192 367.961 855.484 368.586 Q857.775 369.188 860.021 369.188 Q863.03 369.188 864.65 368.17 Q866.271 367.128 866.271 365.253 Q866.271 363.517 865.09 362.591 Q863.933 361.665 859.974 360.808 L858.493 360.461 Q854.535 359.628 852.775 357.915 Q851.016 356.179 851.016 353.17 Q851.016 349.512 853.609 347.522 Q856.201 345.531 860.97 345.531 Q863.331 345.531 865.414 345.878 Q867.498 346.225 869.257 346.92 Z\" fill=\"#000000\" fill-rule=\"nonzero\" fill-opacity=\"1\" /><path clip-path=\"url(#clip980)\" d=\"M877.266 336.063 L881.548 336.063 L881.548 357.336 L894.257 346.156 L899.696 346.156 L885.947 358.285 L900.275 372.082 L894.72 372.082 L881.548 359.42 L881.548 372.082 L877.266 372.082 L877.266 336.063 Z\" fill=\"#000000\" fill-rule=\"nonzero\" fill-opacity=\"1\" /></svg>\n"
      ]
     },
     "execution_count": 12,
     "metadata": {},
     "output_type": "execute_result"
    }
   ],
   "source": [
    "#adjust the rental prices across town\n",
    "\n",
    "if (N<4000) # run plot only for small number of households (e.g. < 1000)\n",
    "    plot!(collect(1:a_size), [agent_budgets[:,1] house_rentals[:,1]], layout=(1,1), \n",
    "    label=[\"housing_expenditure\" \"rental_ask\"], reuse=true, size = (800,800)) \n",
    "end"
   ]
  },
  {
   "cell_type": "markdown",
   "id": "c549be29-53a1-426e-8a3e-3f9a5ec45280",
   "metadata": {},
   "source": [
    "datadump = hcat(house_rentals,agent_budgets)\n",
    "#filename = \"market_\" * string(SIM_LOOP) * \".csv\"\n",
    "#Model_Functions.saveCSV(filename, datadump)"
   ]
  },
  {
   "cell_type": "markdown",
   "id": "943bed31-6e3b-499a-a9b5-3b1e47e80f89",
   "metadata": {
    "tags": []
   },
   "source": [
    "<img src=\"gameofrent.gif\" width=\"800\" align=\"center\">"
   ]
  },
  {
   "cell_type": "code",
   "execution_count": null,
   "id": "97f14a55-e8f8-4ff3-ad92-391a64fd07e4",
   "metadata": {},
   "outputs": [],
   "source": []
  },
  {
   "cell_type": "markdown",
   "id": "84898b90-4d73-4de9-864c-4d3f8439cbd8",
   "metadata": {},
   "source": [
    "end\n",
    "\n",
    "gif(anim, \"gameofrent.gif\"; fps = 5)\n"
   ]
  },
  {
   "cell_type": "code",
   "execution_count": null,
   "id": "2415a8af-a561-418a-bbda-a450d2754025",
   "metadata": {},
   "outputs": [],
   "source": []
  }
 ],
 "metadata": {
  "kernelspec": {
   "display_name": "Julia 1.8.5",
   "language": "julia",
   "name": "julia-1.8"
  },
  "language_info": {
   "file_extension": ".jl",
   "mimetype": "application/julia",
   "name": "julia",
   "version": "1.8.5"
  }
 },
 "nbformat": 4,
 "nbformat_minor": 5
}
